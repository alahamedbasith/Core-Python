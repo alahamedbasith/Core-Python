{
 "cells": [
  {
   "cell_type": "markdown",
   "id": "fc5c75f1",
   "metadata": {},
   "source": [
    "## Some types patterns"
   ]
  },
  {
   "cell_type": "markdown",
   "id": "54ccf80c",
   "metadata": {},
   "source": [
    "### 1.Number Triangle"
   ]
  },
  {
   "cell_type": "code",
   "execution_count": 1,
   "id": "200a6f9f",
   "metadata": {},
   "outputs": [
    {
     "name": "stdout",
     "output_type": "stream",
     "text": [
      "1  \n",
      "1 2  \n",
      "1 2 3  \n",
      "1 2 3 4  \n",
      "1 2 3 4 5  \n"
     ]
    }
   ],
   "source": [
    "for i in range(1,6):\n",
    "    for j in range(1,i+1):\n",
    "        print(j,end=\" \")\n",
    "    print(\" \")"
   ]
  },
  {
   "cell_type": "markdown",
   "id": "40ee4b4f",
   "metadata": {},
   "source": [
    "### 2.Alphabet Triangle"
   ]
  },
  {
   "cell_type": "code",
   "execution_count": 2,
   "id": "e53ca467",
   "metadata": {},
   "outputs": [
    {
     "name": "stdout",
     "output_type": "stream",
     "text": [
      "A  \n",
      "A B  \n",
      "A B C  \n",
      "A B C D  \n",
      "A B C D E  \n"
     ]
    }
   ],
   "source": [
    "for i in range(65,70):\n",
    "    for j in range(65,i+1):\n",
    "        print(chr(j),end=\" \")\n",
    "    print(\" \")"
   ]
  },
  {
   "cell_type": "markdown",
   "id": "278c220d",
   "metadata": {},
   "source": [
    "### 3.Star Triangle Pattern"
   ]
  },
  {
   "cell_type": "code",
   "execution_count": 3,
   "id": "c8c5d385",
   "metadata": {},
   "outputs": [
    {
     "name": "stdout",
     "output_type": "stream",
     "text": [
      "*  \n",
      "* *  \n",
      "* * *  \n",
      "* * * *  \n",
      "* * * * *  \n"
     ]
    }
   ],
   "source": [
    "for i in range(1,6):\n",
    "    for j in range(1,i+1):\n",
    "        print(\"* \",end=\"\")\n",
    "    print(\" \")"
   ]
  },
  {
   "cell_type": "markdown",
   "id": "41a5cae5",
   "metadata": {},
   "source": [
    "### 4.Number triangle with repeating numbers"
   ]
  },
  {
   "cell_type": "code",
   "execution_count": 4,
   "id": "2048cd1f",
   "metadata": {},
   "outputs": [
    {
     "name": "stdout",
     "output_type": "stream",
     "text": [
      "1  \n",
      "2 2  \n",
      "3 3 3  \n",
      "4 4 4 4  \n",
      "5 5 5 5 5  \n"
     ]
    }
   ],
   "source": [
    "for i in range(1,6):\n",
    "    for j in range(1,i+1):\n",
    "        print(i,end=\" \")\n",
    "    print(\" \")"
   ]
  },
  {
   "cell_type": "markdown",
   "id": "dee2d0c6",
   "metadata": {},
   "source": [
    "### 5.Alphabet triangle with repeating alphabet"
   ]
  },
  {
   "cell_type": "code",
   "execution_count": 5,
   "id": "d792557b",
   "metadata": {},
   "outputs": [
    {
     "name": "stdout",
     "output_type": "stream",
     "text": [
      "A  \n",
      "B B  \n",
      "C C C  \n",
      "D D D D  \n",
      "E E E E E  \n"
     ]
    }
   ],
   "source": [
    "for i in range(65,70):\n",
    "    for j in range(65,i+1):\n",
    "        print(chr(i),end=\" \")\n",
    "    print(\" \")"
   ]
  },
  {
   "cell_type": "markdown",
   "id": "57b78153",
   "metadata": {},
   "source": [
    "### 6.Right-aligned pyramid"
   ]
  },
  {
   "cell_type": "code",
   "execution_count": 6,
   "id": "3435c71b",
   "metadata": {},
   "outputs": [
    {
     "name": "stdout",
     "output_type": "stream",
     "text": [
      "        * \n",
      "      * * \n",
      "    * * * \n",
      "  * * * * \n",
      "* * * * * \n"
     ]
    }
   ],
   "source": [
    "k = 8\n",
    "n = 5\n",
    "for i in range(0,n):\n",
    "    for j in range(0,k):\n",
    "        print(\"\",end=\" \")\n",
    "    k = k - 2\n",
    "    \n",
    "    for j in range(0,i+1):\n",
    "        print(\"* \",end=\"\")\n",
    "    print()"
   ]
  },
  {
   "cell_type": "markdown",
   "id": "6eab78f4",
   "metadata": {},
   "source": [
    "### 7.Number triangle with right alignment"
   ]
  },
  {
   "cell_type": "code",
   "execution_count": 7,
   "id": "10cec6a4",
   "metadata": {},
   "outputs": [
    {
     "name": "stdout",
     "output_type": "stream",
     "text": [
      "        1 \n",
      "       1 2 \n",
      "      1 2 3 \n",
      "     1 2 3 4 \n",
      "    1 2 3 4 5 \n"
     ]
    }
   ],
   "source": [
    "n=5\n",
    "k = 8\n",
    "for i in range(0, n):\n",
    "    for j in range(0, k):\n",
    "        print(\"\",end=\" \")\n",
    "    k = k - 1\n",
    "    x = 1\n",
    "    for j in range(0, i + 1):\n",
    "        print(x, end=\" \")\n",
    "        x += 1\n",
    "    print()"
   ]
  },
  {
   "cell_type": "markdown",
   "id": "45bf5cd4",
   "metadata": {},
   "source": [
    "### 8.Alphabet triangle with right alignment"
   ]
  },
  {
   "cell_type": "code",
   "execution_count": 8,
   "id": "fee3e95b",
   "metadata": {},
   "outputs": [
    {
     "name": "stdout",
     "output_type": "stream",
     "text": [
      "        A \n",
      "       A B \n",
      "      A B C \n",
      "     A B C D \n",
      "    A B C D E \n"
     ]
    }
   ],
   "source": [
    "n=5\n",
    "k = 8\n",
    "for i in range(0, n):\n",
    "    for j in range(0, k):\n",
    "        print(\"\",end=\" \")\n",
    "    k = k - 1\n",
    "    x = 65\n",
    "    for j in range(0, i + 1):\n",
    "        print(chr(x), end=\" \")\n",
    "        x += 1\n",
    "    print()"
   ]
  },
  {
   "cell_type": "markdown",
   "id": "a00e2ea8",
   "metadata": {},
   "source": [
    "### 9.Star pattern triangle with right alignment"
   ]
  },
  {
   "cell_type": "code",
   "execution_count": 9,
   "id": "49fc3b7f",
   "metadata": {},
   "outputs": [
    {
     "name": "stdout",
     "output_type": "stream",
     "text": [
      "        * \n",
      "       * * \n",
      "      * * * \n",
      "     * * * * \n",
      "    * * * * * \n"
     ]
    }
   ],
   "source": [
    "n=5\n",
    "k = 8\n",
    "for i in range(0, n):\n",
    "    for j in range(0, k):\n",
    "        print(\"\",end=\" \")\n",
    "    k = k - 1\n",
    "    for j in range(0, i + 1):\n",
    "        print(\"*\", end=\" \")\n",
    "    print()"
   ]
  },
  {
   "cell_type": "markdown",
   "id": "8d4fa98c",
   "metadata": {},
   "source": [
    "### 10.Inverted Triangle "
   ]
  },
  {
   "cell_type": "code",
   "execution_count": 10,
   "id": "cfadae68",
   "metadata": {},
   "outputs": [
    {
     "name": "stdout",
     "output_type": "stream",
     "text": [
      "* * * * * \n",
      " * * * * \n",
      "  * * * \n",
      "   * * \n",
      "    * \n"
     ]
    }
   ],
   "source": [
    "rows = 5\n",
    "\n",
    "for i in range(rows, 0, -1):\n",
    "    for j in range(0, rows - i):\n",
    "        print(\" \", end=\"\")\n",
    "    for j in range(0, i):\n",
    "        print(\"*\", end=\" \")\n",
    "    print()"
   ]
  },
  {
   "cell_type": "markdown",
   "id": "076d88d6",
   "metadata": {},
   "source": [
    "### 11.Number triangle with right alignment"
   ]
  },
  {
   "cell_type": "code",
   "execution_count": 11,
   "id": "2c1945d2",
   "metadata": {},
   "outputs": [
    {
     "name": "stdout",
     "output_type": "stream",
     "text": [
      "        1 \n",
      "       2 2 \n",
      "      3 3 3 \n",
      "     4 4 4 4 \n",
      "    5 5 5 5 5 \n"
     ]
    }
   ],
   "source": [
    "n=5\n",
    "k = 8\n",
    "x = 0\n",
    "for i in range(0, n):\n",
    "    x += 1\n",
    "    for j in range(0, k):\n",
    "        print(\"\",end=\" \")\n",
    "    k = k - 1\n",
    "    for j in range(0, i + 1):\n",
    "        print(x, end=\" \")\n",
    "    print()"
   ]
  },
  {
   "cell_type": "markdown",
   "id": "d5623c79",
   "metadata": {},
   "source": [
    "### 12.Alphabet triangle with right alignment"
   ]
  },
  {
   "cell_type": "code",
   "execution_count": 12,
   "id": "0d636281",
   "metadata": {},
   "outputs": [
    {
     "name": "stdout",
     "output_type": "stream",
     "text": [
      "        A \n",
      "       B B \n",
      "      C C C \n",
      "     D D D D \n",
      "    E E E E E \n"
     ]
    }
   ],
   "source": [
    "n=5\n",
    "k = 8\n",
    "x = 64\n",
    "for i in range(0, n):\n",
    "    x += 1\n",
    "    for j in range(0, k):\n",
    "        print(\"\",end=\" \")\n",
    "    k = k - 1\n",
    "    for j in range(0, i + 1):\n",
    "        print(chr(x), end=\" \")\n",
    "    print()"
   ]
  },
  {
   "cell_type": "markdown",
   "id": "db0dd272",
   "metadata": {},
   "source": [
    "### 13.Number Pattern reverse right triangle"
   ]
  },
  {
   "cell_type": "code",
   "execution_count": 13,
   "id": "df2458c1",
   "metadata": {},
   "outputs": [
    {
     "name": "stdout",
     "output_type": "stream",
     "text": [
      "1 2 3 4 5 \n",
      "1 2 3 4 \n",
      "1 2 3 \n",
      "1 2 \n",
      "1 \n"
     ]
    }
   ],
   "source": [
    "rows=5\n",
    "for i in range(rows, 0, -1):\n",
    "    for j in range(1, i+1):\n",
    "        print(j, end=\" \")    \n",
    "    print(\"\")"
   ]
  },
  {
   "cell_type": "markdown",
   "id": "f2c81c77",
   "metadata": {},
   "source": [
    "### 14.Number Pattern reverse right triangle"
   ]
  },
  {
   "cell_type": "code",
   "execution_count": 14,
   "id": "e8167532",
   "metadata": {},
   "outputs": [
    {
     "name": "stdout",
     "output_type": "stream",
     "text": [
      "5 4 3 2 1 \n",
      "5 4 3 2 \n",
      "5 4 3 \n",
      "5 4 \n",
      "5 \n",
      "\n"
     ]
    }
   ],
   "source": [
    "rows = 6\n",
    "for i in range(0, rows):\n",
    "    for j in range(rows-1, i, -1):\n",
    "        print(j,  end=\" \")    \n",
    "    print('')"
   ]
  },
  {
   "cell_type": "markdown",
   "id": "c3b77f33",
   "metadata": {},
   "source": [
    "### 15.Right Triangle Star Pattern"
   ]
  },
  {
   "cell_type": "code",
   "execution_count": 15,
   "id": "c3d24d25",
   "metadata": {},
   "outputs": [
    {
     "name": "stdout",
     "output_type": "stream",
     "text": [
      "* \n",
      "* * \n",
      "* * * \n",
      "* * * * \n",
      "* * * * * \n",
      "* * * * \n",
      "* * * \n",
      "* * \n",
      "* \n",
      "\n"
     ]
    }
   ],
   "source": [
    "rows=5\n",
    "for i in range(1,rows+1):\n",
    "    for j in range(1,i+1):\n",
    "        print(\"*\" ,end= \" \")\n",
    "    print(\"\")\n",
    "for i in range(rows, 0, -1):\n",
    "    for j in range(1, i):\n",
    "        print(\"*\", end=\" \")    \n",
    "    print(\"\")"
   ]
  },
  {
   "cell_type": "markdown",
   "id": "e4132ed7",
   "metadata": {},
   "source": [
    "### 16.Right Triangle Reverse Star Pattern"
   ]
  },
  {
   "cell_type": "code",
   "execution_count": 16,
   "id": "08b871dc",
   "metadata": {},
   "outputs": [
    {
     "name": "stdout",
     "output_type": "stream",
     "text": [
      "        *  \n",
      "      * *  \n",
      "    * * *  \n",
      "  * * * *  \n",
      "* * * * *  \n",
      "  * * * *  \n",
      "    * * *  \n",
      "      * *  \n",
      "        *  \n"
     ]
    }
   ],
   "source": [
    "n=5\n",
    "k = 8\n",
    "for i in range(0, n-1):\n",
    "    for j in range(0, k):\n",
    "        print(end=\" \")\n",
    "    k = k - 2\n",
    "    for j in range(0, i + 1):\n",
    "        print(\"* \", end=\"\")\n",
    "    print(\" \")\n",
    "k = -1\n",
    "for i in range(n-1,-1,-1):\n",
    "    for j in range(k,-1,-1):\n",
    "        print(end=\" \")\n",
    "    k = k + 2\n",
    "    for j in range(0, i + 1):\n",
    "        print(\"* \", end=\"\")\n",
    "    print(\" \")"
   ]
  },
  {
   "cell_type": "markdown",
   "id": "47ea2e0b",
   "metadata": {},
   "source": [
    "### 17.Diamond Star Pattern Followed by a lower triangle and upper triangle"
   ]
  },
  {
   "cell_type": "code",
   "execution_count": 17,
   "id": "78d6a5fd",
   "metadata": {},
   "outputs": [
    {
     "name": "stdout",
     "output_type": "stream",
     "text": [
      "* * * * * \n",
      "* * * * \n",
      "* * * \n",
      "* * \n",
      "* \n",
      "* * \n",
      "* * * \n",
      "* * * * \n",
      "* * * * * \n"
     ]
    }
   ],
   "source": [
    "rows=5\n",
    "for i in range(rows, 0, -1):\n",
    "    for j in range(1, i+1):\n",
    "        print(\"*\", end=\" \")    \n",
    "    print(\"\")\n",
    "for i in range(2,rows+1):\n",
    "    for j in range(1,i+1):\n",
    "        print(\"*\" ,end= \" \")\n",
    "    print(\"\")"
   ]
  },
  {
   "cell_type": "markdown",
   "id": "4893eafc",
   "metadata": {},
   "source": [
    "### 18.Diamond Cut Pattern"
   ]
  },
  {
   "cell_type": "code",
   "execution_count": 18,
   "id": "944a2f79",
   "metadata": {},
   "outputs": [
    {
     "name": "stdout",
     "output_type": "stream",
     "text": [
      "        * \n",
      "       * * \n",
      "      * * * \n",
      "     * * * * \n",
      "    * * * * * \n",
      "* * * * * \n",
      " * * * * \n",
      "  * * * \n",
      "   * * \n",
      "    * \n"
     ]
    }
   ],
   "source": [
    "n=5\n",
    "k = 8\n",
    "for i in range(0, n):\n",
    "    for j in range(0, k):\n",
    "        print(\"\",end=\" \")\n",
    "    k = k - 1\n",
    "    for j in range(0, i + 1):\n",
    "        print(\"*\", end=\" \")\n",
    "    print()\n",
    "rows = 5\n",
    "\n",
    "for i in range(rows, 0, -1):\n",
    "    for j in range(0, rows - i):\n",
    "        print(\" \", end=\"\")\n",
    "    for j in range(0, i):\n",
    "        print(\"*\", end=\" \")\n",
    "    print()"
   ]
  },
  {
   "cell_type": "markdown",
   "id": "ee81c77d",
   "metadata": {},
   "source": [
    "### 19.Improper Diamond Star pattern"
   ]
  },
  {
   "cell_type": "code",
   "execution_count": 19,
   "id": "17e52ce1",
   "metadata": {},
   "outputs": [
    {
     "name": "stdout",
     "output_type": "stream",
     "text": [
      "        * \n",
      "       * * \n",
      "      * * * \n",
      "     * * * * \n",
      "    * * * * * \n",
      "    * * * * \n",
      "     * * * \n",
      "      * * \n",
      "       * \n"
     ]
    }
   ],
   "source": [
    "n = 5\n",
    "k = 8\n",
    "\n",
    "# Upper half of the diamond\n",
    "for i in range(0, n):\n",
    "    for j in range(0, k):\n",
    "        print(\" \", end=\"\")\n",
    "    k = k - 1\n",
    "    for j in range(0, i + 1):\n",
    "        print(\"*\", end=\" \")\n",
    "    print()\n",
    "\n",
    "# Lower half of the diamond\n",
    "rows = 4\n",
    "k = 8 - n  # Resetting k value for lower half\n",
    "\n",
    "for i in range(rows, 0, -1):\n",
    "    for j in range(0, k):\n",
    "        print(\" \", end=\"\")\n",
    "    k = k + 1\n",
    "    for j in range(0, i):\n",
    "        print(\" *\", end=\"\")\n",
    "    print(\" \")\n"
   ]
  },
  {
   "cell_type": "markdown",
   "id": "13d019e4",
   "metadata": {},
   "source": [
    "### 20.Proper Diamond Pattern"
   ]
  },
  {
   "cell_type": "code",
   "execution_count": 20,
   "id": "40e1092b",
   "metadata": {},
   "outputs": [
    {
     "name": "stdout",
     "output_type": "stream",
     "text": [
      "    *\n",
      "   ***\n",
      "  *****\n",
      " *******\n",
      "*********\n",
      " *******\n",
      "  *****\n",
      "   ***\n",
      "    *\n"
     ]
    }
   ],
   "source": [
    "n = 5\n",
    "for i in range(n):\n",
    "    for j in range(n - i - 1):\n",
    "        print(\" \", end=\"\")\n",
    "    for k in range(2 * i + 1):\n",
    "        print(\"*\", end=\"\")\n",
    "    print()\n",
    "for i in range(1,n):\n",
    "    for j in range(i):\n",
    "        print(\" \", end=\"\")\n",
    "    for j in range(2*(n-i)-1):\n",
    "        print(\"*\", end=\"\")\n",
    "    print()"
   ]
  },
  {
   "cell_type": "markdown",
   "id": "f4b98a6d",
   "metadata": {},
   "source": [
    "#### Prepared By,\n",
    "Ahamed Basith"
   ]
  },
  {
   "cell_type": "code",
   "execution_count": null,
   "id": "c7e3c254",
   "metadata": {},
   "outputs": [],
   "source": []
  }
 ],
 "metadata": {
  "kernelspec": {
   "display_name": "Python 3 (ipykernel)",
   "language": "python",
   "name": "python3"
  },
  "language_info": {
   "codemirror_mode": {
    "name": "ipython",
    "version": 3
   },
   "file_extension": ".py",
   "mimetype": "text/x-python",
   "name": "python",
   "nbconvert_exporter": "python",
   "pygments_lexer": "ipython3",
   "version": "3.11.5"
  }
 },
 "nbformat": 4,
 "nbformat_minor": 5
}
