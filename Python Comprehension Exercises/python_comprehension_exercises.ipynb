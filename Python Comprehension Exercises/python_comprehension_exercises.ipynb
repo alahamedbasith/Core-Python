{
 "cells": [
  {
   "cell_type": "markdown",
   "id": "9411433c",
   "metadata": {},
   "source": [
    "## List Comprehension Exercises"
   ]
  },
  {
   "cell_type": "markdown",
   "id": "d219b9bb",
   "metadata": {},
   "source": [
    "### 1.Create a List of Squares of numbers from 1 to 10"
   ]
  },
  {
   "cell_type": "code",
   "execution_count": 1,
   "id": "b9ecbb96",
   "metadata": {},
   "outputs": [
    {
     "name": "stdout",
     "output_type": "stream",
     "text": [
      "[1, 4, 9, 16, 25, 36, 49, 64, 81, 100]\n"
     ]
    }
   ],
   "source": [
    "squares = [x**2 for x in range(1, 11)]\n",
    "print(squares)"
   ]
  },
  {
   "cell_type": "markdown",
   "id": "0bf2f3eb",
   "metadata": {},
   "source": [
    "### 2.Removing whitespace from strings in a list"
   ]
  },
  {
   "cell_type": "code",
   "execution_count": 2,
   "id": "a76e37e7",
   "metadata": {},
   "outputs": [
    {
     "name": "stdout",
     "output_type": "stream",
     "text": [
      "['  hello  ', '  world  ', '  python  ']\n",
      "['hello', 'world', 'python']\n"
     ]
    }
   ],
   "source": [
    "strings = [\"  hello  \", \"  world  \", \"  python  \"]\n",
    "trimmed = [string.strip() for string in strings]\n",
    "print(strings)\n",
    "print(trimmed)"
   ]
  },
  {
   "cell_type": "markdown",
   "id": "40325d75",
   "metadata": {},
   "source": [
    "### 3.List of characters that are vowels or consonants"
   ]
  },
  {
   "cell_type": "code",
   "execution_count": 3,
   "id": "03fed287",
   "metadata": {},
   "outputs": [
    {
     "name": "stdout",
     "output_type": "stream",
     "text": [
      "['a', 'b', 'c', 'e', 'f', 'i', 'o']\n",
      "['a', 'e', 'i', 'o']\n",
      "['b', 'c', 'f']\n"
     ]
    }
   ],
   "source": [
    "characters = ['a', 'b', 'c', 'e', 'f', 'i', 'o']\n",
    "vowels = [char for char in characters if char.lower() in 'aeiou']\n",
    "consonants = [char for char in characters if char.lower() not in 'aeiou']\n",
    "print(characters)\n",
    "print(vowels)\n",
    "print(consonants)"
   ]
  },
  {
   "cell_type": "markdown",
   "id": "b18d561f",
   "metadata": {},
   "source": [
    "### 4.Generate a list of numbers that are palindromes from 1 to 100"
   ]
  },
  {
   "cell_type": "code",
   "execution_count": 4,
   "id": "eb32ccf2",
   "metadata": {},
   "outputs": [
    {
     "name": "stdout",
     "output_type": "stream",
     "text": [
      "[1, 2, 3, 4, 5, 6, 7, 8, 9, 11, 22, 33, 44, 55, 66, 77, 88, 99]\n"
     ]
    }
   ],
   "source": [
    "palindromes = [x for x in range(1, 101) if str(x) == str(x)[::-1]]\n",
    "print(palindromes)"
   ]
  },
  {
   "cell_type": "markdown",
   "id": "71abb03c",
   "metadata": {},
   "source": [
    "### 5.Create a list of lengths of words in a sentence"
   ]
  },
  {
   "cell_type": "code",
   "execution_count": 5,
   "id": "68f5491b",
   "metadata": {},
   "outputs": [
    {
     "name": "stdout",
     "output_type": "stream",
     "text": [
      "This is a sample sentence.\n",
      "[4, 2, 1, 6, 9]\n"
     ]
    }
   ],
   "source": [
    "sentence = \"This is a sample sentence.\"\n",
    "word_lengths = [len(word) for word in sentence.split()]\n",
    "print(sentence)\n",
    "print(word_lengths)"
   ]
  },
  {
   "cell_type": "markdown",
   "id": "8203239c",
   "metadata": {},
   "source": [
    "## Tuple Comprehension Exercises"
   ]
  },
  {
   "cell_type": "markdown",
   "id": "22d7209d",
   "metadata": {},
   "source": [
    "### 1.Even numbers from 1 to 20 as tuples"
   ]
  },
  {
   "cell_type": "code",
   "execution_count": 6,
   "id": "f928774f",
   "metadata": {},
   "outputs": [
    {
     "name": "stdout",
     "output_type": "stream",
     "text": [
      "(2, 4, 6, 8, 10, 12, 14, 16, 18, 20)\n"
     ]
    }
   ],
   "source": [
    "evens = tuple(x for x in range(1, 21) if x % 2 == 0)\n",
    "print(evens)"
   ]
  },
  {
   "cell_type": "markdown",
   "id": "e6d7dced",
   "metadata": {},
   "source": [
    "### 2.Tuple of characters in a string in Python"
   ]
  },
  {
   "cell_type": "code",
   "execution_count": 7,
   "id": "2447c11b",
   "metadata": {},
   "outputs": [
    {
     "name": "stdout",
     "output_type": "stream",
     "text": [
      "hello\n",
      "('h', 'e', 'l', 'l', 'o')\n"
     ]
    }
   ],
   "source": [
    "string = \"hello\"\n",
    "char_tuple = tuple(char for char in string)\n",
    "print(string)\n",
    "print(char_tuple)"
   ]
  },
  {
   "cell_type": "markdown",
   "id": "74ccf14d",
   "metadata": {},
   "source": [
    "### 3.Length of words in a sentence as tuples in Python"
   ]
  },
  {
   "cell_type": "code",
   "execution_count": 8,
   "id": "c88a4a4f",
   "metadata": {},
   "outputs": [
    {
     "name": "stdout",
     "output_type": "stream",
     "text": [
      "This is a sample sentence\n",
      "(4, 2, 1, 6, 8)\n"
     ]
    }
   ],
   "source": [
    "sentence = \"This is a sample sentence\"\n",
    "word_lengths = tuple(len(word) for word in sentence.split())\n",
    "print(sentence)\n",
    "print(word_lengths)"
   ]
  },
  {
   "cell_type": "markdown",
   "id": "6bb0e2da",
   "metadata": {},
   "source": [
    "### 4.Tuple of distinct characters in a list of strings in Python"
   ]
  },
  {
   "cell_type": "code",
   "execution_count": 9,
   "id": "d6f0e86f",
   "metadata": {},
   "outputs": [
    {
     "name": "stdout",
     "output_type": "stream",
     "text": [
      "['apple', 'banana', 'cherry']\n",
      "('a', 'p', 'p', 'l', 'e', 'b', 'a', 'n', 'a', 'n', 'a', 'c', 'h', 'e', 'r', 'r', 'y')\n"
     ]
    }
   ],
   "source": [
    "strings = [\"apple\", \"banana\", \"cherry\"]\n",
    "distinct_chars = tuple(char for string in strings for char in string)\n",
    "print(strings)\n",
    "print(distinct_chars)"
   ]
  },
  {
   "cell_type": "markdown",
   "id": "33b861d8",
   "metadata": {},
   "source": [
    "### 5.Tuple of ASCII values for characters in a string in Python"
   ]
  },
  {
   "cell_type": "code",
   "execution_count": 10,
   "id": "1ac314cb",
   "metadata": {},
   "outputs": [
    {
     "name": "stdout",
     "output_type": "stream",
     "text": [
      "hello\n",
      "(104, 101, 108, 108, 111)\n"
     ]
    }
   ],
   "source": [
    "string = \"hello\"\n",
    "ascii_values = tuple(ord(char) for char in string)\n",
    "print(string)\n",
    "print(ascii_values)"
   ]
  },
  {
   "cell_type": "markdown",
   "id": "9e4dfc18",
   "metadata": {},
   "source": [
    "## Set Comprehension Exercises"
   ]
  },
  {
   "cell_type": "markdown",
   "id": "ebc0ecc9",
   "metadata": {},
   "source": [
    "### 1.Generate a set of common multiples of 3 and 5 up to 100"
   ]
  },
  {
   "cell_type": "code",
   "execution_count": 11,
   "id": "03218e91",
   "metadata": {},
   "outputs": [
    {
     "name": "stdout",
     "output_type": "stream",
     "text": [
      "{75, 45, 15, 90, 60, 30}\n"
     ]
    }
   ],
   "source": [
    "common_multiples = {x for x in range(1, 101) if x % 3 == 0 and x % 5 == 0}\n",
    "print(common_multiples)"
   ]
  },
  {
   "cell_type": "markdown",
   "id": "13bbcffc",
   "metadata": {},
   "source": [
    "### 2.Create a set of reversed strings from another set"
   ]
  },
  {
   "cell_type": "code",
   "execution_count": 12,
   "id": "c9264032",
   "metadata": {},
   "outputs": [
    {
     "name": "stdout",
     "output_type": "stream",
     "text": [
      "{'banana', 'apple', 'cherry'}\n",
      "{'ananab', 'yrrehc', 'elppa'}\n"
     ]
    }
   ],
   "source": [
    "words = {\"apple\", \"banana\", \"cherry\"}\n",
    "reversed_words = {word[::-1] for word in words}\n",
    "print(words)\n",
    "print(reversed_words)"
   ]
  },
  {
   "cell_type": "markdown",
   "id": "e1db64ff",
   "metadata": {},
   "source": [
    "### 3.Create a set of uppercase words from a sentence"
   ]
  },
  {
   "cell_type": "code",
   "execution_count": 13,
   "id": "16118748",
   "metadata": {},
   "outputs": [
    {
     "name": "stdout",
     "output_type": "stream",
     "text": [
      "This is a sample sentence\n",
      "{'SAMPLE', 'SENTENCE', 'A', 'IS', 'THIS'}\n"
     ]
    }
   ],
   "source": [
    "sentence = \"This is a sample sentence\"\n",
    "uppercase_words = {word.upper() for word in sentence.split()}\n",
    "print(sentence)\n",
    "print(uppercase_words)"
   ]
  },
  {
   "cell_type": "markdown",
   "id": "e4a410de",
   "metadata": {},
   "source": [
    "### 4.Tuple of odd numbers from 1 to 20 in Python"
   ]
  },
  {
   "cell_type": "code",
   "execution_count": 14,
   "id": "525b0b97",
   "metadata": {},
   "outputs": [
    {
     "name": "stdout",
     "output_type": "stream",
     "text": [
      "(1, 3, 5, 7, 9, 11, 13, 15, 17, 19)\n"
     ]
    }
   ],
   "source": [
    "odds = tuple(x for x in range(1, 21) if x % 2 != 0)\n",
    "print(odds)"
   ]
  },
  {
   "cell_type": "markdown",
   "id": "4f32abf1",
   "metadata": {},
   "source": [
    "### 5.Tuple of prime numbers up to 50 in Python"
   ]
  },
  {
   "cell_type": "code",
   "execution_count": 15,
   "id": "770cc35d",
   "metadata": {},
   "outputs": [
    {
     "name": "stdout",
     "output_type": "stream",
     "text": [
      "(2, 3, 5, 7, 11, 13, 17, 19, 23, 29, 31, 37, 41, 43, 47)\n"
     ]
    }
   ],
   "source": [
    "def is_prime(n):\n",
    "    if n <= 1:\n",
    "        return False\n",
    "    for i in range(2, int(n**0.5) + 1):\n",
    "        if n % i == 0:\n",
    "            return False\n",
    "    return True\n",
    " \n",
    "primes = tuple(x for x in range(2, 51) if is_prime(x))\n",
    "print(primes)"
   ]
  },
  {
   "cell_type": "markdown",
   "id": "bdb18fd5",
   "metadata": {},
   "source": [
    "## Dictionary Comprehension Exercises"
   ]
  },
  {
   "cell_type": "markdown",
   "id": "871ba0ce",
   "metadata": {},
   "source": [
    "### 1.Create a dictionary of words with the letters sorted"
   ]
  },
  {
   "cell_type": "code",
   "execution_count": 16,
   "id": "2f9a8400",
   "metadata": {},
   "outputs": [
    {
     "name": "stdout",
     "output_type": "stream",
     "text": [
      "['python', 'programming', 'language']\n",
      "{'python': 'hnopty', 'programming': 'aggimmnoprr', 'language': 'aaegglnu'}\n"
     ]
    }
   ],
   "source": [
    "words = ['python', 'programming', 'language']\n",
    "sorted_letters = {word: ''.join(sorted(word)) for word in words}\n",
    "print(words)\n",
    "print(sorted_letters)"
   ]
  },
  {
   "cell_type": "markdown",
   "id": "4dfbeb03",
   "metadata": {},
   "source": [
    "### 2.Create a dictionary of characters and their frequency in a string"
   ]
  },
  {
   "cell_type": "code",
   "execution_count": 17,
   "id": "7165a93f",
   "metadata": {},
   "outputs": [
    {
     "name": "stdout",
     "output_type": "stream",
     "text": [
      "hello world\n",
      "{'w': 1, 'l': 3, 'h': 1, 'r': 1, 'e': 1, ' ': 1, 'o': 2, 'd': 1}\n"
     ]
    }
   ],
   "source": [
    "text = \"hello world\"\n",
    "char_frequency = {char: text.count(char) for char in set(text)}\n",
    "print(text)\n",
    "print(char_frequency)"
   ]
  },
  {
   "cell_type": "markdown",
   "id": "6eff3cfc",
   "metadata": {},
   "source": [
    "### 3.Create a dictionary of numbers and their factors"
   ]
  },
  {
   "cell_type": "code",
   "execution_count": 18,
   "id": "810cca96",
   "metadata": {},
   "outputs": [
    {
     "name": "stdout",
     "output_type": "stream",
     "text": [
      "[1, 2, 3, 4, 5]\n",
      "{1: [1], 2: [1, 2], 3: [1, 3], 4: [1, 2, 4], 5: [1, 5]}\n"
     ]
    }
   ],
   "source": [
    "numbers = [1, 2, 3, 4, 5]\n",
    "factors = {x: [i for i in range(1, x + 1) if x % i == 0] for x in numbers}\n",
    "print(numbers)\n",
    "print(factors)"
   ]
  },
  {
   "cell_type": "markdown",
   "id": "b0b09db3",
   "metadata": {},
   "source": [
    "### 4.Create a dictionary of numbers and their binary representations"
   ]
  },
  {
   "cell_type": "code",
   "execution_count": 19,
   "id": "522e14c9",
   "metadata": {},
   "outputs": [
    {
     "name": "stdout",
     "output_type": "stream",
     "text": [
      "[1, 2, 3, 4, 5]\n",
      "{1: '0b1', 2: '0b10', 3: '0b11', 4: '0b100', 5: '0b101'}\n"
     ]
    }
   ],
   "source": [
    "numbers = [1, 2, 3, 4, 5]\n",
    "binary_representations = {x: bin(x) for x in numbers}\n",
    "print(numbers)\n",
    "print(binary_representations)"
   ]
  },
  {
   "cell_type": "markdown",
   "id": "9a4615bf",
   "metadata": {},
   "source": [
    "### 5.Create a dictionary of words and their lengths, but only for words with more than 5 letters"
   ]
  },
  {
   "cell_type": "code",
   "execution_count": 20,
   "id": "1d23aa4e",
   "metadata": {},
   "outputs": [
    {
     "name": "stdout",
     "output_type": "stream",
     "text": [
      "['apple', 'banana', 'cherry', 'date']\n",
      "{'banana': 6, 'cherry': 6}\n"
     ]
    }
   ],
   "source": [
    "words = ['apple', 'banana', 'cherry', 'date']\n",
    "long_word_lengths = {word: len(word) for word in words if len(word) > 5}\n",
    "print(words)\n",
    "print(long_word_lengths)"
   ]
  },
  {
   "cell_type": "markdown",
   "id": "d1182897",
   "metadata": {},
   "source": [
    "#### Prepared By,\n",
    "Ahamed Basith"
   ]
  },
  {
   "cell_type": "markdown",
   "id": "b536d68b",
   "metadata": {},
   "source": []
  }
 ],
 "metadata": {
  "kernelspec": {
   "display_name": "Python 3 (ipykernel)",
   "language": "python",
   "name": "python3"
  },
  "language_info": {
   "codemirror_mode": {
    "name": "ipython",
    "version": 3
   },
   "file_extension": ".py",
   "mimetype": "text/x-python",
   "name": "python",
   "nbconvert_exporter": "python",
   "pygments_lexer": "ipython3",
   "version": "3.11.5"
  }
 },
 "nbformat": 4,
 "nbformat_minor": 5
}
