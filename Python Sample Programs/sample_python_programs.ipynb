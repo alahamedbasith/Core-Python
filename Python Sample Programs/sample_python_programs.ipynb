{
 "cells": [
  {
   "cell_type": "markdown",
   "id": "5fee63b1",
   "metadata": {},
   "source": [
    "## Some Sample Programs"
   ]
  },
  {
   "cell_type": "markdown",
   "id": "2d2b9e0f",
   "metadata": {},
   "source": [
    "#### 1.Write a program to find the factorial of the given number x."
   ]
  },
  {
   "cell_type": "code",
   "execution_count": 1,
   "id": "6eb31817",
   "metadata": {},
   "outputs": [
    {
     "data": {
      "text/plain": [
       "120"
      ]
     },
     "execution_count": 1,
     "metadata": {},
     "output_type": "execute_result"
    }
   ],
   "source": [
    "def fact(x):\n",
    "    if x == 0:\n",
    "        return 0\n",
    "    elif x == 1:\n",
    "        return 1\n",
    "    else:\n",
    "        return x * fact(x-1)\n",
    "\n",
    "fact(5)"
   ]
  },
  {
   "cell_type": "markdown",
   "id": "97f2821b",
   "metadata": {},
   "source": [
    "#### 2.Write a program to find the factor of the given number"
   ]
  },
  {
   "cell_type": "code",
   "execution_count": 2,
   "id": "1b0960b0",
   "metadata": {},
   "outputs": [
    {
     "name": "stdout",
     "output_type": "stream",
     "text": [
      "Enter the Number:10\n",
      "1\n",
      "2\n",
      "5\n",
      "10\n"
     ]
    }
   ],
   "source": [
    "def factor(x):\n",
    "    for i in range(1,x+1):\n",
    "        if x % i == 0:\n",
    "            print(i)\n",
    "num = int(input(\"Enter the Number:\"))\n",
    "factor(num)"
   ]
  },
  {
   "cell_type": "markdown",
   "id": "28388ee3",
   "metadata": {},
   "source": [
    "#### 3.Write a program to find the given number is Armstrong number or not."
   ]
  },
  {
   "cell_type": "code",
   "execution_count": 3,
   "id": "77569f79",
   "metadata": {},
   "outputs": [
    {
     "name": "stdout",
     "output_type": "stream",
     "text": [
      "Enter the Number:153\n",
      "Armstrong Number\n"
     ]
    }
   ],
   "source": [
    "def armstrong(x):\n",
    "    a = x\n",
    "    sum = 0\n",
    "    while x > 0:\n",
    "        rem = x % 10 # Seperate the number\n",
    "        sum = sum + (rem*rem*rem) # Cube and add\n",
    "        x = x // 10 # Minimize the number\n",
    "    \n",
    "    if a == sum:\n",
    "        print(\"Armstrong Number\")\n",
    "    else:\n",
    "        print(\"Not an Armstrong Number\")\n",
    "        \n",
    "num = int(input(\"Enter the Number:\"))\n",
    "armstrong(num)        "
   ]
  },
  {
   "cell_type": "markdown",
   "id": "f7a9c343",
   "metadata": {},
   "source": [
    "#### 4. Write a program to print the Armstrong numbers between 100 to 999."
   ]
  },
  {
   "cell_type": "code",
   "execution_count": 4,
   "id": "6a205b01",
   "metadata": {},
   "outputs": [
    {
     "name": "stdout",
     "output_type": "stream",
     "text": [
      "153\n",
      "370\n",
      "371\n",
      "407\n"
     ]
    }
   ],
   "source": [
    "for i in range(100,1000):\n",
    "    a = i\n",
    "    sum = 0\n",
    "    while i > 0:\n",
    "        rem = i % 10 # Seperate the number\n",
    "        sum = sum + rem**3 # Cube and add\n",
    "        i = i // 10 # Minimize the number\n",
    "    if sum == a:\n",
    "        print(a)"
   ]
  },
  {
   "cell_type": "markdown",
   "id": "383de0ad",
   "metadata": {},
   "source": [
    "#### 5. Write a program to count and print the number of odd and even numbers."
   ]
  },
  {
   "cell_type": "code",
   "execution_count": 5,
   "id": "bc060fa0",
   "metadata": {},
   "outputs": [
    {
     "name": "stdout",
     "output_type": "stream",
     "text": [
      "Enter the Limit:3\n",
      "Enter the Number:23\n",
      "Enter the Number:22\n",
      "Enter the Number:12\n",
      "The Odd numbers are [23] and the even numbers are [22, 12]\n",
      "The Odd numbers counts: 1 and the even numbers counts: 2\n"
     ]
    }
   ],
   "source": [
    "limit = int(input(\"Enter the Limit:\"))\n",
    "\n",
    "odd = []\n",
    "even = []\n",
    "\n",
    "for i in range(0,limit):\n",
    "    num = int(input(\"Enter the Number:\"))\n",
    "    \n",
    "    if num % 2 == 0:\n",
    "        even.append(num)\n",
    "    else:\n",
    "        odd.append(num)\n",
    "        \n",
    "print(f\"The Odd numbers are {odd} and the even numbers are {even}\")\n",
    "print(f\"The Odd numbers counts: {len(odd)} and the even numbers counts: {len(even)}\")"
   ]
  },
  {
   "cell_type": "markdown",
   "id": "6671c93c",
   "metadata": {},
   "source": [
    "#### 6.Write a program to find the reverse of n digit number using While loop"
   ]
  },
  {
   "cell_type": "code",
   "execution_count": 6,
   "id": "415ba138",
   "metadata": {},
   "outputs": [
    {
     "name": "stdout",
     "output_type": "stream",
     "text": [
      "Enter the Number:1234\n",
      "Before: 1234\n",
      "After: 4321\n"
     ]
    }
   ],
   "source": [
    "num = int(input(\"Enter the Number:\"))\n",
    "before = num\n",
    "after = 0\n",
    "while num > 0:\n",
    "    rem = num % 10\n",
    "    after = (after*10) + rem\n",
    "    num = num // 10\n",
    "    \n",
    "print(\"Before:\",before)\n",
    "print(\"After:\",after)"
   ]
  },
  {
   "cell_type": "markdown",
   "id": "e76f340b",
   "metadata": {},
   "source": [
    "#### 7.Write a program to find the Fibonacci Series of the given number"
   ]
  },
  {
   "cell_type": "code",
   "execution_count": 7,
   "id": "9697af18",
   "metadata": {},
   "outputs": [
    {
     "name": "stdout",
     "output_type": "stream",
     "text": [
      "Enter the Number in Series:10\n",
      "The Fibonacci series are\n",
      "0\n",
      "1\n",
      "1\n",
      "2\n",
      "3\n",
      "5\n",
      "8\n",
      "13\n",
      "21\n",
      "34\n"
     ]
    }
   ],
   "source": [
    "num = int(input(\"Enter the Number in Series:\"))\n",
    "\n",
    "n1,n2 = 0,1\n",
    "\n",
    "if num == 0:\n",
    "    print(\"Enter the positive number correctly\")\n",
    "elif num == 1:\n",
    "    print(\"The Fibonacci series of 1 :\",n1)\n",
    "else:\n",
    "    print(\"The Fibonacci series are\")\n",
    "    \n",
    "    i = 0\n",
    "    while i < num:\n",
    "        print(n1)\n",
    "        nth = n1 + n2\n",
    "        n1 = n2\n",
    "        n2 = nth\n",
    "        \n",
    "        i += 1"
   ]
  },
  {
   "cell_type": "markdown",
   "id": "5221cae9",
   "metadata": {},
   "source": [
    "#### 8.Write a program to find the given number is perfect number\n",
    "A perfect number is a positive integer that is equal to the sum of its proper divisors (excluding itself). In other words, a perfect number is a number whose divisors (excluding itself) add up to the number itself.\n",
    "\n",
    "The smallest perfect number is 6, which has divisors 1, 2, and 3, and 1 + 2 + 3 = 6.\n",
    "\n",
    "Another example is 28: its divisors are 1, 2, 4, 7, and 14, and 1 + 2 + 4 + 7 + 14 = 28."
   ]
  },
  {
   "cell_type": "code",
   "execution_count": 8,
   "id": "b91d41ac",
   "metadata": {},
   "outputs": [
    {
     "name": "stdout",
     "output_type": "stream",
     "text": [
      "Enter the Number:343\n",
      "The Given Number is not Perfect\n"
     ]
    }
   ],
   "source": [
    "num = int(input(\"Enter the Number:\"))\n",
    "\n",
    "a = num\n",
    "sum = 0\n",
    "\n",
    "for i in range(1,num): # Avoid num+1 because the divisors of perfect number does not take the number of itself\n",
    "    if num % i == 0:\n",
    "        # print(i)\n",
    "        sum += i\n",
    "if a == sum:\n",
    "    print(\"The Given Number is Perfect\")\n",
    "else:\n",
    "    print(\"The Given Number is not Perfect\")"
   ]
  },
  {
   "cell_type": "markdown",
   "id": "6094b59d",
   "metadata": {},
   "source": [
    "#### 9.Write a program to print the perfect number between 1-1000"
   ]
  },
  {
   "cell_type": "code",
   "execution_count": 9,
   "id": "9979acc3",
   "metadata": {},
   "outputs": [
    {
     "name": "stdout",
     "output_type": "stream",
     "text": [
      "1\n",
      "2\n",
      "4\n",
      "5\n",
      "8\n",
      "10\n",
      "20\n",
      "25\n",
      "40\n",
      "50\n",
      "100\n",
      "125\n",
      "200\n",
      "250\n",
      "500\n"
     ]
    }
   ],
   "source": [
    "num = 1000\n",
    "for i in range(1,num):\n",
    "    if num % i == 0:\n",
    "        print(i)"
   ]
  },
  {
   "cell_type": "markdown",
   "id": "5948046a",
   "metadata": {},
   "source": [
    "#### 10.Write a program to find the given number is strong number\n",
    "In Python, a \"strong number\" is a number in which the sum of the factorials of its digits is equal to the number itself. For example, 145 is a strong number because 1! + 4! + 5! = 1 + 24 + 120 = 145."
   ]
  },
  {
   "cell_type": "code",
   "execution_count": 10,
   "id": "4b8bc1bf",
   "metadata": {},
   "outputs": [
    {
     "name": "stdout",
     "output_type": "stream",
     "text": [
      "Enter the Number:234\n",
      "The Given number is not a Strong Number\n"
     ]
    }
   ],
   "source": [
    "num = int(input(\"Enter the Number:\"))\n",
    "\n",
    "a = num\n",
    "sum = 0\n",
    "\n",
    "\n",
    "while num > 0:\n",
    "    rem = num % 10\n",
    "    # Find fact for splitted number\n",
    "    fact = 1\n",
    "    for i in range(1,rem+1):\n",
    "        fact = fact * i\n",
    "        \n",
    "    sum += fact\n",
    "    \n",
    "    # Reduce the number\n",
    "    num = num // 10\n",
    "    \n",
    "if sum == a:\n",
    "    print(\"The Given number is Strong Number\")\n",
    "else:\n",
    "    print(\"The Given number is not a Strong Number\")"
   ]
  },
  {
   "cell_type": "markdown",
   "id": "829b75d2",
   "metadata": {},
   "source": [
    "#### 11.Write a program to find the value of one number raised to the power of another"
   ]
  },
  {
   "cell_type": "code",
   "execution_count": 11,
   "id": "f12fdc8f",
   "metadata": {},
   "outputs": [
    {
     "name": "stdout",
     "output_type": "stream",
     "text": [
      "Enter the Base Number :3\n",
      "Enter the Power Number :2\n",
      "Answer : 9\n"
     ]
    }
   ],
   "source": [
    "base = int(input(\"Enter the Base Number :\"))\n",
    "pow = int(input(\"Enter the Power Number :\"))\n",
    "#res=(base**pow)\n",
    "#print(\"Answer :\",res)\n",
    "res = 1\n",
    "while pow != 0:\n",
    "    res *= base\n",
    "    pow-=1\n",
    " \n",
    "print(\"Answer :\",res)"
   ]
  },
  {
   "cell_type": "markdown",
   "id": "0803e576",
   "metadata": {},
   "source": [
    "#### 12.Write a program to find whether the given number is prime or not"
   ]
  },
  {
   "cell_type": "code",
   "execution_count": 12,
   "id": "33fa3f34",
   "metadata": {},
   "outputs": [
    {
     "name": "stdout",
     "output_type": "stream",
     "text": [
      "Enter a number: 34\n",
      "34 is not a prime number\n"
     ]
    }
   ],
   "source": [
    "def is_prime(n):\n",
    "    if n <= 1:\n",
    "        return False\n",
    "    for i in range(2, n):\n",
    "        if n % i == 0:\n",
    "            return False\n",
    "    return True\n",
    "\n",
    "# Test the function\n",
    "num = int(input(\"Enter a number: \"))\n",
    "if is_prime(num):\n",
    "    print(num, \"is a prime number\")\n",
    "else:\n",
    "    print(num, \"is not a prime number\")"
   ]
  },
  {
   "cell_type": "markdown",
   "id": "9c9f27f8",
   "metadata": {},
   "source": [
    "#### 13.Write a program to find the binary number from given decimal number."
   ]
  },
  {
   "cell_type": "code",
   "execution_count": 13,
   "id": "61d5a2d8",
   "metadata": {},
   "outputs": [
    {
     "name": "stdout",
     "output_type": "stream",
     "text": [
      "Enter a decimal number: 23\n",
      "Binary representation of 23 is: 0b10111\n"
     ]
    }
   ],
   "source": [
    "decimal = int(input(\"Enter a decimal number: \"))\n",
    "\n",
    "binary = bin(decimal)\n",
    "\n",
    "print(\"Binary representation of\", decimal, \"is:\", binary)"
   ]
  },
  {
   "cell_type": "code",
   "execution_count": 14,
   "id": "8a130c49",
   "metadata": {},
   "outputs": [
    {
     "name": "stdout",
     "output_type": "stream",
     "text": [
      "Enter a decimal number: 23\n",
      "Binary representation of 23 is: 10111\n"
     ]
    }
   ],
   "source": [
    "def decimal_to_binary(decimal):\n",
    "    binary = \"\"\n",
    "    while decimal > 0:\n",
    "        binary = str(decimal % 2) + binary\n",
    "        decimal //= 2\n",
    "    return binary\n",
    "\n",
    "# Test the function\n",
    "decimal = int(input(\"Enter a decimal number: \"))\n",
    "binary = decimal_to_binary(decimal)\n",
    "print(\"Binary representation of\", decimal, \"is:\", binary)"
   ]
  },
  {
   "cell_type": "markdown",
   "id": "ad948235",
   "metadata": {},
   "source": [
    "#### 14.The distance between two cities (in km.) is input through the keyboard. Write a program to convert and print this distance in meters, feet, inches and centimeters."
   ]
  },
  {
   "cell_type": "code",
   "execution_count": 15,
   "id": "1a7cbe21",
   "metadata": {},
   "outputs": [
    {
     "name": "stdout",
     "output_type": "stream",
     "text": [
      "Enter The Kilometer : 20\n",
      "Kilometers :  20.0\n",
      "Meters  :  20000.0\n",
      "Centimeters :  2000000.0\n",
      "Inches :  787401.5748031496\n",
      "Feet :  65616.79790026246\n"
     ]
    }
   ],
   "source": [
    "'''\n",
    "Formulas:\n",
    "meters = kilometers × 1000\n",
    "centimeters = meters × 100\n",
    "inches = centimeters ÷ 2.54\n",
    "feet = inches ÷ 12\n",
    "'''\n",
    "km=float(input(\"Enter The Kilometer : \"));\n",
    "m=km*1000;\n",
    "cm=m*100;\n",
    "i=cm/2.54;\n",
    "ft=i/12;\n",
    "print(\"Kilometers : \",km);\n",
    "print(\"Meters  : \",m);\n",
    "print(\"Centimeters : \",cm);\n",
    "print(\"Inches : \",i);\n",
    "print(\"Feet : \",ft);"
   ]
  },
  {
   "cell_type": "markdown",
   "id": "c9fb46d1",
   "metadata": {},
   "source": [
    "#### 15.Temperature of a city in Fahrenheit degrees is input through the keyboard. Write a program to convert this temperature into Centigrade degrees.( F − 32 ) × 5 / 9 "
   ]
  },
  {
   "cell_type": "code",
   "execution_count": 16,
   "id": "0dfdaec8",
   "metadata": {},
   "outputs": [
    {
     "name": "stdout",
     "output_type": "stream",
     "text": [
      "Enter the Temperature:45\n",
      "Temparture in Centigrade= 7.222222222222222\n"
     ]
    }
   ],
   "source": [
    "\"\"\"\n",
    "centigrade = 5/9 * (F-32)\n",
    "\n",
    "\"\"\"\n",
    "fr=float(input(\"Enter the Temperature:\"))\n",
    "cent=5.0/9.0*(fr-32)\n",
    "print(\"Temparture in Centigrade=\",cent)"
   ]
  },
  {
   "cell_type": "markdown",
   "id": "6a15255e",
   "metadata": {},
   "source": [
    "#### Prepared By,\n",
    "Ahamed Basith"
   ]
  },
  {
   "cell_type": "code",
   "execution_count": null,
   "id": "acceb048",
   "metadata": {},
   "outputs": [],
   "source": []
  }
 ],
 "metadata": {
  "kernelspec": {
   "display_name": "Python 3 (ipykernel)",
   "language": "python",
   "name": "python3"
  },
  "language_info": {
   "codemirror_mode": {
    "name": "ipython",
    "version": 3
   },
   "file_extension": ".py",
   "mimetype": "text/x-python",
   "name": "python",
   "nbconvert_exporter": "python",
   "pygments_lexer": "ipython3",
   "version": "3.11.5"
  }
 },
 "nbformat": 4,
 "nbformat_minor": 5
}
