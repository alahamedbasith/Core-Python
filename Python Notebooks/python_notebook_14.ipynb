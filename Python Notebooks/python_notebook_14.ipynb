{
 "cells": [
  {
   "cell_type": "markdown",
   "id": "6a583add",
   "metadata": {},
   "source": [
    "# 20.Some Data Analysis Packages Numpy,Pandas and Matplotlib"
   ]
  },
  {
   "cell_type": "markdown",
   "id": "89368908",
   "metadata": {},
   "source": [
    "## 1.Numpy:\n",
    "NumPy is a powerful Python library for numerical computing. It provides support for large, multi-dimensional arrays and matrices, along with a collection of mathematical functions to operate on these arrays efficiently."
   ]
  },
  {
   "cell_type": "markdown",
   "id": "a970c6af",
   "metadata": {},
   "source": [
    "### Arrays: \n",
    "NumPy's core object is the ndarray, which is a multi-dimensional array. These arrays can be created from Python lists or tuples using the numpy.array() function."
   ]
  },
  {
   "cell_type": "code",
   "execution_count": 1,
   "id": "bdb40bc4",
   "metadata": {},
   "outputs": [
    {
     "name": "stdout",
     "output_type": "stream",
     "text": [
      "[1 2 3 4 5]\n",
      "[[1 2 3]\n",
      " [4 5 6]\n",
      " [7 8 9]]\n"
     ]
    }
   ],
   "source": [
    "import numpy as np\n",
    "\n",
    "# Creating a 1D array\n",
    "arr1d = np.array([1, 2, 3, 4, 5])\n",
    "\n",
    "# Creating a 2D array\n",
    "arr2d = np.array([[1, 2, 3], [4, 5, 6], [7, 8, 9]])\n",
    "\n",
    "print(arr1d)\n",
    "print(arr2d)"
   ]
  },
  {
   "cell_type": "markdown",
   "id": "24759d56",
   "metadata": {},
   "source": [
    "### Array Operations: \n",
    "NumPy provides a wide range of mathematical functions for operating on arrays, such as addition, subtraction, multiplication, division, exponentiation, trigonometric functions, etc."
   ]
  },
  {
   "cell_type": "code",
   "execution_count": 2,
   "id": "59149331",
   "metadata": {},
   "outputs": [
    {
     "name": "stdout",
     "output_type": "stream",
     "text": [
      "[ 2  4  6  8 10]\n",
      "[[ 30  36  42]\n",
      " [ 66  81  96]\n",
      " [102 126 150]]\n"
     ]
    }
   ],
   "source": [
    "# Element-wise addition\n",
    "result = arr1d + arr1d\n",
    "print(result)\n",
    "\n",
    "# Matrix multiplication\n",
    "result1 = np.dot(arr2d, arr2d)\n",
    "print(result1)"
   ]
  },
  {
   "cell_type": "markdown",
   "id": "a45c090f",
   "metadata": {},
   "source": [
    "### Array Indexing and Slicing: \n",
    "NumPy arrays support advanced indexing and slicing operations, similar to Python lists."
   ]
  },
  {
   "cell_type": "code",
   "execution_count": 3,
   "id": "717d2180",
   "metadata": {},
   "outputs": [
    {
     "name": "stdout",
     "output_type": "stream",
     "text": [
      "1\n",
      "6\n",
      "[2 3]\n",
      "[2 5 8]\n"
     ]
    }
   ],
   "source": [
    "# Accessing elements\n",
    "print(arr1d[0])    # Prints the first element\n",
    "print(arr2d[1, 2]) # Prints the element at row 1, column 2\n",
    "\n",
    "# Slicing\n",
    "print(arr1d[1:3])  # Prints elements from index 1 to 2\n",
    "print(arr2d[:, 1]) # Prints the second column"
   ]
  },
  {
   "cell_type": "markdown",
   "id": "e14873cf",
   "metadata": {},
   "source": [
    "### Array Shape and Reshaping: \n",
    "NumPy provides functions to get the shape of an array and to reshape arrays."
   ]
  },
  {
   "cell_type": "code",
   "execution_count": 4,
   "id": "cdea089f",
   "metadata": {},
   "outputs": [
    {
     "name": "stdout",
     "output_type": "stream",
     "text": [
      "(5,)\n",
      "(3, 3)\n",
      "[[1]\n",
      " [2]\n",
      " [3]\n",
      " [4]\n",
      " [5]]\n"
     ]
    }
   ],
   "source": [
    "# Getting array shape\n",
    "print(arr1d.shape) # Prints (5,) indicating 1D array with 5 elements\n",
    "print(arr2d.shape) # Prints (3, 3) indicating 2D array with 3 rows and 3 columns\n",
    "\n",
    "# Reshaping array\n",
    "reshaped_arr = arr1d.reshape(5, 1) # Reshapes to a 5x1 array\n",
    "print(reshaped_arr)"
   ]
  },
  {
   "cell_type": "markdown",
   "id": "047a3a79",
   "metadata": {},
   "source": [
    "### Random Number Generation: \n",
    "NumPy includes functions to generate arrays of random numbers."
   ]
  },
  {
   "cell_type": "code",
   "execution_count": 5,
   "id": "5f16a0ba",
   "metadata": {},
   "outputs": [
    {
     "name": "stdout",
     "output_type": "stream",
     "text": [
      "[[0.79448513 0.17477414 0.48167982]\n",
      " [0.03098242 0.24546521 0.13062366]\n",
      " [0.61887233 0.45648268 0.29252819]]\n"
     ]
    }
   ],
   "source": [
    "# Generating random numbers\n",
    "import numpy as np\n",
    "\n",
    "random_arr = np.random.rand(3, 3) # Generates a 3x3 array of random numbers between 0 and 1\n",
    "print(random_arr)"
   ]
  },
  {
   "cell_type": "markdown",
   "id": "569ca859",
   "metadata": {},
   "source": [
    "### Broadcasting: \n",
    "NumPy allows arithmetic operations between arrays of different shapes and sizes through broadcasting. Broadcasting automatically adjusts the dimensions of arrays to perform element-wise operations efficiently."
   ]
  },
  {
   "cell_type": "code",
   "execution_count": 6,
   "id": "559ca0c8",
   "metadata": {},
   "outputs": [
    {
     "name": "stdout",
     "output_type": "stream",
     "text": [
      "[2 4 6]\n"
     ]
    }
   ],
   "source": [
    "# Broadcasting example\n",
    "arr = np.array([1, 2, 3])\n",
    "scalar = 2\n",
    "result = arr * scalar\n",
    "# Result will be [2, 4, 6]\n",
    "print(result)"
   ]
  },
  {
   "cell_type": "markdown",
   "id": "f8fccbeb",
   "metadata": {},
   "source": [
    "### Array Manipulation: \n",
    "NumPy provides functions for manipulating arrays, such as concatenation, splitting, stacking, resizing, and transposing."
   ]
  },
  {
   "cell_type": "code",
   "execution_count": 7,
   "id": "715b85aa",
   "metadata": {},
   "outputs": [
    {
     "name": "stdout",
     "output_type": "stream",
     "text": [
      "[1 2 3 4 5 6]\n",
      "[array([1, 2]), array([3, 4]), array([5, 6])]\n",
      "[[1 2 3]\n",
      " [4 5 6]]\n"
     ]
    }
   ],
   "source": [
    "# Concatenation\n",
    "arr1 = np.array([1, 2, 3])\n",
    "arr2 = np.array([4, 5, 6])\n",
    "result = np.concatenate((arr1, arr2))\n",
    "print(result)\n",
    "\n",
    "# Splitting\n",
    "arr = np.array([1, 2, 3, 4, 5, 6])\n",
    "result1 = np.split(arr, 3)\n",
    "print(result1)\n",
    "\n",
    "# Stacking\n",
    "arr1 = np.array([1, 2, 3])\n",
    "arr2 = np.array([4, 5, 6])\n",
    "result2 = np.stack((arr1, arr2))\n",
    "print(result2)"
   ]
  },
  {
   "cell_type": "markdown",
   "id": "7c350305",
   "metadata": {},
   "source": [
    "### Linear Algebra Operations: \n",
    "NumPy provides functions for linear algebra operations, such as matrix multiplication, matrix inversion, eigenvalues, eigenvectors, and solving linear equations."
   ]
  },
  {
   "cell_type": "code",
   "execution_count": 8,
   "id": "2390c5e6",
   "metadata": {},
   "outputs": [
    {
     "name": "stdout",
     "output_type": "stream",
     "text": [
      "[[19 22]\n",
      " [43 50]]\n"
     ]
    }
   ],
   "source": [
    "# Matrix multiplication\n",
    "import numpy as np\n",
    "\n",
    "arr1 = np.array([[1, 2], [3, 4]])\n",
    "arr2 = np.array([[5, 6], [7, 8]])\n",
    "\n",
    "result = np.matmul(arr1, arr2)\n",
    "print(result)"
   ]
  },
  {
   "cell_type": "code",
   "execution_count": 9,
   "id": "e0ecd878",
   "metadata": {},
   "outputs": [
    {
     "name": "stdout",
     "output_type": "stream",
     "text": [
      "[[-2.   1. ]\n",
      " [ 1.5 -0.5]]\n"
     ]
    }
   ],
   "source": [
    "# Matrix inversion\n",
    "arr = np.array([[1, 2], [3, 4]])\n",
    "\n",
    "result = np.linalg.inv(arr)\n",
    "print(result)"
   ]
  },
  {
   "cell_type": "code",
   "execution_count": 10,
   "id": "140aeb90",
   "metadata": {},
   "outputs": [
    {
     "name": "stdout",
     "output_type": "stream",
     "text": [
      "Eigenvalues: [ 3. -1.]\n",
      "Eigenvectors: [[ 0.70710678 -0.70710678]\n",
      " [ 0.70710678  0.70710678]]\n"
     ]
    }
   ],
   "source": [
    "# Eigenvalues and eigenvectors\n",
    "import numpy as np\n",
    "\n",
    "arr = np.array([[1, 2], [2, 1]])\n",
    "\n",
    "eigenvalues, eigenvectors = np.linalg.eig(arr)\n",
    "print(\"Eigenvalues:\", eigenvalues)\n",
    "print(\"Eigenvectors:\", eigenvectors)"
   ]
  },
  {
   "cell_type": "code",
   "execution_count": 11,
   "id": "f457406d",
   "metadata": {},
   "outputs": [
    {
     "name": "stdout",
     "output_type": "stream",
     "text": [
      "[2.2 1.2]\n"
     ]
    }
   ],
   "source": [
    "# Solving linear equations\n",
    "import numpy as np\n",
    "\n",
    "coefficients = np.array([[2, 3], [1, -1]])\n",
    "constants = np.array([8, 1])\n",
    "\n",
    "solution = np.linalg.solve(coefficients, constants)\n",
    "print(solution)"
   ]
  },
  {
   "cell_type": "markdown",
   "id": "7df42509",
   "metadata": {},
   "source": [
    "### Vectorization: \n",
    "NumPy promotes vectorized operations, which can significantly improve performance by leveraging the underlying C implementation and avoiding the overhead of Python loops."
   ]
  },
  {
   "cell_type": "code",
   "execution_count": 12,
   "id": "6e438429",
   "metadata": {},
   "outputs": [
    {
     "name": "stdout",
     "output_type": "stream",
     "text": [
      "[46, 90, 128, 46, 180]\n",
      "[23, 45, 64, 23, 90, 23, 45, 64, 23, 90]\n"
     ]
    }
   ],
   "source": [
    "# Non-vectorized approach\n",
    "arr = [23,45,64,23,90]\n",
    "result = [x * 2 for x in arr]\n",
    "print(result)\n",
    "\n",
    "# Vectorized approach\n",
    "result = arr * 2\n",
    "print(result)"
   ]
  },
  {
   "cell_type": "markdown",
   "id": "d1abfd63",
   "metadata": {},
   "source": [
    "# 2.Pandas\n",
    "Pandas is a powerful Python library used for data manipulation and analysis. It provides high-level data structures and functions designed to make working with structured or tabular data fast, easy, and expressive."
   ]
  },
  {
   "cell_type": "markdown",
   "id": "a69ed736",
   "metadata": {},
   "source": [
    "### DataFrame: \n",
    "The core data structure in pandas is the DataFrame, which is a two-dimensional labeled data structure with columns of potentially different types. It can be thought of as a spreadsheet or SQL table."
   ]
  },
  {
   "cell_type": "code",
   "execution_count": 13,
   "id": "1c526bb1",
   "metadata": {},
   "outputs": [
    {
     "name": "stdout",
     "output_type": "stream",
     "text": [
      "      Name  Age         City\n",
      "0    Alice   25     New York\n",
      "1      Bob   30  Los Angeles\n",
      "2  Charlie   35      Chicago\n"
     ]
    }
   ],
   "source": [
    "import pandas as pd\n",
    "\n",
    "# Creating a DataFrame from a dictionary\n",
    "data = {'Name': ['Alice', 'Bob', 'Charlie'],\n",
    "        'Age': [25, 30, 35],\n",
    "        'City': ['New York', 'Los Angeles', 'Chicago']}\n",
    "df = pd.DataFrame(data)\n",
    "print(df)"
   ]
  },
  {
   "cell_type": "markdown",
   "id": "4097544a",
   "metadata": {},
   "source": [
    "### Reading and Writing Data: \n",
    "Pandas provides functions to read data from various file formats such as CSV, Excel, SQL databases, JSON, and more, as well as writing data to these formats."
   ]
  },
  {
   "cell_type": "code",
   "execution_count": 14,
   "id": "a0d1978d",
   "metadata": {},
   "outputs": [
    {
     "data": {
      "text/html": [
       "<div>\n",
       "<style scoped>\n",
       "    .dataframe tbody tr th:only-of-type {\n",
       "        vertical-align: middle;\n",
       "    }\n",
       "\n",
       "    .dataframe tbody tr th {\n",
       "        vertical-align: top;\n",
       "    }\n",
       "\n",
       "    .dataframe thead th {\n",
       "        text-align: right;\n",
       "    }\n",
       "</style>\n",
       "<table border=\"1\" class=\"dataframe\">\n",
       "  <thead>\n",
       "    <tr style=\"text-align: right;\">\n",
       "      <th></th>\n",
       "      <th>Segment</th>\n",
       "      <th>Country</th>\n",
       "      <th>Product</th>\n",
       "      <th>Discount Band</th>\n",
       "      <th>Units Sold</th>\n",
       "      <th>Manufacturing Price</th>\n",
       "      <th>Sale Price</th>\n",
       "      <th>Gross Sales</th>\n",
       "      <th>Discounts</th>\n",
       "      <th>Sales</th>\n",
       "      <th>COGS</th>\n",
       "      <th>Profit</th>\n",
       "      <th>Date</th>\n",
       "      <th>Month Number</th>\n",
       "      <th>Month Name</th>\n",
       "      <th>Year</th>\n",
       "    </tr>\n",
       "  </thead>\n",
       "  <tbody>\n",
       "    <tr>\n",
       "      <th>0</th>\n",
       "      <td>Government</td>\n",
       "      <td>Canada</td>\n",
       "      <td>Carretera</td>\n",
       "      <td>NaN</td>\n",
       "      <td>1618.5</td>\n",
       "      <td>3</td>\n",
       "      <td>20</td>\n",
       "      <td>32370.0</td>\n",
       "      <td>0.00</td>\n",
       "      <td>32370.00</td>\n",
       "      <td>16185.0</td>\n",
       "      <td>16185.00</td>\n",
       "      <td>2014-01-01</td>\n",
       "      <td>1</td>\n",
       "      <td>January</td>\n",
       "      <td>2014</td>\n",
       "    </tr>\n",
       "    <tr>\n",
       "      <th>1</th>\n",
       "      <td>Government</td>\n",
       "      <td>Germany</td>\n",
       "      <td>Carretera</td>\n",
       "      <td>NaN</td>\n",
       "      <td>1321.0</td>\n",
       "      <td>3</td>\n",
       "      <td>20</td>\n",
       "      <td>26420.0</td>\n",
       "      <td>0.00</td>\n",
       "      <td>26420.00</td>\n",
       "      <td>13210.0</td>\n",
       "      <td>13210.00</td>\n",
       "      <td>2014-01-01</td>\n",
       "      <td>1</td>\n",
       "      <td>January</td>\n",
       "      <td>2014</td>\n",
       "    </tr>\n",
       "    <tr>\n",
       "      <th>2</th>\n",
       "      <td>Midmarket</td>\n",
       "      <td>France</td>\n",
       "      <td>Carretera</td>\n",
       "      <td>NaN</td>\n",
       "      <td>2178.0</td>\n",
       "      <td>3</td>\n",
       "      <td>15</td>\n",
       "      <td>32670.0</td>\n",
       "      <td>0.00</td>\n",
       "      <td>32670.00</td>\n",
       "      <td>21780.0</td>\n",
       "      <td>10890.00</td>\n",
       "      <td>2014-06-01</td>\n",
       "      <td>6</td>\n",
       "      <td>June</td>\n",
       "      <td>2014</td>\n",
       "    </tr>\n",
       "    <tr>\n",
       "      <th>3</th>\n",
       "      <td>Midmarket</td>\n",
       "      <td>Germany</td>\n",
       "      <td>Carretera</td>\n",
       "      <td>NaN</td>\n",
       "      <td>888.0</td>\n",
       "      <td>3</td>\n",
       "      <td>15</td>\n",
       "      <td>13320.0</td>\n",
       "      <td>0.00</td>\n",
       "      <td>13320.00</td>\n",
       "      <td>8880.0</td>\n",
       "      <td>4440.00</td>\n",
       "      <td>2014-06-01</td>\n",
       "      <td>6</td>\n",
       "      <td>June</td>\n",
       "      <td>2014</td>\n",
       "    </tr>\n",
       "    <tr>\n",
       "      <th>4</th>\n",
       "      <td>Midmarket</td>\n",
       "      <td>Mexico</td>\n",
       "      <td>Carretera</td>\n",
       "      <td>NaN</td>\n",
       "      <td>2470.0</td>\n",
       "      <td>3</td>\n",
       "      <td>15</td>\n",
       "      <td>37050.0</td>\n",
       "      <td>0.00</td>\n",
       "      <td>37050.00</td>\n",
       "      <td>24700.0</td>\n",
       "      <td>12350.00</td>\n",
       "      <td>2014-06-01</td>\n",
       "      <td>6</td>\n",
       "      <td>June</td>\n",
       "      <td>2014</td>\n",
       "    </tr>\n",
       "    <tr>\n",
       "      <th>...</th>\n",
       "      <td>...</td>\n",
       "      <td>...</td>\n",
       "      <td>...</td>\n",
       "      <td>...</td>\n",
       "      <td>...</td>\n",
       "      <td>...</td>\n",
       "      <td>...</td>\n",
       "      <td>...</td>\n",
       "      <td>...</td>\n",
       "      <td>...</td>\n",
       "      <td>...</td>\n",
       "      <td>...</td>\n",
       "      <td>...</td>\n",
       "      <td>...</td>\n",
       "      <td>...</td>\n",
       "      <td>...</td>\n",
       "    </tr>\n",
       "    <tr>\n",
       "      <th>695</th>\n",
       "      <td>Small Business</td>\n",
       "      <td>France</td>\n",
       "      <td>Amarilla</td>\n",
       "      <td>High</td>\n",
       "      <td>2475.0</td>\n",
       "      <td>260</td>\n",
       "      <td>300</td>\n",
       "      <td>742500.0</td>\n",
       "      <td>111375.00</td>\n",
       "      <td>631125.00</td>\n",
       "      <td>618750.0</td>\n",
       "      <td>12375.00</td>\n",
       "      <td>2014-03-01</td>\n",
       "      <td>3</td>\n",
       "      <td>March</td>\n",
       "      <td>2014</td>\n",
       "    </tr>\n",
       "    <tr>\n",
       "      <th>696</th>\n",
       "      <td>Small Business</td>\n",
       "      <td>Mexico</td>\n",
       "      <td>Amarilla</td>\n",
       "      <td>High</td>\n",
       "      <td>546.0</td>\n",
       "      <td>260</td>\n",
       "      <td>300</td>\n",
       "      <td>163800.0</td>\n",
       "      <td>24570.00</td>\n",
       "      <td>139230.00</td>\n",
       "      <td>136500.0</td>\n",
       "      <td>2730.00</td>\n",
       "      <td>2014-10-01</td>\n",
       "      <td>10</td>\n",
       "      <td>October</td>\n",
       "      <td>2014</td>\n",
       "    </tr>\n",
       "    <tr>\n",
       "      <th>697</th>\n",
       "      <td>Government</td>\n",
       "      <td>Mexico</td>\n",
       "      <td>Montana</td>\n",
       "      <td>High</td>\n",
       "      <td>1368.0</td>\n",
       "      <td>5</td>\n",
       "      <td>7</td>\n",
       "      <td>9576.0</td>\n",
       "      <td>1436.40</td>\n",
       "      <td>8139.60</td>\n",
       "      <td>6840.0</td>\n",
       "      <td>1299.60</td>\n",
       "      <td>2014-02-01</td>\n",
       "      <td>2</td>\n",
       "      <td>February</td>\n",
       "      <td>2014</td>\n",
       "    </tr>\n",
       "    <tr>\n",
       "      <th>698</th>\n",
       "      <td>Government</td>\n",
       "      <td>Canada</td>\n",
       "      <td>Paseo</td>\n",
       "      <td>High</td>\n",
       "      <td>723.0</td>\n",
       "      <td>10</td>\n",
       "      <td>7</td>\n",
       "      <td>5061.0</td>\n",
       "      <td>759.15</td>\n",
       "      <td>4301.85</td>\n",
       "      <td>3615.0</td>\n",
       "      <td>686.85</td>\n",
       "      <td>2014-04-01</td>\n",
       "      <td>4</td>\n",
       "      <td>April</td>\n",
       "      <td>2014</td>\n",
       "    </tr>\n",
       "    <tr>\n",
       "      <th>699</th>\n",
       "      <td>Channel Partners</td>\n",
       "      <td>United States of America</td>\n",
       "      <td>VTT</td>\n",
       "      <td>High</td>\n",
       "      <td>1806.0</td>\n",
       "      <td>250</td>\n",
       "      <td>12</td>\n",
       "      <td>21672.0</td>\n",
       "      <td>3250.80</td>\n",
       "      <td>18421.20</td>\n",
       "      <td>5418.0</td>\n",
       "      <td>13003.20</td>\n",
       "      <td>2014-05-01</td>\n",
       "      <td>5</td>\n",
       "      <td>May</td>\n",
       "      <td>2014</td>\n",
       "    </tr>\n",
       "  </tbody>\n",
       "</table>\n",
       "<p>700 rows × 16 columns</p>\n",
       "</div>"
      ],
      "text/plain": [
       "              Segment                   Country    Product Discount Band  \\\n",
       "0          Government                    Canada  Carretera           NaN   \n",
       "1          Government                   Germany  Carretera           NaN   \n",
       "2           Midmarket                    France  Carretera           NaN   \n",
       "3           Midmarket                   Germany  Carretera           NaN   \n",
       "4           Midmarket                    Mexico  Carretera           NaN   \n",
       "..                ...                       ...        ...           ...   \n",
       "695    Small Business                    France   Amarilla          High   \n",
       "696    Small Business                    Mexico   Amarilla          High   \n",
       "697        Government                    Mexico    Montana          High   \n",
       "698        Government                    Canada      Paseo          High   \n",
       "699  Channel Partners  United States of America        VTT          High   \n",
       "\n",
       "     Units Sold  Manufacturing Price  Sale Price  Gross Sales  Discounts  \\\n",
       "0        1618.5                    3          20      32370.0       0.00   \n",
       "1        1321.0                    3          20      26420.0       0.00   \n",
       "2        2178.0                    3          15      32670.0       0.00   \n",
       "3         888.0                    3          15      13320.0       0.00   \n",
       "4        2470.0                    3          15      37050.0       0.00   \n",
       "..          ...                  ...         ...          ...        ...   \n",
       "695      2475.0                  260         300     742500.0  111375.00   \n",
       "696       546.0                  260         300     163800.0   24570.00   \n",
       "697      1368.0                    5           7       9576.0    1436.40   \n",
       "698       723.0                   10           7       5061.0     759.15   \n",
       "699      1806.0                  250          12      21672.0    3250.80   \n",
       "\n",
       "         Sales      COGS    Profit       Date  Month Number Month Name  Year  \n",
       "0     32370.00   16185.0  16185.00 2014-01-01             1    January  2014  \n",
       "1     26420.00   13210.0  13210.00 2014-01-01             1    January  2014  \n",
       "2     32670.00   21780.0  10890.00 2014-06-01             6       June  2014  \n",
       "3     13320.00    8880.0   4440.00 2014-06-01             6       June  2014  \n",
       "4     37050.00   24700.0  12350.00 2014-06-01             6       June  2014  \n",
       "..         ...       ...       ...        ...           ...        ...   ...  \n",
       "695  631125.00  618750.0  12375.00 2014-03-01             3      March  2014  \n",
       "696  139230.00  136500.0   2730.00 2014-10-01            10    October  2014  \n",
       "697    8139.60    6840.0   1299.60 2014-02-01             2   February  2014  \n",
       "698    4301.85    3615.0    686.85 2014-04-01             4      April  2014  \n",
       "699   18421.20    5418.0  13003.20 2014-05-01             5        May  2014  \n",
       "\n",
       "[700 rows x 16 columns]"
      ]
     },
     "execution_count": 14,
     "metadata": {},
     "output_type": "execute_result"
    }
   ],
   "source": [
    "# Reading data from a CSV file\n",
    "data_finance = pd.read_excel('finance.xlsx')\n",
    "\n",
    "# Writing data to a CSV file\n",
    "data_finance.to_csv('new_data.csv', index=False)\n",
    "\n",
    "data_finance"
   ]
  },
  {
   "cell_type": "markdown",
   "id": "85bf2661",
   "metadata": {},
   "source": [
    "### Data Manipulation: \n",
    "Pandas offers a wide range of functions for manipulating data, including selecting, filtering, sorting, grouping, merging, and transforming data."
   ]
  },
  {
   "cell_type": "code",
   "execution_count": 15,
   "id": "1e6cf677",
   "metadata": {},
   "outputs": [
    {
     "name": "stdout",
     "output_type": "stream",
     "text": [
      "Filtered Data (Age <= 40):\n",
      "      Name  Age Department  Salary  Bonus  Years_Exp\n",
      "0    Alice   35         HR   60000   5000          8\n",
      "2  Charlie   38         IT   70000   4000         10\n",
      "4      Eva   30         IT   55000   3000          5\n",
      "\n",
      "Average Salary by Department:\n",
      "Department\n",
      "Finance    80000.0\n",
      "HR         67500.0\n",
      "IT         62500.0\n",
      "Name: Salary, dtype: float64\n",
      "\n",
      "Sorted Data by Years of Experience:\n",
      "      Name  Age Department  Salary  Bonus  Years_Exp\n",
      "3    David   45         HR   75000   4500         20\n",
      "1      Bob   42    Finance   80000   6000         15\n",
      "2  Charlie   38         IT   70000   4000         10\n",
      "0    Alice   35         HR   60000   5000          8\n",
      "4      Eva   30         IT   55000   3000          5\n",
      "\n",
      "Data with Total Compensation:\n",
      "      Name  Age Department  Salary  Bonus  Years_Exp  Total_Compensation\n",
      "0    Alice   35         HR   60000   5000          8               65000\n",
      "1      Bob   42    Finance   80000   6000         15               86000\n",
      "2  Charlie   38         IT   70000   4000         10               74000\n",
      "3    David   45         HR   75000   4500         20               79500\n",
      "4      Eva   30         IT   55000   3000          5               58000\n"
     ]
    }
   ],
   "source": [
    "import pandas as pd\n",
    "\n",
    "# 1. Loading Data\n",
    "data = {\n",
    "    'Name': ['Alice', 'Bob', 'Charlie', 'David', 'Eva'],\n",
    "    'Age': [35, 42, 38, 45, 30],\n",
    "    'Department': ['HR', 'Finance', 'IT', 'HR', 'IT'],\n",
    "    'Salary': [60000, 80000, 70000, 75000, 55000],\n",
    "    'Bonus': [5000, 6000, 4000, 4500, 3000],\n",
    "    'Years_Exp': [8, 15, 10, 20, 5]\n",
    "}\n",
    "df = pd.DataFrame(data)\n",
    "\n",
    "# 2. Filtering\n",
    "filtered_df = df[df['Age'] <= 40]\n",
    "\n",
    "# 3. Grouping\n",
    "avg_salary_by_dept = df.groupby('Department')['Salary'].mean()\n",
    "\n",
    "# 4. Sorting\n",
    "sorted_df = df.sort_values(by='Years_Exp', ascending=False)\n",
    "\n",
    "# 5. Adding a New Column\n",
    "df['Total_Compensation'] = df['Salary'] + df['Bonus']\n",
    "\n",
    "# Print the results\n",
    "print(\"Filtered Data (Age <= 40):\")\n",
    "print(filtered_df)\n",
    "print(\"\\nAverage Salary by Department:\")\n",
    "print(avg_salary_by_dept)\n",
    "print(\"\\nSorted Data by Years of Experience:\")\n",
    "print(sorted_df)\n",
    "print(\"\\nData with Total Compensation:\")\n",
    "print(df)\n"
   ]
  },
  {
   "cell_type": "markdown",
   "id": "a0b3322c",
   "metadata": {},
   "source": [
    "### Data Cleaning: \n",
    "Pandas provides functions for handling missing data, duplicate data, and converting data types."
   ]
  },
  {
   "cell_type": "code",
   "execution_count": 16,
   "id": "0b08a29b",
   "metadata": {},
   "outputs": [],
   "source": [
    "# Handling missing data\n",
    "df.dropna()  # Drop rows with missing values\n",
    "df.fillna(0) # Fill missing values with a specific value\n",
    "\n",
    "# Handling duplicates\n",
    "df.drop_duplicates()\n",
    "\n",
    "# Converting data types\n",
    "df['Age'] = df['Age'].astype(str)"
   ]
  },
  {
   "cell_type": "markdown",
   "id": "630b3265",
   "metadata": {},
   "source": [
    "### Data Visualization: \n",
    "Pandas integrates with Matplotlib and provides built-in visualization capabilities to create plots directly from DataFrames."
   ]
  },
  {
   "cell_type": "code",
   "execution_count": 17,
   "id": "8e986e38",
   "metadata": {},
   "outputs": [
    {
     "data": {
      "image/png": "[encoded data removed]",
      "text/plain": [
       "<Figure size 640x480 with 1 Axes>"
      ]
     },
     "metadata": {},
     "output_type": "display_data"
    }
   ],
   "source": [
    "import pandas as pd\n",
    "import matplotlib.pyplot as plt\n",
    "\n",
    "# Sample data\n",
    "data = {\n",
    "    'Name': ['Alice', 'Bob', 'Charlie', 'David', 'Eva'],\n",
    "    'Age': [35, 42, 38, 45, 30]\n",
    "}\n",
    "df = pd.DataFrame(data)\n",
    "\n",
    "# Plotting\n",
    "df.plot(kind='bar', x='Name', y='Age', color='skyblue')\n",
    "plt.title('Ages of Employees')\n",
    "plt.xlabel('Name')\n",
    "plt.ylabel('Age')\n",
    "plt.xticks(rotation=45)  # Rotate x-labels for better readability\n",
    "plt.show()\n"
   ]
  },
  {
   "cell_type": "markdown",
   "id": "43fa8402",
   "metadata": {},
   "source": [
    "## 3.Matplotlib\n",
    "Matplotlib is a comprehensive library for creating static, animated, and interactive visualizations in Python. It provides a MATLAB-like interface and is highly customizable, making it suitable for a wide range of plotting needs."
   ]
  },
  {
   "cell_type": "markdown",
   "id": "b534b387",
   "metadata": {},
   "source": [
    "### Basic Plotting: \n",
    "Matplotlib allows you to create various types of plots, such as line plots, scatter plots, bar plots, histograms, pie charts, and more."
   ]
  },
  {
   "cell_type": "code",
   "execution_count": 18,
   "id": "3b619610",
   "metadata": {},
   "outputs": [
    {
     "data": {
      "text/plain": [
       "[<matplotlib.lines.Line2D at 0x1962a3a40d0>]"
      ]
     },
     "execution_count": 18,
     "metadata": {},
     "output_type": "execute_result"
    },
    {
     "data": {
      "image/png": "[encoded data removed]",
      "text/plain": [
       "<Figure size 640x480 with 1 Axes>"
      ]
     },
     "metadata": {},
     "output_type": "display_data"
    }
   ],
   "source": [
    "import matplotlib.pyplot as plt\n",
    "\n",
    "# Line plot\n",
    "x = [1, 2, 3, 4, 5]\n",
    "y = [2, 3, 5, 7, 11]\n",
    "plt.plot(x, y)"
   ]
  },
  {
   "cell_type": "code",
   "execution_count": 19,
   "id": "3ea15429",
   "metadata": {},
   "outputs": [
    {
     "data": {
      "text/plain": [
       "<matplotlib.collections.PathCollection at 0x1962ab063d0>"
      ]
     },
     "execution_count": 19,
     "metadata": {},
     "output_type": "execute_result"
    },
    {
     "data": {
      "image/png": "[encoded data removed]",
      "text/plain": [
       "<Figure size 640x480 with 1 Axes>"
      ]
     },
     "metadata": {},
     "output_type": "display_data"
    }
   ],
   "source": [
    "# Scatter plot\n",
    "plt.scatter(x, y)"
   ]
  },
  {
   "cell_type": "code",
   "execution_count": 20,
   "id": "12f758c1",
   "metadata": {},
   "outputs": [
    {
     "data": {
      "text/plain": [
       "<BarContainer object of 5 artists>"
      ]
     },
     "execution_count": 20,
     "metadata": {},
     "output_type": "execute_result"
    },
    {
     "data": {
      "image/png": "[encoded data removed]",
      "text/plain": [
       "<Figure size 640x480 with 1 Axes>"
      ]
     },
     "metadata": {},
     "output_type": "display_data"
    }
   ],
   "source": [
    "# Bar plot\n",
    "plt.bar(x, y)"
   ]
  },
  {
   "cell_type": "code",
   "execution_count": 21,
   "id": "080db179",
   "metadata": {},
   "outputs": [
    {
     "data": {
      "text/plain": [
       "(array([1., 1., 0., 1., 0., 1., 0., 0., 0., 1.]),\n",
       " array([ 2. ,  2.9,  3.8,  4.7,  5.6,  6.5,  7.4,  8.3,  9.2, 10.1, 11. ]),\n",
       " <BarContainer object of 10 artists>)"
      ]
     },
     "execution_count": 21,
     "metadata": {},
     "output_type": "execute_result"
    },
    {
     "data": {
      "image/png": "[encoded data removed]",
      "text/plain": [
       "<Figure size 640x480 with 1 Axes>"
      ]
     },
     "metadata": {},
     "output_type": "display_data"
    }
   ],
   "source": [
    "# Histogram\n",
    "plt.hist(y)"
   ]
  },
  {
   "cell_type": "code",
   "execution_count": 22,
   "id": "350f881d",
   "metadata": {},
   "outputs": [
    {
     "data": {
      "image/png": "[encoded data removed]",
      "text/plain": [
       "<Figure size 640x480 with 1 Axes>"
      ]
     },
     "metadata": {},
     "output_type": "display_data"
    }
   ],
   "source": [
    "# Pie chart\n",
    "plt.pie(y, labels=x)\n",
    "\n",
    "plt.show()"
   ]
  },
  {
   "cell_type": "markdown",
   "id": "554d0696",
   "metadata": {},
   "source": [
    "### Customization: \n",
    "Matplotlib provides extensive customization options to control the appearance of plots, including colors, markers, linestyles, labels, titles, axes limits, gridlines, and more."
   ]
  },
  {
   "cell_type": "code",
   "execution_count": 23,
   "id": "bd040aaf",
   "metadata": {},
   "outputs": [
    {
     "data": {
      "text/plain": [
       "(0.0, 12.0)"
      ]
     },
     "execution_count": 23,
     "metadata": {},
     "output_type": "execute_result"
    },
    {
     "data": {
      "image/png": "[encoded data removed]",
      "text/plain": [
       "<Figure size 640x480 with 1 Axes>"
      ]
     },
     "metadata": {},
     "output_type": "display_data"
    }
   ],
   "source": [
    "plt.plot(x, y, color='red', linestyle='--', marker='o', label='Data')\n",
    "plt.xlabel('X-axis')\n",
    "plt.ylabel('Y-axis')\n",
    "plt.title('Customized Plot')\n",
    "plt.legend()\n",
    "plt.grid(True)\n",
    "plt.xlim(0, 6)\n",
    "plt.ylim(0, 12)"
   ]
  },
  {
   "cell_type": "markdown",
   "id": "659eec0f",
   "metadata": {},
   "source": [
    "### Subplots: \n",
    "Matplotlib allows you to create multiple plots within the same figure using subplots."
   ]
  },
  {
   "cell_type": "code",
   "execution_count": 24,
   "id": "f9253c86",
   "metadata": {},
   "outputs": [
    {
     "data": {
      "image/png": "[encoded data removed]",
      "text/plain": [
       "<Figure size 640x480 with 4 Axes>"
      ]
     },
     "metadata": {},
     "output_type": "display_data"
    }
   ],
   "source": [
    "plt.subplot(2, 2, 1)\n",
    "plt.plot(x, y)\n",
    "plt.title('Subplot 1')\n",
    "\n",
    "plt.subplot(2, 2, 2)\n",
    "plt.scatter(x, y)\n",
    "plt.title('Subplot 2')\n",
    "\n",
    "plt.subplot(2, 2, 3)\n",
    "plt.bar(x, y)\n",
    "plt.title('Subplot 3')\n",
    "\n",
    "plt.subplot(2, 2, 4)\n",
    "plt.hist(y)\n",
    "plt.title('Subplot 4')\n",
    "\n",
    "plt.tight_layout()"
   ]
  },
  {
   "cell_type": "markdown",
   "id": "e001a00e",
   "metadata": {},
   "source": [
    "### Saving Figures: \n",
    "Matplotlib enables you to save your plots in various formats, such as PNG, JPEG, PDF, SVG, and more."
   ]
  },
  {
   "cell_type": "code",
   "execution_count": 25,
   "id": "f9ff4dd5",
   "metadata": {},
   "outputs": [
    {
     "data": {
      "text/plain": [
       "<Figure size 640x480 with 0 Axes>"
      ]
     },
     "metadata": {},
     "output_type": "display_data"
    }
   ],
   "source": [
    "plt.savefig('plot.png')"
   ]
  },
  {
   "cell_type": "markdown",
   "id": "ae3c0b3c",
   "metadata": {},
   "source": [
    "#### Prepared By,\n",
    "Ahamed Basith"
   ]
  },
  {
   "cell_type": "code",
   "execution_count": null,
   "id": "fcd9877c",
   "metadata": {},
   "outputs": [],
   "source": []
  }
 ],
 "metadata": {
  "kernelspec": {
   "display_name": "Python 3 (ipykernel)",
   "language": "python",
   "name": "python3"
  },
  "language_info": {
   "codemirror_mode": {
    "name": "ipython",
    "version": 3
   },
   "file_extension": ".py",
   "mimetype": "text/x-python",
   "name": "python",
   "nbconvert_exporter": "python",
   "pygments_lexer": "ipython3",
   "version": "3.11.5"
  }
 },
 "nbformat": 4,
 "nbformat_minor": 5
}
