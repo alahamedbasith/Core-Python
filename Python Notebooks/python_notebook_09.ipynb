{
 "cells": [
  {
   "cell_type": "markdown",
   "id": "80c8617a",
   "metadata": {},
   "source": [
    "# 16.Built-in Decorators in Python"
   ]
  },
  {
   "cell_type": "markdown",
   "id": "3f3dc29f",
   "metadata": {},
   "source": [
    "## Property Decorator in Python\n",
    "Python @property is one of the built-in decorators. The main purpose of any decorator is to change your class methods or attributes. A decorator feature in Python wraps in a function, appends several functionalities to existing code and then returns it. Methods and functions are known to be callable as they can be called. Therefore, a decorator is also a callable that returns callable. @property decorator in Python which is helpful in defining the properties effortlessly without manually calling the inbuilt function property().\n",
    "\n",
    "This is a Python program that defines a class named \"user\". The class has a constructor method __init__ that takes two parameters, \"name\" and \"age\", and sets them as instance variables \"self.name\" and \"self.age\" respectively.\n",
    "\n",
    "The class also has a property method \"msg\" decorated with @property. This method returns a string that combines the name and age of the instance as \"name is age years old\".\n",
    "\n",
    "\n",
    "\n",
    "An instance of the class named \"o\" is created with the name \"Tutor Joes\" and age 25. The values of the instance variables \"name\", \"age\", and \"msg\" are printed using dot notation. Then, the value of the \"age\" instance variable is changed to 45 and the \"msg\" property is printed again, showing the updated value."
   ]
  },
  {
   "cell_type": "code",
   "execution_count": 1,
   "id": "22cdda92",
   "metadata": {},
   "outputs": [
    {
     "name": "stdout",
     "output_type": "stream",
     "text": [
      "The employee name is Najim.The employee id is 50 and salary is 100000\n"
     ]
    }
   ],
   "source": [
    "class employee():\n",
    "    def __init__(self,emp_name,emp_id,emp_salary):\n",
    "        self.emp_name = emp_name\n",
    "        self.emp_id = emp_id\n",
    "        self.emp_salary = emp_salary\n",
    "        print(f\"The employee name is {self.emp_name}.The employee id is {self.emp_id} and salary is {self.emp_salary}\")\n",
    "        \n",
    "obj = employee(\"Najim\",50,100000)\n",
    "\n",
    "# I want to change employee id but it never change\n",
    "# Because the id is assigned when the object is initialized\n",
    "\n",
    "obj.emp_id = 80"
   ]
  },
  {
   "cell_type": "code",
   "execution_count": 2,
   "id": "41ed6af4",
   "metadata": {},
   "outputs": [
    {
     "name": "stdout",
     "output_type": "stream",
     "text": [
      "The employee name is Najim.The employee id is 80 and salary is 100000\n"
     ]
    }
   ],
   "source": [
    "# So I want to change employee id by using this way\n",
    "class employee():\n",
    "    def __init__(self,emp_name,emp_id,emp_salary):\n",
    "        self.emp_name = emp_name\n",
    "        self.emp_id = emp_id\n",
    "        self.emp_salary = emp_salary\n",
    "        \n",
    "    def information(self):\n",
    "        print(f\"The employee name is {self.emp_name}.The employee id is {self.emp_id} and salary is {self.emp_salary}\")\n",
    "\n",
    "obj = employee(\"Najim\",50,100000)\n",
    "\n",
    "# I want to change employee id \n",
    "# This way to achieve the target,the employee id is changed\n",
    "obj.emp_id = 80\n",
    "obj.information()"
   ]
  },
  {
   "cell_type": "code",
   "execution_count": 3,
   "id": "e7d5c22f",
   "metadata": {},
   "outputs": [
    {
     "data": {
      "text/plain": [
       "<bound method employee.information of <__main__.employee object at 0x000002AFB2BF04D0>>"
      ]
     },
     "execution_count": 3,
     "metadata": {},
     "output_type": "execute_result"
    }
   ],
   "source": [
    "# By accesing this way to gives address\n",
    "obj.information"
   ]
  },
  {
   "cell_type": "markdown",
   "id": "4e96b717",
   "metadata": {},
   "source": [
    "I want to access the above way to avoid the calling the way of function.It useful for huge amount of code reusability."
   ]
  },
  {
   "cell_type": "code",
   "execution_count": 4,
   "id": "1aee11d9",
   "metadata": {},
   "outputs": [
    {
     "name": "stdout",
     "output_type": "stream",
     "text": [
      "The employee name is Najim.The employee id is 80 and salary is 100000\n"
     ]
    }
   ],
   "source": [
    "# The function act as a property in the class using property method\n",
    "class employee():\n",
    "    def __init__(self,emp_name,emp_id,emp_salary):\n",
    "        self.emp_name = emp_name\n",
    "        self.emp_id = emp_id\n",
    "        self.emp_salary = emp_salary\n",
    "    \n",
    "    @property # The function act as a property in the class\n",
    "    def information(self):\n",
    "        print(f\"The employee name is {self.emp_name}.The employee id is {self.emp_id} and salary is {self.emp_salary}\")\n",
    "\n",
    "obj = employee(\"Najim\",50,100000)\n",
    "\n",
    "obj.emp_id = 80\n",
    "obj.information"
   ]
  },
  {
   "cell_type": "code",
   "execution_count": 5,
   "id": "569f211a",
   "metadata": {},
   "outputs": [
    {
     "name": "stdout",
     "output_type": "stream",
     "text": [
      "The employee name is Najim.The employee id is 80 and salary is 100000\n"
     ]
    }
   ],
   "source": [
    "obj.information # Without call using function brackets()"
   ]
  },
  {
   "cell_type": "markdown",
   "id": "96a9b220",
   "metadata": {},
   "source": [
    " ## Property Decorator Getter Setter in Python\n",
    " In Python, property decorators are used to define getter, setter, and deleter methods for class properties. They allow for the encapsulation of data, by controlling access to the underlying data. Property decorators are applied to methods and define how a property value can be retrieved, set, or deleted.\n",
    "\n",
    "   - **Getter:** A getter is a method that is used to retrieve the value of a property. The getter method is decorated with the @property decorator and has no arguments.\n",
    "   - **Setter:** A setter is a method that is used to set the value of a property. The setter method is decorated with the @<property_name>.setter decorator and takes one argument, the new value for the property.\n"
   ]
  },
  {
   "cell_type": "code",
   "execution_count": 6,
   "id": "2f2c74c0",
   "metadata": {},
   "outputs": [
    {
     "data": {
      "text/plain": [
       "30000"
      ]
     },
     "execution_count": 6,
     "metadata": {},
     "output_type": "execute_result"
    }
   ],
   "source": [
    "class Employee():\n",
    "    def __init__(self,emp_name,emp_salary,bonus):\n",
    "        self.emp_name = emp_name\n",
    "        self.emp_salary = emp_salary\n",
    "        self.bonus = bonus\n",
    "    def total_salary(self):\n",
    "        self.total = self.emp_salary + self.bonus\n",
    "        return self.total\n",
    "        \n",
    "obj = Employee(\"Ahamed\",10000,20000)\n",
    "obj.total_salary()"
   ]
  },
  {
   "cell_type": "code",
   "execution_count": 7,
   "id": "5f08eff9",
   "metadata": {},
   "outputs": [
    {
     "data": {
      "text/plain": [
       "30000"
      ]
     },
     "execution_count": 7,
     "metadata": {},
     "output_type": "execute_result"
    }
   ],
   "source": [
    "# I changed public variable to private (self.__bonus)\n",
    "# Data Encapsulation\n",
    "class Employee():\n",
    "    def __init__(self,emp_name,emp_salary,bonus):\n",
    "        self.emp_name = emp_name\n",
    "        self.emp_salary = emp_salary\n",
    "        self.__bonus = bonus\n",
    "    \n",
    "    def total_salary(self):\n",
    "        self.total = self.emp_salary + self.__bonus\n",
    "        return self.total\n",
    "        \n",
    "obj = Employee(\"Ahamed\",10000,20000)\n",
    "obj.total_salary()"
   ]
  },
  {
   "cell_type": "code",
   "execution_count": 8,
   "id": "d52a07df",
   "metadata": {},
   "outputs": [
    {
     "ename": "AttributeError",
     "evalue": "'Employee' object has no attribute '__bonus'",
     "output_type": "error",
     "traceback": [
      "\u001b[1;31m---------------------------------------------------------------------------\u001b[0m",
      "\u001b[1;31mAttributeError\u001b[0m                            Traceback (most recent call last)",
      "Cell \u001b[1;32mIn[8], line 1\u001b[0m\n\u001b[1;32m----> 1\u001b[0m obj\u001b[38;5;241m.\u001b[39m__bonus\n",
      "\u001b[1;31mAttributeError\u001b[0m: 'Employee' object has no attribute '__bonus'"
     ]
    }
   ],
   "source": [
    "obj.__bonus # Attribute Error for accessing because it is private variable"
   ]
  },
  {
   "cell_type": "code",
   "execution_count": 9,
   "id": "74f111e8",
   "metadata": {},
   "outputs": [
    {
     "name": "stdout",
     "output_type": "stream",
     "text": [
      "12000\n",
      "2000\n"
     ]
    }
   ],
   "source": [
    "# How to access the above element and achieve data encapsulation\n",
    "class Employee():\n",
    "    def __init__(self,emp_name,emp_salary,bonus):\n",
    "        self.emp_name = emp_name\n",
    "        self.emp_salary = emp_salary\n",
    "        self.__bonus = bonus\n",
    "    \n",
    "    def total_salary(self):\n",
    "        self.total = self.emp_salary + self.__bonus\n",
    "        return self.total\n",
    "    \n",
    "    def bonus(self):\n",
    "        return self.__bonus\n",
    "    \n",
    "obj = Employee(\"Ahamed\",10000,2000)\n",
    "print(obj.total_salary())\n",
    "print(obj.bonus()) # This way to get the hidden variable value"
   ]
  },
  {
   "cell_type": "code",
   "execution_count": 10,
   "id": "bc761153",
   "metadata": {},
   "outputs": [
    {
     "name": "stdout",
     "output_type": "stream",
     "text": [
      "12000\n",
      "2000\n"
     ]
    }
   ],
   "source": [
    "# Now change function into property\n",
    "# How to access the above element and achieve data encapsulation\n",
    "class Employee():\n",
    "    def __init__(self,emp_name,emp_salary,bonus):\n",
    "        self.emp_name = emp_name\n",
    "        self.emp_salary = emp_salary\n",
    "        self.__bonus = bonus\n",
    "    \n",
    "    def total_salary(self):\n",
    "        self.total = self.emp_salary + self.__bonus\n",
    "        return self.total\n",
    "    \n",
    "    @property \n",
    "    def bonus(self):\n",
    "        return self.__bonus\n",
    "    \n",
    "obj = Employee(\"Ahamed\",10000,2000)\n",
    "print(obj.total_salary())\n",
    "print(obj.bonus) # Changed into property"
   ]
  },
  {
   "cell_type": "code",
   "execution_count": 11,
   "id": "f02a01c1",
   "metadata": {},
   "outputs": [
    {
     "name": "stdout",
     "output_type": "stream",
     "text": [
      "12000\n",
      "2000\n"
     ]
    },
    {
     "ename": "AttributeError",
     "evalue": "property 'bonus' of 'Employee' object has no setter",
     "output_type": "error",
     "traceback": [
      "\u001b[1;31m---------------------------------------------------------------------------\u001b[0m",
      "\u001b[1;31mAttributeError\u001b[0m                            Traceback (most recent call last)",
      "Cell \u001b[1;32mIn[11], line 20\u001b[0m\n\u001b[0;32m     17\u001b[0m \u001b[38;5;28mprint\u001b[39m(obj\u001b[38;5;241m.\u001b[39mtotal_salary())\n\u001b[0;32m     18\u001b[0m \u001b[38;5;28mprint\u001b[39m(obj\u001b[38;5;241m.\u001b[39mbonus) \n\u001b[1;32m---> 20\u001b[0m obj\u001b[38;5;241m.\u001b[39mbonus \u001b[38;5;241m=\u001b[39m \u001b[38;5;241m5000\u001b[39m\n\u001b[0;32m     21\u001b[0m \u001b[38;5;28mprint\u001b[39m(obj\u001b[38;5;241m.\u001b[39mtotal_salary())\n\u001b[0;32m     22\u001b[0m \u001b[38;5;28mprint\u001b[39m(obj\u001b[38;5;241m.\u001b[39mbonus)\n",
      "\u001b[1;31mAttributeError\u001b[0m: property 'bonus' of 'Employee' object has no setter"
     ]
    }
   ],
   "source": [
    "# Suppose I change the value use the getter and setter method\n",
    "class Employee():\n",
    "    def __init__(self,emp_name,emp_salary,bonus):\n",
    "        self.emp_name = emp_name\n",
    "        self.emp_salary = emp_salary\n",
    "        self.__bonus = bonus\n",
    "    \n",
    "    def total_salary(self):\n",
    "        self.total = self.emp_salary + self.__bonus\n",
    "        return self.total\n",
    "    \n",
    "    @property \n",
    "    def bonus(self):\n",
    "        return self.__bonus\n",
    "    \n",
    "obj = Employee(\"Ahamed\",10000,2000)\n",
    "print(obj.total_salary())\n",
    "print(obj.bonus) \n",
    "\n",
    "obj.bonus = 5000\n",
    "print(obj.total_salary())\n",
    "print(obj.bonus) # Output wont change to 5000"
   ]
  },
  {
   "cell_type": "code",
   "execution_count": 12,
   "id": "bfaee036",
   "metadata": {},
   "outputs": [
    {
     "name": "stdout",
     "output_type": "stream",
     "text": [
      "12000\n",
      "2000\n",
      "15000\n",
      "5000\n"
     ]
    }
   ],
   "source": [
    "# Output wont change to 5000,So try these way to achieve\n",
    "class Employee():\n",
    "    def __init__(self,emp_name,emp_salary,bonus):\n",
    "        self.emp_name = emp_name\n",
    "        self.emp_salary = emp_salary\n",
    "        self.__bonus = bonus\n",
    "    \n",
    "    def total_salary(self):\n",
    "        self.total = self.emp_salary + self.__bonus\n",
    "        return self.total\n",
    "    \n",
    "    @property \n",
    "    def bonus(self):\n",
    "        return self.__bonus\n",
    "    \n",
    "    @bonus.setter # These way to update the element\n",
    "    def bonus(self,newvalue):\n",
    "        self.__bonus = newvalue\n",
    "    \n",
    "obj = Employee(\"Ahamed\",10000,2000)\n",
    "print(obj.total_salary())\n",
    "print(obj.bonus) \n",
    "\n",
    "obj.bonus = 5000\n",
    "print(obj.total_salary())\n",
    "print(obj.bonus)"
   ]
  },
  {
   "cell_type": "markdown",
   "id": "3f2e7b36",
   "metadata": {},
   "source": [
    "### Property Decorators Getter Setter (Another Example)"
   ]
  },
  {
   "cell_type": "code",
   "execution_count": 13,
   "id": "6baeca09",
   "metadata": {},
   "outputs": [
    {
     "name": "stdout",
     "output_type": "stream",
     "text": [
      "Total   :  450\n",
      "Average :  90.0\n",
      "Invalid Total and can't Change\n",
      "Total   :  450\n",
      "Average :  90.0\n"
     ]
    }
   ],
   "source": [
    "class student:\n",
    "    def __init__(self, total):\n",
    "        self.__total = total\n",
    " \n",
    "    def average(self):\n",
    "        return self.__total / 5.0\n",
    " \n",
    "    @property\n",
    "    def total(self):\n",
    "        return self.__total\n",
    " \n",
    "    @total.setter\n",
    "    def total(self, t):\n",
    "        if t < 0 or t > 500:\n",
    "            print(\"Invalid Total and can't Change\")\n",
    "        else:\n",
    "            self.__total = t\n",
    " \n",
    " \n",
    "o = student(450)\n",
    "print(\"Total   : \", o.total)\n",
    "print(\"Average : \", o.average())\n",
    "o.total = 550\n",
    "print(\"Total   : \", o.total)\n",
    "print(\"Average : \", o.average())"
   ]
  },
  {
   "cell_type": "markdown",
   "id": "53d1b650",
   "metadata": {},
   "source": [
    "### Property Method in Python\n",
    "Using property method to define the setter and getter"
   ]
  },
  {
   "cell_type": "code",
   "execution_count": 14,
   "id": "6624c4db",
   "metadata": {},
   "outputs": [
    {
     "name": "stdout",
     "output_type": "stream",
     "text": [
      "Total   :  450\n",
      "Average :  90.0\n",
      "Total   :  350\n",
      "Average :  70.0\n"
     ]
    }
   ],
   "source": [
    "# 1. Remove the all the property definition\n",
    "# 2.Then change property using function name to getter or setter based on needs\n",
    "\n",
    "class student:\n",
    "    def __init__(self, total):\n",
    "        self.__total = total\n",
    " \n",
    "    def average(self):\n",
    "        return self.__total / 5.0\n",
    " \n",
    "   # @property # Remove this, I just comment it\n",
    "    def setter(self): # change total name to setter\n",
    "        return self.__total\n",
    " \n",
    "   # @total.setter  # Remove this, I just comment it\n",
    "    def getter(self, t):  # change total name to getter\n",
    "        if t < 0 or t > 500:\n",
    "            print(\"Invalid Total and can't Change\")\n",
    "        else:\n",
    "            self.__total = t\n",
    "            \n",
    "    # Then pass the arguments getter and setter in property method\n",
    "    # Then assign the method to total\n",
    "    \n",
    "    total = property(setter,getter)\n",
    " \n",
    "o = student(450)\n",
    "print(\"Total   : \", o.total)\n",
    "print(\"Average : \", o.average())\n",
    "o.total = 350\n",
    "print(\"Total   : \", o.total)\n",
    "print(\"Average : \", o.average())"
   ]
  },
  {
   "cell_type": "markdown",
   "id": "32226bc0",
   "metadata": {},
   "source": [
    "### Class Method Decorator in Python\n",
    "In Python, a class method is a method that is bound to the class rather than an instance of the class. This means that it can be called on the class itself, without needing to create an instance of the class. Class methods are defined using the @classmethod decorator."
   ]
  },
  {
   "cell_type": "code",
   "execution_count": 15,
   "id": "0f5af2b5",
   "metadata": {},
   "outputs": [
    {
     "name": "stdout",
     "output_type": "stream",
     "text": [
      "50\n"
     ]
    }
   ],
   "source": [
    "class MyClass:\n",
    "    class_variable = 10\n",
    "\n",
    "    def __init__(self, x):\n",
    "        self.x = x\n",
    "\n",
    "    @classmethod\n",
    "    def class_method(cls, y):\n",
    "        return cls.class_variable * y\n",
    "\n",
    "# Using the class method without creating an instance of MyClass\n",
    "result = MyClass.class_method(5)\n",
    "print(result)  # Output: 50"
   ]
  },
  {
   "cell_type": "code",
   "execution_count": 16,
   "id": "3dc99e03",
   "metadata": {},
   "outputs": [
    {
     "name": "stdout",
     "output_type": "stream",
     "text": [
      "Name  :  Najim   Age :  16\n",
      "Name  :  Ahamed   Age :  17\n",
      "Total Admission : 2\n",
      "Total Admission : 2\n"
     ]
    }
   ],
   "source": [
    "# Another Example\n",
    "class student:\n",
    "    count = 0\n",
    " \n",
    "    # When the constructor called the count increases to 1\n",
    "    def __init__(self, name, age):\n",
    "        self.name = name\n",
    "        self.age = age\n",
    "        student.count += 1\n",
    " \n",
    "    def printDetail(self):\n",
    "        print(\"Name  : \", self.name, \"  Age : \", self.age)\n",
    " \n",
    "    @classmethod # define class method\n",
    "    def total(cls):\n",
    "        return cls.count\n",
    " \n",
    " \n",
    "o = student(\"Najim\", 16)\n",
    "o.printDetail() # Constructor called\n",
    "a = student(\"Ahamed\", 17)\n",
    "a.printDetail() # Constructor called\n",
    " \n",
    "print(\"Total Admission :\", student.total()) # Using Class\n",
    "print(\"Total Admission :\", o.total()) # Using Objects\n",
    " "
   ]
  },
  {
   "cell_type": "markdown",
   "id": "330f221e",
   "metadata": {},
   "source": [
    "### Static Method in Python\n",
    "In Python, a static method is a method that is bound to the class rather than an instance of the class, similar to class methods. However, unlike class methods, static methods do not take the class or instance as their first argument. They are defined using the @staticmethod decorator."
   ]
  },
  {
   "cell_type": "code",
   "execution_count": 17,
   "id": "4593a098",
   "metadata": {},
   "outputs": [
    {
     "name": "stdout",
     "output_type": "stream",
     "text": [
      "8\n"
     ]
    }
   ],
   "source": [
    "class MyClass:\n",
    "    @staticmethod\n",
    "    def static_method(x, y):\n",
    "        return x + y\n",
    "\n",
    "# Using the static method without creating an instance of MyClass\n",
    "result = MyClass.static_method(3, 5)\n",
    "print(result)  # Output: 8"
   ]
  },
  {
   "cell_type": "code",
   "execution_count": 18,
   "id": "d3778588",
   "metadata": {},
   "outputs": [
    {
     "name": "stdout",
     "output_type": "stream",
     "text": [
      "Name :  Najim   Age :  16\n"
     ]
    },
    {
     "ename": "TypeError",
     "evalue": "student.welcome() takes 0 positional arguments but 1 was given",
     "output_type": "error",
     "traceback": [
      "\u001b[1;31m---------------------------------------------------------------------------\u001b[0m",
      "\u001b[1;31mTypeError\u001b[0m                                 Traceback (most recent call last)",
      "Cell \u001b[1;32mIn[18], line 18\u001b[0m\n\u001b[0;32m     16\u001b[0m s1 \u001b[38;5;241m=\u001b[39m student(\u001b[38;5;124m\"\u001b[39m\u001b[38;5;124mNajim\u001b[39m\u001b[38;5;124m\"\u001b[39m, \u001b[38;5;241m16\u001b[39m)\n\u001b[0;32m     17\u001b[0m s1\u001b[38;5;241m.\u001b[39mprintDetail()\n\u001b[1;32m---> 18\u001b[0m s1\u001b[38;5;241m.\u001b[39mwelcome()\n\u001b[0;32m     21\u001b[0m s2 \u001b[38;5;241m=\u001b[39m student(\u001b[38;5;124m\"\u001b[39m\u001b[38;5;124mAhamed\u001b[39m\u001b[38;5;124m\"\u001b[39m, \u001b[38;5;241m17\u001b[39m)\n\u001b[0;32m     22\u001b[0m s2\u001b[38;5;241m.\u001b[39mprintDetail()\n",
      "\u001b[1;31mTypeError\u001b[0m: student.welcome() takes 0 positional arguments but 1 was given"
     ]
    }
   ],
   "source": [
    "# Static Method in Python\n",
    "# Another Example\n",
    " \n",
    "class student:\n",
    "    def __init__(self, name, age):\n",
    "        self.name = name\n",
    "        self.age = age\n",
    " \n",
    "    def printDetail(self):\n",
    "        print(\"Name : \", self.name, \"  Age : \", self.age)\n",
    " \n",
    "    def welcome(): # Gives error without define static method\n",
    "        print(\"Welcome to our Institution\")\n",
    " \n",
    " \n",
    "s1 = student(\"Najim\", 16)\n",
    "s1.printDetail()\n",
    "s1.welcome()\n",
    " \n",
    "\n",
    "s2 = student(\"Ahamed\", 17)\n",
    "s2.printDetail()\n",
    "s2.welcome()"
   ]
  },
  {
   "cell_type": "code",
   "execution_count": 19,
   "id": "f27fbbf3",
   "metadata": {},
   "outputs": [
    {
     "name": "stdout",
     "output_type": "stream",
     "text": [
      "Name :  Najim   Age :  16\n",
      "Welcome to our Institution\n",
      "Name :  Ahamed   Age :  17\n",
      "Welcome to our Institution\n"
     ]
    }
   ],
   "source": [
    "# Static Method in Python\n",
    "# Another Example\n",
    " \n",
    "class student:\n",
    "    def __init__(self, name, age):\n",
    "        self.name = name\n",
    "        self.age = age\n",
    " \n",
    "    def printDetail(self):\n",
    "        print(\"Name : \", self.name, \"  Age : \", self.age)\n",
    "     \n",
    "    @staticmethod\n",
    "    def welcome():\n",
    "        print(\"Welcome to our Institution\")\n",
    " \n",
    " \n",
    "s1 = student(\"Najim\", 16)\n",
    "s1.printDetail()\n",
    "s1.welcome()\n",
    " \n",
    "\n",
    "s2 = student(\"Ahamed\", 17)\n",
    "s2.printDetail()\n",
    "s2.welcome()"
   ]
  },
  {
   "cell_type": "markdown",
   "id": "5e67281b",
   "metadata": {},
   "source": [
    "#### Prepared By,\n",
    "Ahamed Basith"
   ]
  },
  {
   "cell_type": "code",
   "execution_count": null,
   "id": "eedf4e9f",
   "metadata": {},
   "outputs": [],
   "source": []
  }
 ],
 "metadata": {
  "kernelspec": {
   "display_name": "Python 3 (ipykernel)",
   "language": "python",
   "name": "python3"
  },
  "language_info": {
   "codemirror_mode": {
    "name": "ipython",
    "version": 3
   },
   "file_extension": ".py",
   "mimetype": "text/x-python",
   "name": "python",
   "nbconvert_exporter": "python",
   "pygments_lexer": "ipython3",
   "version": "3.11.5"
  }
 },
 "nbformat": 4,
 "nbformat_minor": 5
}
