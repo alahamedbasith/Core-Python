{
 "cells": [
  {
   "cell_type": "markdown",
   "id": "bdb0f55f",
   "metadata": {},
   "source": [
    "# 20. File Handling in Python\n",
    " File handling is an important part of any web application. Python has several functions for creating, reading, updating, and deleting files."
   ]
  },
  {
   "cell_type": "markdown",
   "id": "6c69ba65",
   "metadata": {},
   "source": [
    "## Types of File in Python\n",
    "\n",
    "### Binary file ( written in binary language, 0s, and 1s ) -- Audio,Video etc.\n",
    "   All binary files follow a specific format. We can open some binary files in the normal text editor but we can’t read the content present inside the file.\n",
    "         \n",
    "### Text file\n",
    "   A text file exists stored as data within a computer file system. Text files don’t have any specific encoding and it can be opened in normal text editor itself. "
   ]
  },
  {
   "cell_type": "markdown",
   "id": "296fa4fe",
   "metadata": {},
   "source": [
    "### How to File Open\n",
    "\n",
    "     The key function for working with files in Python is the open() function. This function takes two parameters; filename, and mode.\n",
    "      Syntax :\n",
    "           file_object = open ( file_name , mode )\n",
    "\n",
    "    file_name is a string that represents the name of the file you want to open\n",
    "    modeis a string that represents how you want to open the file.\n",
    "\n",
    "Some Common Modes\n",
    "\n",
    "    'r': read-only mode (default)\n",
    "    'w': write mode (overwrites existing file or creates a new one)\n",
    "    'a': append mode (appends to an existing file or creates a new one)\n",
    "    'x': exclusive creation mode (creates a new file, fails if the file already exists)\n",
    "\n",
    "Once the file is opened, you can perform various operations on it, such as reading or writing to it. It is important to close the file once you are done with it, using the close() method."
   ]
  },
  {
   "cell_type": "markdown",
   "id": "5be6ee03",
   "metadata": {},
   "source": [
    "## File Reading"
   ]
  },
  {
   "cell_type": "code",
   "execution_count": 1,
   "id": "737dc7ec",
   "metadata": {},
   "outputs": [
    {
     "name": "stdout",
     "output_type": "stream",
     "text": [
      "Hello Python \n",
      "Hello C++\n"
     ]
    }
   ],
   "source": [
    "# File Reading with read function\n",
    "file = open(\"demo.txt\",'r')\n",
    "print(file.read())"
   ]
  },
  {
   "cell_type": "code",
   "execution_count": 2,
   "id": "fda6f9fb",
   "metadata": {},
   "outputs": [
    {
     "name": "stdout",
     "output_type": "stream",
     "text": [
      "Hello Python \n",
      "\n"
     ]
    }
   ],
   "source": [
    "# File Reading with readline function\n",
    "file = open(\"demo.txt\",'r')\n",
    "print(file.readline()) # Read single line of the file"
   ]
  },
  {
   "cell_type": "code",
   "execution_count": 3,
   "id": "49753e59",
   "metadata": {},
   "outputs": [
    {
     "name": "stdout",
     "output_type": "stream",
     "text": [
      "Hello Python \n",
      "\n",
      "Hello C++\n"
     ]
    }
   ],
   "source": [
    "# File Reading with readline function\n",
    "file = open(\"demo.txt\",'r')\n",
    "print(file.readline()) # Read single line of the file\n",
    "print(file.readline()) # Read single line of the file"
   ]
  },
  {
   "cell_type": "code",
   "execution_count": 4,
   "id": "b86af1c1",
   "metadata": {},
   "outputs": [
    {
     "name": "stdout",
     "output_type": "stream",
     "text": [
      "Hello Python \n",
      "\n",
      "Hel\n"
     ]
    }
   ],
   "source": [
    "# File Reading with readline function using parameters\n",
    "file = open(\"demo.txt\",'r')\n",
    "print(file.readline()) # Read single line of the file\n",
    "print(file.readline(3)) # Read single line of the file"
   ]
  },
  {
   "cell_type": "code",
   "execution_count": 5,
   "id": "95027beb",
   "metadata": {},
   "outputs": [
    {
     "name": "stdout",
     "output_type": "stream",
     "text": [
      "He\n",
      "llo\n"
     ]
    }
   ],
   "source": [
    "# File Reading with readline function using parameters\n",
    "file = open(\"demo.txt\",'r')\n",
    "print(file.readline(2)) # Read single line of the file\n",
    "print(file.readline(3)) # Read single line of the file\n",
    "# Note the differences"
   ]
  },
  {
   "cell_type": "code",
   "execution_count": 6,
   "id": "993cafc9",
   "metadata": {},
   "outputs": [
    {
     "name": "stdout",
     "output_type": "stream",
     "text": [
      "['Hello Python \\n', 'Hello C++']\n"
     ]
    }
   ],
   "source": [
    "# File Reading using readlines function\n",
    "file = open(\"demo.txt\",'r')\n",
    "print(file.readlines()) # Each line converts into list"
   ]
  },
  {
   "cell_type": "code",
   "execution_count": 7,
   "id": "7e3d24b7",
   "metadata": {},
   "outputs": [
    {
     "name": "stdout",
     "output_type": "stream",
     "text": [
      "Hello Python \n",
      "\n",
      "Hello C++\n"
     ]
    }
   ],
   "source": [
    "# File Reading using loop\n",
    "file = open(\"demo.txt\",'r')\n",
    "\n",
    "for line in file:\n",
    "    print(line)"
   ]
  },
  {
   "cell_type": "code",
   "execution_count": 8,
   "id": "4d8a129e",
   "metadata": {},
   "outputs": [
    {
     "name": "stdout",
     "output_type": "stream",
     "text": [
      "Hello Python \n",
      "Hello C++\n",
      "File Terminated\n"
     ]
    }
   ],
   "source": [
    "# File Reading with error handling\n",
    "try:\n",
    "    file = open(\"demo.txt\",'r')\n",
    "    print(file.read())\n",
    "except FileNotFoundError as e:\n",
    "    print(e)\n",
    "else:\n",
    "    file.close()\n",
    "    print(\"File Terminated\")"
   ]
  },
  {
   "cell_type": "code",
   "execution_count": 9,
   "id": "fb847150",
   "metadata": {},
   "outputs": [
    {
     "name": "stdout",
     "output_type": "stream",
     "text": [
      "[Errno 2] No such file or directory: 'demos.txt'\n"
     ]
    }
   ],
   "source": [
    "# File Not Found\n",
    "try:\n",
    "    file = open(\"demos.txt\",'r')\n",
    "    print(file.read())\n",
    "except FileNotFoundError as e:\n",
    "    print(e)\n",
    "else:\n",
    "    file.close()\n",
    "    print(\"File Terminated\")"
   ]
  },
  {
   "cell_type": "markdown",
   "id": "d7efc912",
   "metadata": {},
   "source": [
    "## File Writing or Overwriting"
   ]
  },
  {
   "cell_type": "code",
   "execution_count": 10,
   "id": "0b31d9e1",
   "metadata": {},
   "outputs": [
    {
     "name": "stdout",
     "output_type": "stream",
     "text": [
      "Hello Everyone\n"
     ]
    }
   ],
   "source": [
    "file = open(\"demo1.txt\",'w') # Creating a new file with writing\n",
    "file.write(\"Hello Everyone\")\n",
    "file.close()\n",
    "\n",
    "file = open(\"demo1.txt\",'r')\n",
    "print(file.read())"
   ]
  },
  {
   "cell_type": "code",
   "execution_count": 11,
   "id": "01efeb9e",
   "metadata": {},
   "outputs": [
    {
     "name": "stdout",
     "output_type": "stream",
     "text": [
      "Hello Python\n"
     ]
    }
   ],
   "source": [
    "file = open(\"demo.txt\",'w') # Modifying a existing file with writing\n",
    "file.write(\"Hello Python\")\n",
    "file.close()\n",
    "\n",
    "file = open(\"demo.txt\",'r')\n",
    "print(file.read())"
   ]
  },
  {
   "cell_type": "markdown",
   "id": "95f23b7e",
   "metadata": {},
   "source": [
    "## Updating a File using append mode"
   ]
  },
  {
   "cell_type": "code",
   "execution_count": 12,
   "id": "7562a478",
   "metadata": {},
   "outputs": [
    {
     "name": "stdout",
     "output_type": "stream",
     "text": [
      "Hello Python\n",
      "Hello C++\n"
     ]
    }
   ],
   "source": [
    "file = open(\"demo.txt\",'a') # Modifying a existing file with writing\n",
    "file.write(\"\\n\")\n",
    "file.write(\"Hello C++\")\n",
    "file.close()\n",
    "\n",
    "file = open(\"demo.txt\",'r')\n",
    "print(file.read())"
   ]
  },
  {
   "cell_type": "markdown",
   "id": "49be8379",
   "metadata": {},
   "source": [
    "## Delete a File using OS remove function"
   ]
  },
  {
   "cell_type": "code",
   "execution_count": 13,
   "id": "3fef839c",
   "metadata": {},
   "outputs": [],
   "source": [
    "import os\n",
    "\n",
    "if os.path.exists(\"demo1.txt\"):\n",
    "    os.remove(\"demo1.txt\")\n",
    "else:\n",
    "    print(\"File Not Found\")"
   ]
  },
  {
   "cell_type": "markdown",
   "id": "230364bd",
   "metadata": {},
   "source": [
    "#### Prepared By,\n",
    "Ahamed Basith"
   ]
  },
  {
   "cell_type": "code",
   "execution_count": null,
   "id": "1122c5c6",
   "metadata": {},
   "outputs": [],
   "source": []
  }
 ],
 "metadata": {
  "kernelspec": {
   "display_name": "Python 3 (ipykernel)",
   "language": "python",
   "name": "python3"
  },
  "language_info": {
   "codemirror_mode": {
    "name": "ipython",
    "version": 3
   },
   "file_extension": ".py",
   "mimetype": "text/x-python",
   "name": "python",
   "nbconvert_exporter": "python",
   "pygments_lexer": "ipython3",
   "version": "3.11.5"
  }
 },
 "nbformat": 4,
 "nbformat_minor": 5
}
