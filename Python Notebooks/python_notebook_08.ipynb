{
 "cells": [
  {
   "cell_type": "markdown",
   "id": "bc8c9f98",
   "metadata": {},
   "source": [
    "# 15.Class and Objects\n",
    "\n",
    "Python is an object oriented programming language. Almost everything in Python is an object is simply a collection of data (variables) and methods (functions) that act on those data. A Class is like an object constructor, or a \"blueprint\" for creating objects. You can create many objects from the same class type. \n",
    "\n",
    "Example :\n",
    "   A dog has states - color, name, breed as well as behaviors – wagging the tail, barking, eating. An object is an instance of a class. \n",
    "   \n",
    "**Syntax of Class:**<br>\n",
    "      class Class_Name :<br>\n",
    "            # statements "
   ]
  },
  {
   "cell_type": "code",
   "execution_count": 1,
   "id": "86f9739a",
   "metadata": {},
   "outputs": [
    {
     "name": "stdout",
     "output_type": "stream",
     "text": [
      "<class 'int'>\n",
      "<class 'type'>\n",
      "True\n",
      "False\n",
      "True\n",
      "<class '__main__.car'>\n"
     ]
    }
   ],
   "source": [
    "class car():\n",
    "    pass\n",
    "\n",
    "a = 10\n",
    "print(type(a))\n",
    "print(type(car))\n",
    "\n",
    "# Creating object for a class\n",
    "\n",
    "breaks =  car()\n",
    "\n",
    "print(isinstance(breaks,car))\n",
    "print(isinstance(a,car))\n",
    "print(isinstance(a,int))\n",
    "\n",
    "print(type(breaks))"
   ]
  },
  {
   "cell_type": "markdown",
   "id": "456f895f",
   "metadata": {},
   "source": [
    "## 1.Class Attributes in Python\n",
    "Class attributes belong to the class itself they will be shared by all the instances. Such attributes are defined in the class body parts usually at the top, for legibility.\n",
    "\n",
    " 1. getattr ( object , name [ , default ] )\n",
    "\n",
    "   - object => object whose named attribute's value is to be returned\n",
    "   - name => string that contains the attribute's name\n",
    "   - default ( Optional ) => The value is returned when the named attribute is not found\n",
    "\n",
    "  2. setattr( object , name , value )\n",
    "\n",
    "   - object => object whose named attribute value is to be assigning.\n",
    "   - name => The assigned variable name\n",
    "   - default => The assigned variable value.\n",
    "\n",
    "  3. delattr( object , name )\n",
    "\n",
    "   - object => object whose named attribute value is to be removed.\n",
    "   - name => The attribute which is to be removed.\n"
   ]
  },
  {
   "cell_type": "markdown",
   "id": "ecee1553",
   "metadata": {},
   "source": [
    "### Class Attribute"
   ]
  },
  {
   "cell_type": "code",
   "execution_count": 2,
   "id": "6306922b",
   "metadata": {},
   "outputs": [],
   "source": [
    "''' This is Class Attributes '''\n",
    "\n",
    "class College():\n",
    "    courses = ['Cse','EEE','ECE','Petro']\n",
    "    year_of_start = 2000\n",
    " \n",
    " \n",
    "''' This is Class Attributes '''\n",
    "\n",
    "class Student():\n",
    "    name = \"Najim\"\n",
    "    age = 16"
   ]
  },
  {
   "cell_type": "markdown",
   "id": "a57d4c5c",
   "metadata": {},
   "source": [
    "### Get Attribute"
   ]
  },
  {
   "cell_type": "code",
   "execution_count": 3,
   "id": "43a0d7d0",
   "metadata": {},
   "outputs": [
    {
     "name": "stdout",
     "output_type": "stream",
     "text": [
      "Najim\n",
      "16\n"
     ]
    }
   ],
   "source": [
    "# Accessing the values using class and attributes\n",
    "# getattr method\n",
    "\n",
    "print(getattr(Student, 'name'))\n",
    "print(getattr(Student, 'age'))"
   ]
  },
  {
   "cell_type": "code",
   "execution_count": 4,
   "id": "cb22f733",
   "metadata": {},
   "outputs": [],
   "source": [
    "# print(getattr(Student, 'gender')) # Attribute Error"
   ]
  },
  {
   "cell_type": "code",
   "execution_count": 5,
   "id": "73741428",
   "metadata": {},
   "outputs": [
    {
     "name": "stdout",
     "output_type": "stream",
     "text": [
      "No Such Attribute Found\n"
     ]
    }
   ],
   "source": [
    "# Using one more parameter to avoid the error\n",
    "print(getattr(Student, 'gender', 'No Such Attribute Found'))"
   ]
  },
  {
   "cell_type": "code",
   "execution_count": 6,
   "id": "2e72d5b1",
   "metadata": {},
   "outputs": [
    {
     "name": "stdout",
     "output_type": "stream",
     "text": [
      "Najim\n",
      "16\n"
     ]
    }
   ],
   "source": [
    "# Also accessing the value using dot notation\n",
    "print(Student.name)\n",
    "print(Student.age)"
   ]
  },
  {
   "cell_type": "markdown",
   "id": "68dc394b",
   "metadata": {},
   "source": [
    "### Set Attribute"
   ]
  },
  {
   "cell_type": "code",
   "execution_count": 7,
   "id": "229a0ce1",
   "metadata": {},
   "outputs": [
    {
     "name": "stdout",
     "output_type": "stream",
     "text": [
      "Keyboard\n",
      "300\n",
      "2\n"
     ]
    }
   ],
   "source": [
    "# Set Attribute\n",
    "\n",
    "class Electronics():\n",
    "    product_name = \"Mouse\"\n",
    "    rate = 300\n",
    "    warrenty = 2\n",
    "    \n",
    "# Set attribute for updating the value\n",
    "setattr(Electronics,\"product_name\",\"Keyboard\")\n",
    "\n",
    "print(Electronics.product_name)\n",
    "print(Electronics.rate)\n",
    "print(Electronics.warrenty)"
   ]
  },
  {
   "cell_type": "code",
   "execution_count": 8,
   "id": "3424a6ab",
   "metadata": {},
   "outputs": [
    {
     "name": "stdout",
     "output_type": "stream",
     "text": [
      "Najim\n",
      "16\n",
      "Male\n"
     ]
    }
   ],
   "source": [
    "# Set attribute for adding new attribute and the value\n",
    "\n",
    "class Application:\n",
    "    applicant_name = \"Najim\"\n",
    "    applicant_age = 16\n",
    "    \n",
    "# Adding the new attribute and value\n",
    "setattr(Application,\"applicant_gender\",\"Male\")\n",
    "\n",
    "print(Application.applicant_name)\n",
    "print(Application.applicant_age)\n",
    "print(Application.applicant_gender)"
   ]
  },
  {
   "cell_type": "code",
   "execution_count": 9,
   "id": "47706b6c",
   "metadata": {},
   "outputs": [
    {
     "name": "stdout",
     "output_type": "stream",
     "text": [
      "Tenkasi\n"
     ]
    }
   ],
   "source": [
    "class Student():\n",
    "    name = \"Najim\"\n",
    "    age = 16\n",
    "    \n",
    "# Another way to adding the new attribute and value\n",
    "\n",
    "Student.city = \"Tenkasi\"\n",
    "print(Student.city)"
   ]
  },
  {
   "cell_type": "markdown",
   "id": "367cdb2d",
   "metadata": {},
   "source": [
    "### Delete Attribute"
   ]
  },
  {
   "cell_type": "code",
   "execution_count": 10,
   "id": "30506be1",
   "metadata": {},
   "outputs": [
    {
     "name": "stdout",
     "output_type": "stream",
     "text": [
      "{'__module__': '__main__', 'name': 'Najim', 'age': 16, '__dict__': <attribute '__dict__' of 'Student' objects>, '__weakref__': <attribute '__weakref__' of 'Student' objects>, '__doc__': None, 'city': 'Tenkasi'}\n"
     ]
    }
   ],
   "source": [
    "print(Student.__dict__)"
   ]
  },
  {
   "cell_type": "code",
   "execution_count": 11,
   "id": "1b9d740c",
   "metadata": {},
   "outputs": [],
   "source": [
    "# Delete the attribute\n",
    "delattr(Student,\"city\")"
   ]
  },
  {
   "cell_type": "code",
   "execution_count": 12,
   "id": "ae55fff4",
   "metadata": {},
   "outputs": [
    {
     "name": "stdout",
     "output_type": "stream",
     "text": [
      "{'__module__': '__main__', 'name': 'Najim', 'age': 16, '__dict__': <attribute '__dict__' of 'Student' objects>, '__weakref__': <attribute '__weakref__' of 'Student' objects>, '__doc__': None}\n"
     ]
    }
   ],
   "source": [
    "print(Student.__dict__)"
   ]
  },
  {
   "cell_type": "code",
   "execution_count": 13,
   "id": "55aff849",
   "metadata": {},
   "outputs": [],
   "source": [
    "# Another Way to delete attribute\n",
    "del Student.age"
   ]
  },
  {
   "cell_type": "code",
   "execution_count": 14,
   "id": "a6770a8f",
   "metadata": {},
   "outputs": [
    {
     "name": "stdout",
     "output_type": "stream",
     "text": [
      "{'__module__': '__main__', 'name': 'Najim', '__dict__': <attribute '__dict__' of 'Student' objects>, '__weakref__': <attribute '__weakref__' of 'Student' objects>, '__doc__': None}\n"
     ]
    }
   ],
   "source": [
    "print(Student.__dict__)"
   ]
  },
  {
   "cell_type": "markdown",
   "id": "704ad88d",
   "metadata": {},
   "source": [
    "## 2.Instance Attributes in Python\n",
    "\n",
    "A class is a blueprint for the creation of different objects. When the objects get created to form the class, they no longer depend on the class attribute. Also, the class has no control over the attributes of the instances created.\n",
    "\n",
    "**Syntax of Object:**<br>\n",
    "      object_name = class_name ( arguments ) "
   ]
  },
  {
   "cell_type": "code",
   "execution_count": 15,
   "id": "26b2a7f3",
   "metadata": {},
   "outputs": [
    {
     "name": "stdout",
     "output_type": "stream",
     "text": [
      "{'__module__': '__main__', 'course': 'Java', '__dict__': <attribute '__dict__' of 'user' objects>, '__weakref__': <attribute '__weakref__' of 'user' objects>, '__doc__': None}\n",
      "Java\n"
     ]
    }
   ],
   "source": [
    "class user():\n",
    "    course = 'Java'\n",
    "    \n",
    " # Create the object 'o' \n",
    "o = user() \n",
    "print(user.__dict__)\n",
    "\n",
    " # Print Class attribute\n",
    "print(user.course) "
   ]
  },
  {
   "cell_type": "code",
   "execution_count": 16,
   "id": "8ea2b30a",
   "metadata": {},
   "outputs": [
    {
     "name": "stdout",
     "output_type": "stream",
     "text": [
      "{}\n",
      "Java\n"
     ]
    }
   ],
   "source": [
    "# Just object created for the class it does not take whole dict format of the class\n",
    "print(o.__dict__) \n",
    "\n",
    "# Print Instance attribute\n",
    "print(o.course)"
   ]
  },
  {
   "cell_type": "markdown",
   "id": "c7abd526",
   "metadata": {},
   "source": [
    "##### Note:\n",
    "Instance attribute assignment does not change original the class value.If you want change class attribute value use class attribute method."
   ]
  },
  {
   "cell_type": "code",
   "execution_count": 17,
   "id": "7cf419ff",
   "metadata": {},
   "outputs": [
    {
     "name": "stdout",
     "output_type": "stream",
     "text": [
      "{'course': 'C++'}\n",
      "C++\n"
     ]
    }
   ],
   "source": [
    "# Assign the Instance attribute value using object\n",
    "o.course = \"C++\"\n",
    "print(o.__dict__)\n",
    "print(o.course)"
   ]
  },
  {
   "cell_type": "code",
   "execution_count": 18,
   "id": "f3affd4d",
   "metadata": {},
   "outputs": [
    {
     "name": "stdout",
     "output_type": "stream",
     "text": [
      "Java\n"
     ]
    }
   ],
   "source": [
    "# Note the differences\n",
    "o2 = user()\n",
    "print(o2.course)"
   ]
  },
  {
   "cell_type": "markdown",
   "id": "1f9a4354",
   "metadata": {},
   "source": [
    "## 3.Class Method in Python\n",
    "In Python, a class method is a method that is bound to the class rather than its instances (objects). It can be called on either the class itself or its instances. Class methods are defined using the @classmethod decorator."
   ]
  },
  {
   "cell_type": "markdown",
   "id": "82771d1a",
   "metadata": {},
   "source": [
    "Class methods and functions are not the same, although they can perform similar tasks. The key difference lies in their usage and behavior within classes.\n",
    "\n",
    "### Distinctions between Class Methods and Functions:\n",
    "\n",
    "1. **Scope and Binding:**\n",
    "    - **Function:** A regular function is not bound to a class or its instances. It can be defined anywhere in the code and called independently.\n",
    "    - **Class Method:** A class method is bound to the class itself rather than its instances. It can access and modify class-level attributes and perform operations related to the class as a whole.\n",
    "\n",
    "2. **Decorator:**\n",
    "    - **Function:** Functions do not require any special decorator to define them.\n",
    "    - **Class Method:** Class methods are defined using the `@classmethod` decorator to indicate that they are bound to the class.\n",
    "\n",
    "3. **First Parameter:**\n",
    "    - **Function:** Functions do not have any special first parameter requirement.\n",
    "    - **Class Method:** Class methods have the first parameter conventionally named as `cls`, which represents the class itself.\n",
    "\n",
    "4. **Usage:**\n",
    "    - **Function:** Functions are used for general-purpose operations and can be called on their own, outside the context of a class.\n",
    "    - **Class Method:** Class methods are often used for operations that involve the class itself or need to be performed before an instance is created. They are called on the class itself or its instances."
   ]
  },
  {
   "cell_type": "code",
   "execution_count": 19,
   "id": "41076204",
   "metadata": {},
   "outputs": [
    {
     "name": "stdout",
     "output_type": "stream",
     "text": [
      "This is a function.\n",
      "This is a class method. Class attribute value: 0\n"
     ]
    }
   ],
   "source": [
    "# Example\n",
    "\n",
    "# Regular function\n",
    "def my_function():\n",
    "    print(\"This is a function.\")\n",
    "\n",
    "# Class with a class method\n",
    "class MyClass:\n",
    "    class_attr = 0\n",
    "    \n",
    "    @classmethod\n",
    "    def my_class_method(cls):\n",
    "        print(f\"This is a class method. Class attribute value: {cls.class_attr}\")\n",
    "\n",
    "# Usage of function and class method\n",
    "my_function()  # Calling a function\n",
    "MyClass.my_class_method()  # Calling a class method\n"
   ]
  },
  {
   "cell_type": "code",
   "execution_count": 20,
   "id": "ceed2746",
   "metadata": {},
   "outputs": [],
   "source": [
    "# Class Methods\n",
    "class Student:\n",
    "    name = \"Mohamed Najim\"\n",
    "    age = 16\n",
    " \n",
    "    # Regular function\n",
    "    def printall_function():\n",
    "        print(\"Name : \", Student.name)\n",
    "        print(\"Age  : \", Student.age)\n",
    "        \n",
    "    # Method function\n",
    "    @classmethod\n",
    "    def printall_method(cls):\n",
    "        print(\"Name : \",cls.name)\n",
    "        print(\"Age : \",cls.age)\n"
   ]
  },
  {
   "cell_type": "code",
   "execution_count": 21,
   "id": "3c69c34f",
   "metadata": {},
   "outputs": [
    {
     "name": "stdout",
     "output_type": "stream",
     "text": [
      "Name :  Mohamed Najim\n",
      "Age  :  16\n"
     ]
    }
   ],
   "source": [
    "Student.printall_function()"
   ]
  },
  {
   "cell_type": "code",
   "execution_count": 22,
   "id": "80ee22f7",
   "metadata": {},
   "outputs": [
    {
     "name": "stdout",
     "output_type": "stream",
     "text": [
      "Name :  Mohamed Najim\n",
      "Age :  16\n"
     ]
    }
   ],
   "source": [
    "Student.printall_method()"
   ]
  },
  {
   "cell_type": "code",
   "execution_count": 23,
   "id": "dcfbe6af",
   "metadata": {},
   "outputs": [
    {
     "name": "stdout",
     "output_type": "stream",
     "text": [
      "{'__module__': '__main__', 'name': 'Mohamed Najim', 'age': 16, 'printall_function': <function Student.printall_function at 0x0000023D03AF5F80>, 'printall_method': <classmethod(<function Student.printall_method at 0x0000023D03AF6020>)>, '__dict__': <attribute '__dict__' of 'Student' objects>, '__weakref__': <attribute '__weakref__' of 'Student' objects>, '__doc__': None}\n"
     ]
    }
   ],
   "source": [
    "print(Student.__dict__)"
   ]
  },
  {
   "cell_type": "code",
   "execution_count": 24,
   "id": "357a0fd5",
   "metadata": {},
   "outputs": [
    {
     "name": "stdout",
     "output_type": "stream",
     "text": [
      "<bound method Student.printall_method of <class '__main__.Student'>>\n"
     ]
    }
   ],
   "source": [
    "print(getattr(Student, \"printall_method\"))"
   ]
  },
  {
   "cell_type": "code",
   "execution_count": 25,
   "id": "ca11a5d0",
   "metadata": {},
   "outputs": [
    {
     "name": "stdout",
     "output_type": "stream",
     "text": [
      "Name :  Mohamed Najim\n",
      "Age :  16\n"
     ]
    }
   ],
   "source": [
    "# Accessing through get attribute method\n",
    "getattr(Student, \"printall_method\")()"
   ]
  },
  {
   "cell_type": "code",
   "execution_count": 26,
   "id": "55cfe8f8",
   "metadata": {},
   "outputs": [
    {
     "name": "stdout",
     "output_type": "stream",
     "text": [
      "{'__module__': '__main__', 'name': 'Mohamed Najim', 'age': 16, 'printall_function': <function Student.printall_function at 0x0000023D03AF5F80>, 'printall_method': <classmethod(<function Student.printall_method at 0x0000023D03AF6020>)>, '__dict__': <attribute '__dict__' of 'Student' objects>, '__weakref__': <attribute '__weakref__' of 'Student' objects>, '__doc__': None}\n"
     ]
    }
   ],
   "source": [
    "print(Student.__dict__)"
   ]
  },
  {
   "cell_type": "code",
   "execution_count": 27,
   "id": "ffe1dba9",
   "metadata": {},
   "outputs": [
    {
     "name": "stdout",
     "output_type": "stream",
     "text": [
      "Name :  Mohamed Najim\n",
      "Age  :  16\n"
     ]
    }
   ],
   "source": [
    "# Accessing through dict\n",
    "Student.__dict__['printall_function']()"
   ]
  },
  {
   "cell_type": "markdown",
   "id": "25d99be7",
   "metadata": {},
   "source": [
    "## 4.instance Methods in Python\n",
    "Instance methods in Python are functions defined within a class that operate on instances (objects) of that class. These methods take the instance itself as the first parameter, conventionally named self, allowing them to access and modify instance attributes and perform operations specific to individual instances.\n",
    "\n",
    "**Self:**\n",
    "In Python, self is a conventionally used name for the first parameter of instance methods within a class. It represents the instance (object) itself on which the method is called. The use of self is crucial for accessing and manipulating instance variables and invoking other methods within the class."
   ]
  },
  {
   "cell_type": "code",
   "execution_count": 28,
   "id": "fff992db",
   "metadata": {},
   "outputs": [
    {
     "name": "stdout",
     "output_type": "stream",
     "text": [
      "Name :  Najim\n",
      "Age  :  16\n",
      "Gender  :  Male\n"
     ]
    }
   ],
   "source": [
    "# instance Methods\n",
    "class Student:\n",
    "    age = 16\n",
    "    gender = \"Male\"\n",
    "     \n",
    "    def printall(self,name):\n",
    "        print(\"Name : \", name)\n",
    "        print(\"Age  : \", self.age)\n",
    "        print(\"Gender  : \",self.gender)\n",
    "\n",
    "obj = Student()\n",
    "\n",
    "\"\"\"\n",
    "o.printall() => Student.printall(o) => refers 'self'\n",
    "\n",
    "\"\"\"\n",
    "\n",
    "# The object automatically passes as an argument - This refers to self in class method\n",
    "obj.printall(\"Najim\")"
   ]
  },
  {
   "cell_type": "code",
   "execution_count": 29,
   "id": "82444d10",
   "metadata": {},
   "outputs": [
    {
     "name": "stdout",
     "output_type": "stream",
     "text": [
      "Name :  Mohamed\n",
      "Age  :  16\n",
      "Gender  :  Male\n"
     ]
    }
   ],
   "source": [
    "# Directly passing object as argument\n",
    "Student.printall(obj,\"Mohamed\")"
   ]
  },
  {
   "cell_type": "markdown",
   "id": "5de7b4ee",
   "metadata": {},
   "source": [
    "## 4.init() Methods in Python [Constructors]\n",
    "\n",
    " The __init__ method, also known as the constructor method, is a special method in Python classes that gets called automatically when a new instance of the class is created. The __init__ method is used to initialize the attributes of the class and set them to the default values.\n",
    "\n",
    "This is a Python program defining a class named \"user\". The class has a constructor method __init__ that takes a name parameter and sets it as an instance variable \"self.name\". The class also has a method printall that prints the instance variable \"self.name\".\n",
    "\n",
    "Two instances of the class, o1 and o2, are created with the names \"Tutor Joes\" and \"Joes\" respectively. The printall method is called on each instance to print its name, and the __dict__ attribute is printed to show the instance variables and their values.\n",
    "\n",
    "Finally, the __dict__ attribute of the class itself is printed to show the class variables and their values, if any."
   ]
  },
  {
   "cell_type": "code",
   "execution_count": 30,
   "id": "767a299e",
   "metadata": {},
   "outputs": [
    {
     "name": "stdout",
     "output_type": "stream",
     "text": [
      "Call When new Instance Created\n"
     ]
    }
   ],
   "source": [
    "# init method in Python\n",
    " \n",
    "class user:\n",
    "    def __init__(self, name):\n",
    "        print(\"Call When new Instance Created\")\n",
    "        self.name = name\n",
    " \n",
    "    def printall(self):\n",
    "        print(\"Name : \", self.name)\n",
    " \n",
    " \n",
    "o1 = user(\"Najim\")"
   ]
  },
  {
   "cell_type": "code",
   "execution_count": 31,
   "id": "330d8b12",
   "metadata": {},
   "outputs": [
    {
     "data": {
      "text/plain": [
       "mappingproxy({'__module__': '__main__',\n",
       "              '__init__': <function __main__.user.__init__(self, name)>,\n",
       "              'printall': <function __main__.user.printall(self)>,\n",
       "              '__dict__': <attribute '__dict__' of 'user' objects>,\n",
       "              '__weakref__': <attribute '__weakref__' of 'user' objects>,\n",
       "              '__doc__': None})"
      ]
     },
     "execution_count": 31,
     "metadata": {},
     "output_type": "execute_result"
    }
   ],
   "source": [
    "user.__dict__"
   ]
  },
  {
   "cell_type": "code",
   "execution_count": 32,
   "id": "7399e701",
   "metadata": {},
   "outputs": [
    {
     "data": {
      "text/plain": [
       "{'name': 'Najim'}"
      ]
     },
     "execution_count": 32,
     "metadata": {},
     "output_type": "execute_result"
    }
   ],
   "source": [
    "o1.__dict__"
   ]
  },
  {
   "cell_type": "code",
   "execution_count": 33,
   "id": "d4b3c19e",
   "metadata": {},
   "outputs": [
    {
     "name": "stdout",
     "output_type": "stream",
     "text": [
      "Name :  Najim\n"
     ]
    }
   ],
   "source": [
    "o1.printall()"
   ]
  },
  {
   "cell_type": "code",
   "execution_count": 34,
   "id": "07a27613",
   "metadata": {},
   "outputs": [
    {
     "name": "stdout",
     "output_type": "stream",
     "text": [
      "Call When new Instance Created\n",
      "Name :  Lathif\n",
      "{'name': 'Lathif'}\n"
     ]
    }
   ],
   "source": [
    "o2 = user(\"Lathif\")\n",
    "o2.printall()\n",
    "print(o2.__dict__)"
   ]
  },
  {
   "cell_type": "code",
   "execution_count": 35,
   "id": "b45f64fe",
   "metadata": {},
   "outputs": [
    {
     "name": "stdout",
     "output_type": "stream",
     "text": [
      "{'__module__': '__main__', '__init__': <function user.__init__ at 0x0000023D03AB72E0>, 'printall': <function user.printall at 0x0000023D03AB6FC0>, '__dict__': <attribute '__dict__' of 'user' objects>, '__weakref__': <attribute '__weakref__' of 'user' objects>, '__doc__': None}\n"
     ]
    }
   ],
   "source": [
    "print(user.__dict__)"
   ]
  },
  {
   "cell_type": "code",
   "execution_count": 36,
   "id": "4afb7e38",
   "metadata": {},
   "outputs": [
    {
     "name": "stdout",
     "output_type": "stream",
     "text": [
      "Enter the employee name:Ahamed\n",
      "Enter the employee id:2\n",
      "Enter the Salary:100000\n",
      "Employee Name: Ahamed\n",
      "Employee ID: 2\n",
      "Employee Salary: 100000.0\n"
     ]
    }
   ],
   "source": [
    "# Example for init method in Python\n",
    "\n",
    "class employee():\n",
    "    \n",
    "    def __init__(self,emp_name,emp_id,emp_salary):\n",
    "        self.emp_name = emp_name\n",
    "        self.emp_id = emp_id\n",
    "        self.emp_salary = emp_salary\n",
    "        print(\"Employee Name:\",self.emp_name)\n",
    "        print(\"Employee ID:\",self.emp_id)\n",
    "        print(\"Employee Salary:\",self.emp_salary)\n",
    "\n",
    "emp_name = input(\"Enter the employee name:\")\n",
    "emp_id = int(input(\"Enter the employee id:\"))\n",
    "emp_salary = float(input(\"Enter the Salary:\"))\n",
    "        \n",
    "# Creating an instance of the Employee class\n",
    "# obj = employee(\"Ahamed\",34,100000)   \n",
    "\n",
    "obj = employee(emp_name,emp_id,emp_salary)    \n",
    "\n",
    "# No need to call obj.__init__(), __init__() is automatically called when creating the instance"
   ]
  },
  {
   "cell_type": "markdown",
   "id": "3abcfa92",
   "metadata": {},
   "source": [
    "#### Prepared By,\n",
    "Ahamed Basith"
   ]
  },
  {
   "cell_type": "code",
   "execution_count": null,
   "id": "f78602f6",
   "metadata": {},
   "outputs": [],
   "source": []
  }
 ],
 "metadata": {
  "kernelspec": {
   "display_name": "Python 3 (ipykernel)",
   "language": "python",
   "name": "python3"
  },
  "language_info": {
   "codemirror_mode": {
    "name": "ipython",
    "version": 3
   },
   "file_extension": ".py",
   "mimetype": "text/x-python",
   "name": "python",
   "nbconvert_exporter": "python",
   "pygments_lexer": "ipython3",
   "version": "3.11.5"
  }
 },
 "nbformat": 4,
 "nbformat_minor": 5
}
