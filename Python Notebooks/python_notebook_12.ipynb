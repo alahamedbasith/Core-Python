{
 "cells": [
  {
   "cell_type": "markdown",
   "id": "4cfbab8c",
   "metadata": {},
   "source": [
    "# 19.Operator Overloading in Python\n",
    "Operator overloading in Python is the ability to change the behavior of operators for user-defined data types. This is done by defining special methods for the operators in question. For example, the + operator can be redefined for a user-defined class to perform some specific operation. The special method that is used to overload the + operator is __add__(). Similarly, other operators like -, *, /, //, %, **, <, >, ==, != etc. can be overloaded using special methods like __sub__(), __mul__(), __truediv__(), __floordiv__(), __mod__(), __pow__(), __lt__(), __gt__(), __eq__(), __ne__() respectively."
   ]
  },
  {
   "cell_type": "raw",
   "id": "3ed3e5b4",
   "metadata": {},
   "source": [
    "Operator\tMagic Method\n",
    "+\t__add__(self, other)\n",
    "-\t__sub__(self, other)\n",
    "*\t__mul__(self, other)\n",
    "/\t__truediv__(self, other)\n",
    "//\t__floordiv__(self, other)\n",
    "%\t__mod__(self, other)\n",
    "**\t__pow__(self, other)\n",
    ">>\t__rshift__(self, other)\n",
    "<<\t__lshift__(self, other)\n",
    "&\t__and__(self, other)\n",
    "|\t__or__(self, other)\n",
    "^\t__xor__(self, other)\n",
    " \n",
    "Comparison Operators :\n",
    "Operator\tMagic Method\n",
    "<\t__LT__(SELF, OTHER)\n",
    ">\t__GT__(SELF, OTHER)\n",
    "<=\t__LE__(SELF, OTHER)\n",
    ">=\t__GE__(SELF, OTHER)\n",
    "==\t__EQ__(SELF, OTHER)\n",
    "!=\t__NE__(SELF, OTHER)\n",
    " \n",
    "Assignment Operators :\n",
    "Operator\tMagic Method\n",
    "-=\t__ISUB__(SELF, OTHER)\n",
    "+=\t__IADD__(SELF, OTHER)\n",
    "*=\t__IMUL__(SELF, OTHER)\n",
    "/=\t__IDIV__(SELF, OTHER)\n",
    "//=\t__IFLOORDIV__(SELF, OTHER)\n",
    "%=\t__IMOD__(SELF, OTHER)\n",
    "**=\t__IPOW__(SELF, OTHER)\n",
    ">>=\t__IRSHIFT__(SELF, OTHER)\n",
    "<<=\t__ILSHIFT__(SELF, OTHER)\n",
    "&=\t__IAND__(SELF, OTHER)\n",
    "|=\t__IOR__(SELF, OTHER)\n",
    "^=\t__IXOR__(SELF, OTHER)\n",
    " \n",
    "Unary Operators :\n",
    "Operator\tMagic Method\n",
    "-\t__NEG__(SELF, OTHER)\n",
    "+\t__POS__(SELF, OTHER)\n",
    "~\t__INVERT__(SELF, OTHER)"
   ]
  },
  {
   "cell_type": "code",
   "execution_count": 1,
   "id": "bbb69c93",
   "metadata": {},
   "outputs": [
    {
     "name": "stdout",
     "output_type": "stream",
     "text": [
      "30\n",
      "Hello World\n"
     ]
    }
   ],
   "source": [
    "# + operator for addition for integers\n",
    "a = 10\n",
    "b = 20\n",
    "print(a + b)\n",
    "\n",
    "# + operator for concatenation for string\n",
    "a = \"Hello\"\n",
    "b = \" World\"\n",
    "print(a + b)"
   ]
  },
  {
   "cell_type": "code",
   "execution_count": 2,
   "id": "0076159a",
   "metadata": {},
   "outputs": [
    {
     "name": "stdout",
     "output_type": "stream",
     "text": [
      "Total      :  30\n"
     ]
    }
   ],
   "source": [
    "# Now we define + operator for addition for class objects using operator overloading\n",
    "class Addition:\n",
    "    def __init__(self, a):\n",
    "        self.a = a\n",
    "      \n",
    "    def __add__(o1, o2):\n",
    "        return o1.a + o2.a\n",
    "        \n",
    "o1 = Addition(10)\n",
    "o2 = Addition(20)\n",
    " \n",
    "print(\"Total      : \", (o1 + o2))"
   ]
  },
  {
   "cell_type": "code",
   "execution_count": 3,
   "id": "5b93a582",
   "metadata": {},
   "outputs": [
    {
     "name": "stdout",
     "output_type": "stream",
     "text": [
      "Difference :  -10\n"
     ]
    }
   ],
   "source": [
    "# Now we define - operator for subtraction for class objects using operator overloading\n",
    "class Subtraction:\n",
    "    def __init__(self, a):\n",
    "        self.a = a\n",
    "      \n",
    "    def __sub__(o1, o2):\n",
    "        return o1.a - o2.a\n",
    "        \n",
    "o1 = Subtraction(10)\n",
    "o2 = Subtraction(20)\n",
    " \n",
    "print(\"Difference : \", (o1 - o2))"
   ]
  },
  {
   "cell_type": "code",
   "execution_count": 4,
   "id": "be0f9596",
   "metadata": {},
   "outputs": [
    {
     "name": "stdout",
     "output_type": "stream",
     "text": [
      "Addition Increment: 7\n"
     ]
    }
   ],
   "source": [
    "class AdditionIncrement:\n",
    "    def __init__(self, a):\n",
    "        self.a = a\n",
    "    \n",
    "    def __iadd__(self, other):\n",
    "        self.a += other.a\n",
    "        return self\n",
    "\n",
    "o1 = AdditionIncrement(5)\n",
    "o2 = AdditionIncrement(2)\n",
    "\n",
    "o1 += o2  # This line implicitly calls o1.__iadd__(o2)\n",
    "\n",
    "print(\"Addition Increment:\", o1.a)  # Output: Addition Increment: 7\n"
   ]
  },
  {
   "cell_type": "markdown",
   "id": "b36f778a",
   "metadata": {},
   "source": [
    "Likewise we can use operator overloading for any other operations based on the requirements of problem statement"
   ]
  },
  {
   "cell_type": "markdown",
   "id": "a0d976cd",
   "metadata": {},
   "source": [
    "#### Prepared By,\n",
    "Ahamed Basith"
   ]
  },
  {
   "cell_type": "code",
   "execution_count": null,
   "id": "861b591f",
   "metadata": {},
   "outputs": [],
   "source": []
  }
 ],
 "metadata": {
  "kernelspec": {
   "display_name": "Python 3 (ipykernel)",
   "language": "python",
   "name": "python3"
  },
  "language_info": {
   "codemirror_mode": {
    "name": "ipython",
    "version": 3
   },
   "file_extension": ".py",
   "mimetype": "text/x-python",
   "name": "python",
   "nbconvert_exporter": "python",
   "pygments_lexer": "ipython3",
   "version": "3.11.5"
  }
 },
 "nbformat": 4,
 "nbformat_minor": 5
}
