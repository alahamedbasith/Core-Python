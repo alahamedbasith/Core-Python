{
 "cells": [
  {
   "cell_type": "markdown",
   "id": "458d55e3",
   "metadata": {},
   "source": [
    "# 11.Loops in Python"
   ]
  },
  {
   "cell_type": "markdown",
   "id": "7dce7f7a",
   "metadata": {},
   "source": [
    "## Loops in Python\n",
    "\n",
    "In Python, loops are used to execute a block of code repeatedly until a certain condition is met. There are mainly two types of loops in Python: `for` loops and `while` loops.\n",
    "\n",
    "1. **For Loop**:\n",
    "\n",
    "  The `for` loop iterates over a sequence (e.g., a list, tuple, string, or range) and executes the block of code for each element in the sequence.\n",
    "\n",
    "Syntax:\n",
    "\n",
    "```python\n",
    "   for element in sequence:\n",
    "       # code block to be executed\n"
   ]
  },
  {
   "cell_type": "markdown",
   "id": "82917228",
   "metadata": {},
   "source": [
    "2. **While Loop**:\n",
    "    \n",
    "  The `while` loop repeats a block of code as long as a specified condition is true. It's used when you don't know in advance how many times you need to iterate.\n",
    "\n",
    "Syntax:<br><br>\n",
    "   while condition:<br>\n",
    "       # code block to be executed"
   ]
  },
  {
   "cell_type": "markdown",
   "id": "82058fef",
   "metadata": {},
   "source": [
    "## While loops example\n",
    "\n",
    "Print the even numbers from 0 to user given range"
   ]
  },
  {
   "cell_type": "code",
   "execution_count": 1,
   "id": "0b8f672a",
   "metadata": {},
   "outputs": [
    {
     "name": "stdout",
     "output_type": "stream",
     "text": [
      "Enter the limit:10\n",
      "0\n",
      "2\n",
      "4\n",
      "6\n",
      "8\n",
      "10\n",
      "These are the even numbers from 0 to 10\n"
     ]
    }
   ],
   "source": [
    "user_range = int(input(\"Enter the limit:\"))\n",
    "\n",
    "i = 0\n",
    "while i <= user_range:\n",
    "    if i%2 == 0:\n",
    "        print(i)\n",
    "    i+=1\n",
    "else: # These else executes automatically once the loop is finished\n",
    "    print(\"These are the even numbers from 0 to\",i-1)"
   ]
  },
  {
   "cell_type": "markdown",
   "id": "4d8a232c",
   "metadata": {},
   "source": [
    "### While loop using continue statement\n",
    "The continue statement in Python is used to skip the rest of the code inside a loop for the current iteration, and the control goes back to the beginning of the loop for the next iteration. It's particularly useful when you want to skip certain iterations based on a condition without exiting the entire loop.\n",
    "\n",
    "print the odd numbers from 1 to user given range"
   ]
  },
  {
   "cell_type": "code",
   "execution_count": 2,
   "id": "913af4fa",
   "metadata": {},
   "outputs": [
    {
     "name": "stdout",
     "output_type": "stream",
     "text": [
      "Enter the range:10\n",
      "1\n",
      "3\n",
      "5\n",
      "7\n",
      "9\n"
     ]
    }
   ],
   "source": [
    "user_range = int(input(\"Enter the range:\"))\n",
    "\n",
    "i = 1\n",
    "\n",
    "while i <= user_range:\n",
    "    if i%2 == 0:\n",
    "        i += 1\n",
    "        continue\n",
    "    print(i)\n",
    "    i += 1"
   ]
  },
  {
   "cell_type": "markdown",
   "id": "d4b92508",
   "metadata": {},
   "source": [
    "### While loop using break statement\n",
    "\n",
    "The break statements are your way of asking the loop to stop and execute the next statement. When a break statement is encountered inside a loop, the loop is immediately terminated and the program control resumes at the next statement following the loop"
   ]
  },
  {
   "cell_type": "code",
   "execution_count": 3,
   "id": "a75aebfa",
   "metadata": {},
   "outputs": [
    {
     "name": "stdout",
     "output_type": "stream",
     "text": [
      "1\n",
      "2\n",
      "3\n",
      "4\n",
      "5\n",
      "6\n"
     ]
    }
   ],
   "source": [
    "# Break Statement\n",
    "i = 1\n",
    "while i <= 20:\n",
    "    if i == 7:\n",
    "        break\n",
    "    print(i)\n",
    "    i += 1"
   ]
  },
  {
   "cell_type": "markdown",
   "id": "69d9272c",
   "metadata": {},
   "source": [
    "### Range in Python"
   ]
  },
  {
   "cell_type": "code",
   "execution_count": 4,
   "id": "f9d034e4",
   "metadata": {},
   "outputs": [
    {
     "name": "stdout",
     "output_type": "stream",
     "text": [
      "range(5, 8)\n",
      "[0, 1, 2, 3, 4]\n",
      "[2, 3, 4]\n",
      "[0, 2, 4, 6, 8, 10, 12, 14, 16, 18, 20]\n",
      "[1, 3, 5, 7, 9, 11, 13, 15, 17, 19]\n",
      "[]\n"
     ]
    }
   ],
   "source": [
    "# Range in Python\n",
    "\"\"\"\n",
    "1-5  =>1,2,3,4,5\n",
    "0-5 =>2,4  +2 increment\n",
    "range(5)  =>0,1,2,3,4\n",
    "range(2,5)  => 2,3,4\n",
    "\"\"\"\n",
    "print(range(5,8))\n",
    "print(list(range(5))) # Using list to extract the value\n",
    "print(list(range(2, 5)))  # n-1\n",
    "print(list(range(0, 21, 2)))\n",
    "print(list(range(1, 20, 2)))\n",
    "print(list(range(5, 1)))  # Not valid (or) Empty list"
   ]
  },
  {
   "cell_type": "markdown",
   "id": "b22ca169",
   "metadata": {},
   "source": [
    "## For loops example \n",
    "\n",
    "Add the three integer numbers based on the user range"
   ]
  },
  {
   "cell_type": "code",
   "execution_count": 5,
   "id": "748d45a8",
   "metadata": {},
   "outputs": [
    {
     "name": "stdout",
     "output_type": "stream",
     "text": [
      "Enter the range:10\n",
      "Enter the number 01:20\n",
      "Enter the number 02:30\n",
      "Enter the number 03:40\n",
      "Total: 90\n",
      "Enter the number 01:50\n",
      "Enter the number 02:45\n",
      "Enter the number 03:34\n",
      "Total: 129\n",
      "Enter the number 01:34\n",
      "Enter the number 02:534\n",
      "Enter the number 03:54\n",
      "Total: 622\n",
      "Enter the number 01:434\n",
      "Enter the number 02:54\n",
      "Enter the number 03:34\n",
      "Total: 522\n",
      "Enter the number 01:34\n",
      "Enter the number 02:54\n",
      "Enter the number 03:34\n",
      "Total: 122\n",
      "Enter the number 01:34\n",
      "Enter the number 02:3\n",
      "Enter the number 03:5\n",
      "Total: 42\n",
      "Enter the number 01:5\n",
      "Enter the number 02:4\n",
      "Enter the number 03:34\n",
      "Total: 43\n",
      "Enter the number 01:34\n",
      "Enter the number 02:34\n",
      "Enter the number 03:34\n",
      "Total: 102\n",
      "Enter the number 01:34\n",
      "Enter the number 02:34\n",
      "Enter the number 03:4\n",
      "Total: 72\n",
      "Enter the number 01:34\n",
      "Enter the number 02:34\n",
      "Enter the number 03:34\n",
      "Total: 102\n"
     ]
    }
   ],
   "source": [
    "user_range = int(input(\"Enter the range:\"))\n",
    "\n",
    "total = 0\n",
    "for i in range(0,user_range):\n",
    "    num1 = int(input(\"Enter the number 01:\"))\n",
    "    num2 = int(input(\"Enter the number 02:\"))\n",
    "    num3 = int(input(\"Enter the number 03:\"))\n",
    "    total += num1 + num2 + num3\n",
    "    print(\"Total:\",total)\n",
    "    \n",
    "    total = 0 # Reset total to 0 "
   ]
  },
  {
   "cell_type": "code",
   "execution_count": 6,
   "id": "d7e19c27",
   "metadata": {},
   "outputs": [
    {
     "name": "stdout",
     "output_type": "stream",
     "text": [
      "1\n",
      "2\n",
      "3\n",
      "4\n",
      "6\n",
      "7\n",
      "8\n",
      "9\n",
      "10\n"
     ]
    }
   ],
   "source": [
    "# For Loop using continue statement\n",
    "\n",
    "# Let's say we want to print all numbers from 1 to 10 except for 5\n",
    "for i in range(1, 11):\n",
    "    if i == 5:\n",
    "        continue  # Skip the rest of the code in this iteration and move to the next iteration\n",
    "    print(i)"
   ]
  },
  {
   "cell_type": "markdown",
   "id": "6edab6b5",
   "metadata": {},
   "source": [
    "### Problem based on For loop\n",
    "Create a multiplication table based on user input."
   ]
  },
  {
   "cell_type": "code",
   "execution_count": 7,
   "id": "c2ff31ce",
   "metadata": {},
   "outputs": [
    {
     "name": "stdout",
     "output_type": "stream",
     "text": [
      "Enter the row range of the multiplicative table: 15\n",
      "Enter the table you want:5\n",
      "1x5=5\n",
      "2x5=10\n",
      "3x5=15\n",
      "4x5=20\n",
      "5x5=25\n",
      "6x5=30\n",
      "7x5=35\n",
      "8x5=40\n",
      "9x5=45\n",
      "10x5=50\n",
      "11x5=55\n",
      "12x5=60\n",
      "13x5=65\n",
      "14x5=70\n",
      "15x5=75\n"
     ]
    }
   ],
   "source": [
    "table_row_range = int(input(\"Enter the row range of the multiplicative table: \"))\n",
    "multiplicant = int(input(\"Enter the table you want:\"))\n",
    "\n",
    "for i in range(1,table_row_range+1):\n",
    "    print(\"{}x{}={}\".format(i,multiplicant,i*multiplicant))"
   ]
  },
  {
   "cell_type": "markdown",
   "id": "c67b243d",
   "metadata": {},
   "source": [
    "## Nested For loop in Python\n",
    "The nested loop refers to a loop within a loop, an inner loop within the body of an outer one. Nested loops are useful when for each pass through the outer loop, you need to repeat some action on the elements in the outer loop. The nested loop is a one iteration of the outer loop is first executed, after which the inner loop is executed. The execution of the inner loop continues till the condition described in the inner loop is satisfied. "
   ]
  },
  {
   "cell_type": "markdown",
   "id": "80d3d358",
   "metadata": {},
   "source": [
    "### Problems based on nested for loop"
   ]
  },
  {
   "cell_type": "code",
   "execution_count": 8,
   "id": "f3fc367d",
   "metadata": {},
   "outputs": [
    {
     "name": "stdout",
     "output_type": "stream",
     "text": [
      "* \n",
      "** \n",
      "*** \n",
      "**** \n",
      "***** \n"
     ]
    }
   ],
   "source": [
    "'''\n",
    "\n",
    " *\n",
    " **\n",
    " ***\n",
    " ****\n",
    " *****\n",
    " \n",
    " create the above pattern using nested for loop\n",
    " \n",
    "'''\n",
    "\n",
    "for i in range(1,6):\n",
    "    for j in range(i):\n",
    "        print(\"*\",end=\"\")\n",
    "    print(\" \")\n",
    "\n"
   ]
  },
  {
   "cell_type": "code",
   "execution_count": 9,
   "id": "f2abef7f",
   "metadata": {},
   "outputs": [
    {
     "name": "stdout",
     "output_type": "stream",
     "text": [
      "*****\n",
      "****\n",
      "***\n",
      "**\n",
      "*\n"
     ]
    }
   ],
   "source": [
    "'''\n",
    "\n",
    "*****\n",
    "****\n",
    "***\n",
    "**\n",
    "*\n",
    " create the above pattern using nested for loop\n",
    " \n",
    "'''\n",
    "\n",
    "for i in range(5,0,-1):\n",
    "    for j in range(i):\n",
    "        print(\"*\",end=\"\")\n",
    "    print(\"\")"
   ]
  },
  {
   "cell_type": "code",
   "execution_count": 10,
   "id": "df39553c",
   "metadata": {},
   "outputs": [
    {
     "data": {
      "text/plain": [
       "[5, 4, 3, 2, 1]"
      ]
     },
     "execution_count": 10,
     "metadata": {},
     "output_type": "execute_result"
    }
   ],
   "source": [
    "list(range(5,0,-1))"
   ]
  },
  {
   "cell_type": "code",
   "execution_count": 11,
   "id": "d45bfdda",
   "metadata": {},
   "outputs": [
    {
     "name": "stdout",
     "output_type": "stream",
     "text": [
      "6566676869\n",
      "6566676869\n",
      "6566676869\n",
      "6566676869\n",
      "6566676869\n",
      "--------------------------\n",
      "ABCDE\n",
      "ABCDE\n",
      "ABCDE\n",
      "ABCDE\n",
      "ABCDE\n"
     ]
    }
   ],
   "source": [
    "'''\n",
    "ABCDE\n",
    "ABCDE\n",
    "ABCDE\n",
    "ABCDE\n",
    "ABCDE\n",
    "\n",
    "ASCII CODE\n",
    "-------------\n",
    "A-Z => 65-90\n",
    "a-z=> 97-122\n",
    "\n",
    " create the above pattern using nested for loop\n",
    " \n",
    "'''\n",
    "\n",
    "for i in range(1,6):\n",
    "    for j in range(65,70):\n",
    "        print(j,end=\"\")\n",
    "    print(\"\")\n",
    "    \n",
    "print(\"--------------------------\")\n",
    "# Type casting for the integer to get character value\n",
    "for i in range(1,6):\n",
    "    for j in range(65,70):\n",
    "        print(chr(j),end=\"\")\n",
    "    print(\"\")"
   ]
  },
  {
   "cell_type": "markdown",
   "id": "2b2f0b7b",
   "metadata": {},
   "source": [
    "## While and For Else in Python\n"
   ]
  },
  {
   "cell_type": "markdown",
   "id": "87736aff",
   "metadata": {},
   "source": [
    "Else block will be executed only if the loop isn't terminated by a break statement. The else clause executes after the loop completes normally. This means that the loop did not encounter a break statement. They are really useful once you understand where to use them."
   ]
  },
  {
   "cell_type": "code",
   "execution_count": 12,
   "id": "f1d09267",
   "metadata": {},
   "outputs": [
    {
     "name": "stdout",
     "output_type": "stream",
     "text": [
      "1\n",
      "2\n",
      "3\n"
     ]
    }
   ],
   "source": [
    "# While Else \n",
    "\n",
    "i=1\n",
    "while i<=5:\n",
    "    if(i==4):\n",
    "        break\n",
    "    print(i)\n",
    "    i+=1\n",
    "else:\n",
    "    print(\"Loop Completed\")"
   ]
  },
  {
   "cell_type": "code",
   "execution_count": 13,
   "id": "f53c714e",
   "metadata": {},
   "outputs": [
    {
     "name": "stdout",
     "output_type": "stream",
     "text": [
      "1\n",
      "2\n",
      "3\n",
      "4\n",
      "5\n",
      "Loop Completed\n"
     ]
    }
   ],
   "source": [
    "# While Else \n",
    "\n",
    "i=1\n",
    "while i<=5:\n",
    "    #if(i==4):\n",
    "        #break\n",
    "    print(i)\n",
    "    i+=1\n",
    "else:\n",
    "    print(\"Loop Completed\")"
   ]
  },
  {
   "cell_type": "code",
   "execution_count": 14,
   "id": "3677aca0",
   "metadata": {},
   "outputs": [
    {
     "name": "stdout",
     "output_type": "stream",
     "text": [
      "1\n",
      "2\n",
      "3\n",
      "4\n"
     ]
    }
   ],
   "source": [
    "for i in range(1,21):\n",
    "    if i==5:\n",
    "        break\n",
    "    print(i)\n",
    "else:\n",
    "    print(\"For Loop Completed\")"
   ]
  },
  {
   "cell_type": "code",
   "execution_count": 15,
   "id": "a0bbc23f",
   "metadata": {},
   "outputs": [
    {
     "name": "stdout",
     "output_type": "stream",
     "text": [
      "1\n",
      "2\n",
      "3\n",
      "4\n",
      "5\n",
      "6\n",
      "7\n",
      "8\n",
      "9\n",
      "10\n",
      "11\n",
      "12\n",
      "13\n",
      "14\n",
      "15\n",
      "16\n",
      "17\n",
      "18\n",
      "19\n",
      "20\n",
      "For Loop Completed\n"
     ]
    }
   ],
   "source": [
    "for i in range(1,21):\n",
    "    #if i==5:\n",
    "        #break\n",
    "    print(i)\n",
    "else:\n",
    "    print(\"For Loop Completed\")"
   ]
  },
  {
   "cell_type": "markdown",
   "id": "c9d227d3",
   "metadata": {},
   "source": [
    "## Other forms of For loops"
   ]
  },
  {
   "cell_type": "code",
   "execution_count": 16,
   "id": "91cb1821",
   "metadata": {},
   "outputs": [
    {
     "name": "stdout",
     "output_type": "stream",
     "text": [
      "1\n",
      "2\n",
      "3\n",
      "4\n",
      "5\n"
     ]
    }
   ],
   "source": [
    "# Iterate the value from the list\n",
    "my_list = [1, 2, 3, 4, 5]\n",
    "\n",
    "for item in my_list:\n",
    "    print(item)"
   ]
  },
  {
   "cell_type": "code",
   "execution_count": 17,
   "id": "9c2cce81",
   "metadata": {},
   "outputs": [
    {
     "name": "stdout",
     "output_type": "stream",
     "text": [
      "Index: 0, Value: 1\n",
      "Index: 1, Value: 2\n",
      "Index: 2, Value: 3\n",
      "Index: 3, Value: 4\n",
      "Index: 4, Value: 5\n"
     ]
    }
   ],
   "source": [
    "# If you need both the index and the value, you can use the enumerate() function:\n",
    "my_list = [1, 2, 3, 4, 5]\n",
    "\n",
    "for index, value in enumerate(my_list):\n",
    "    print(f\"Index: {index}, Value: {value}\") # f used instead format() function"
   ]
  },
  {
   "cell_type": "markdown",
   "id": "ee6d322f",
   "metadata": {},
   "source": [
    "#### Prepared By,\n",
    "Ahamed Basith"
   ]
  },
  {
   "cell_type": "code",
   "execution_count": null,
   "id": "e81712d4",
   "metadata": {},
   "outputs": [],
   "source": []
  }
 ],
 "metadata": {
  "kernelspec": {
   "display_name": "Python 3 (ipykernel)",
   "language": "python",
   "name": "python3"
  },
  "language_info": {
   "codemirror_mode": {
    "name": "ipython",
    "version": 3
   },
   "file_extension": ".py",
   "mimetype": "text/x-python",
   "name": "python",
   "nbconvert_exporter": "python",
   "pygments_lexer": "ipython3",
   "version": "3.11.5"
  }
 },
 "nbformat": 4,
 "nbformat_minor": 5
}
