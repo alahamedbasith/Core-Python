{
 "cells": [
  {
   "cell_type": "markdown",
   "id": "1a6cb4fb",
   "metadata": {},
   "source": [
    "# 12.Functions in Python\n",
    "\n",
    " Python allows us to divide a large program into the basic building blocks known as a function. function is a group of related statements that performs a specific task. A function is a reusable block of code which only runs when it is called. You can pass data, known as parameters, into a function. A function can return data as a result.\n",
    "\n",
    "### Two Types of Function :\n",
    "   - **User-defined Function:** We can create our own function based on our requirements.\n",
    "   - **Standard Library Function:** These are built-in function in python that are available to use.\n",
    "        \n",
    "        \n",
    "**Syntax:**<br>\n",
    "   def function_name ( Parameter list ) : <br>\n",
    "        // function block\n",
    "\n",
    "**Return Syntax:** <br>\n",
    "     return expression\n",
    "\n",
    "**Function Types :**\n",
    "\n",
    "   - No Return Type With Argument Function\n",
    "   - No Return Type Without Argument Function\n",
    "   - Return Type Without Argument Function\n",
    "   - Return Type With Argument Function\n"
   ]
  },
  {
   "cell_type": "markdown",
   "id": "538791d7",
   "metadata": {},
   "source": [
    "## User Defined Functions"
   ]
  },
  {
   "cell_type": "markdown",
   "id": "4b32a26a",
   "metadata": {},
   "source": [
    "### 1.No Return Type Without Argument Function in Python"
   ]
  },
  {
   "cell_type": "code",
   "execution_count": 1,
   "id": "12409263",
   "metadata": {},
   "outputs": [
    {
     "name": "stdout",
     "output_type": "stream",
     "text": [
      "Enter the number 01:34\n",
      "Enter the number 02:23\n",
      "Enter the number 03:33\n",
      "Total: 90\n"
     ]
    }
   ],
   "source": [
    "# This function has no return and no arguments was passed\n",
    "def addthreenumbers():\n",
    "    num1 = int(input(\"Enter the number 01:\"))\n",
    "    num2 = int(input(\"Enter the number 02:\"))\n",
    "    num3 = int(input(\"Enter the number 03:\"))\n",
    "    total = num1 + num2 + num3\n",
    "    print(\"Total:\",total)\n",
    "    \n",
    "addthreenumbers()"
   ]
  },
  {
   "cell_type": "markdown",
   "id": "8aeda157",
   "metadata": {},
   "source": [
    "### 2.No Return Type With Argument Function in Python"
   ]
  },
  {
   "cell_type": "code",
   "execution_count": 2,
   "id": "fdd389a0",
   "metadata": {},
   "outputs": [
    {
     "name": "stdout",
     "output_type": "stream",
     "text": [
      "Enter the number 01:45\n",
      "Enter the number 02:43\n",
      "Enter the number 03:23\n",
      "Total: 111\n"
     ]
    }
   ],
   "source": [
    "# This function has no return and arguments was passed\n",
    "num1 = int(input(\"Enter the number 01:\"))\n",
    "num2 = int(input(\"Enter the number 02:\"))\n",
    "num3 = int(input(\"Enter the number 03:\"))\n",
    "\n",
    "def addthreenumbers(no1,no2,no3):\n",
    "    total = no1 + no2 + no3\n",
    "    print(\"Total:\",total)\n",
    "    \n",
    "addthreenumbers(num1,num2,num3)"
   ]
  },
  {
   "cell_type": "markdown",
   "id": "fbf7e09a",
   "metadata": {},
   "source": [
    "### 3.Return Type Without Argument Function in Python"
   ]
  },
  {
   "cell_type": "code",
   "execution_count": 3,
   "id": "3b618da4",
   "metadata": {},
   "outputs": [
    {
     "name": "stdout",
     "output_type": "stream",
     "text": [
      "Enter the number 01:23\n",
      "Enter the number 02:45\n",
      "Enter the number 03:44\n",
      "Total: 112\n"
     ]
    }
   ],
   "source": [
    "# This function has return and no arguments was passed\n",
    "def addthreenumbers():\n",
    "    num1 = int(input(\"Enter the number 01:\"))\n",
    "    num2 = int(input(\"Enter the number 02:\"))\n",
    "    num3 = int(input(\"Enter the number 03:\"))\n",
    "    total = num1 + num2 + num3\n",
    "    return total    \n",
    "total_sum = addthreenumbers()\n",
    "print(\"Total:\",total_sum)"
   ]
  },
  {
   "cell_type": "markdown",
   "id": "84e46364",
   "metadata": {},
   "source": [
    "### 4.Return Type With Argument Function in Python"
   ]
  },
  {
   "cell_type": "code",
   "execution_count": 4,
   "id": "c5751171",
   "metadata": {},
   "outputs": [
    {
     "name": "stdout",
     "output_type": "stream",
     "text": [
      "Enter the number 01:45\n",
      "Enter the number 02:43\n",
      "Enter the number 03:22\n",
      "Total: 110\n"
     ]
    }
   ],
   "source": [
    "# This function has return and arguments was passed\n",
    "num1 = int(input(\"Enter the number 01:\"))\n",
    "num2 = int(input(\"Enter the number 02:\"))\n",
    "num3 = int(input(\"Enter the number 03:\"))\n",
    "\n",
    "def addthreenumbers(no1,no2,no3):\n",
    "    total = no1 + no2 + no3\n",
    "    return total\n",
    "\n",
    "total_sum = addthreenumbers(num1,num2,num3)\n",
    "print(\"Total:\",total_sum)"
   ]
  },
  {
   "cell_type": "markdown",
   "id": "69ab5e99",
   "metadata": {},
   "source": [
    "### 5.Arbitrary Arguments Function in Python (*)"
   ]
  },
  {
   "cell_type": "code",
   "execution_count": 5,
   "id": "a96abbda",
   "metadata": {},
   "outputs": [
    {
     "name": "stdout",
     "output_type": "stream",
     "text": [
      "(2, 3, 4, 3, 2, 3)\n",
      "Total: 17\n"
     ]
    }
   ],
   "source": [
    "# Arbitrary function means we can pass n number of arguments\n",
    "# I want to add set of numbers\n",
    "\n",
    "total = 0\n",
    "\n",
    "def addnumbers(*numbers): # This definition indicate the arbitrary function\n",
    "    print(numbers)\n",
    "    global total  # Declare total as a global variable\n",
    "    for num in numbers:\n",
    "        total += num\n",
    " \n",
    " \n",
    "addnumbers(2,3,4,3,2,3)\n",
    "\n",
    "print(\"Total:\",total)"
   ]
  },
  {
   "cell_type": "markdown",
   "id": "a801c0ba",
   "metadata": {},
   "source": [
    "### 6.Keyword Arguments Function in Python"
   ]
  },
  {
   "cell_type": "code",
   "execution_count": 6,
   "id": "1c51a9b2",
   "metadata": {},
   "outputs": [
    {
     "name": "stdout",
     "output_type": "stream",
     "text": [
      "Ahamed  age is  21\n",
      "21  age is  Ahamed\n",
      "Ahamed  age is  21\n"
     ]
    }
   ],
   "source": [
    "def message(name, age):\n",
    "    print(name, \" age is \", age)\n",
    " \n",
    " \n",
    "message(\"Ahamed\",21)\n",
    "message(21,\"Ahamed\") # It returns vice versa and wrong output\n",
    "\n",
    "# So avoid this conflicts we use keyword argument function\n",
    "# Just assign the value to respective variable to avoid conflicts\n",
    "message(age = 21,name = \"Ahamed\") "
   ]
  },
  {
   "cell_type": "markdown",
   "id": "de9b4929",
   "metadata": {},
   "source": [
    "### 7.Arbitrary Keyword Arguments in Python(**)"
   ]
  },
  {
   "cell_type": "code",
   "execution_count": 7,
   "id": "65551778",
   "metadata": {},
   "outputs": [
    {
     "name": "stdout",
     "output_type": "stream",
     "text": [
      "{'course_01': 'Python', 'course_02': 'Machine Learning', 'course_03': 'E-Vehicle Design'}\n"
     ]
    }
   ],
   "source": [
    "course_list = {}\n",
    "\n",
    "def college(**courses):  # This definition indicate the arbitrary keyword function\n",
    "    # print(courses)\n",
    "    course_list.update(courses)\n",
    "    \n",
    "\n",
    "college(course_01 = \"Python\",course_02 = \"Machine Learning\",course_03 = \"E-Vehicle Design\")     \n",
    "\n",
    "print(course_list)"
   ]
  },
  {
   "cell_type": "markdown",
   "id": "4a5118e0",
   "metadata": {},
   "source": [
    "### 8.Default Parameter Function in Python"
   ]
  },
  {
   "cell_type": "code",
   "execution_count": 8,
   "id": "3ff1987b",
   "metadata": {},
   "outputs": [
    {
     "name": "stdout",
     "output_type": "stream",
     "text": [
      "Ahamed  is from  Dubai\n",
      "Najim  is from  London\n",
      "Javid  is from  India\n"
     ]
    }
   ],
   "source": [
    "def user(name, region = \"India\"):\n",
    "    print(name, \" is from \", region)\n",
    " \n",
    " \n",
    "user(\"Ahamed\", \"Dubai\")\n",
    "user(\"Najim\", \"London\")\n",
    "\n",
    "# See we pass only one argument but the output region is india default\n",
    "\n",
    "user(\"Javid\") "
   ]
  },
  {
   "cell_type": "markdown",
   "id": "b3bf6392",
   "metadata": {},
   "source": [
    "### 9.Passing a List,Tuple,Set and Dictionary as an Argument in Function Python"
   ]
  },
  {
   "cell_type": "code",
   "execution_count": 9,
   "id": "28a94f27",
   "metadata": {},
   "outputs": [
    {
     "name": "stdout",
     "output_type": "stream",
     "text": [
      "[55, 75, 80, 95, 47]\n",
      "(55, 75, 80, 95, 47)\n",
      "{80, 55, 75, 95, 47}\n",
      "{1: 55, 2: 75, 3: 80, 4: 95, 5: 47}\n"
     ]
    }
   ],
   "source": [
    "def each_type(marks):\n",
    "    print(marks)\n",
    "\n",
    "each_type([55, 75, 80, 95, 47])  # List\n",
    "each_type((55, 75, 80, 95, 47))  # Tuple\n",
    "each_type({55, 75, 80, 95, 47})  # Set\n",
    "each_type({1: 55, 2: 75, 3: 80, 4: 95, 5: 47})  # Dictionary"
   ]
  },
  {
   "cell_type": "code",
   "execution_count": 10,
   "id": "503895a7",
   "metadata": {},
   "outputs": [
    {
     "name": "stdout",
     "output_type": "stream",
     "text": [
      "Total: 352\n",
      "Total: 352\n",
      "Total: 352\n",
      "Total: 352\n"
     ]
    }
   ],
   "source": [
    "def total(marks):\n",
    "    if isinstance(marks, dict):  # Check if marks is a dictionary\n",
    "        return sum(marks.values())\n",
    "    else:\n",
    "        return sum(marks)\n",
    "\n",
    "print(\"Total:\", total([55, 75, 80, 95, 47]))  # List\n",
    "print(\"Total:\", total((55, 75, 80, 95, 47)))  # Tuple\n",
    "print(\"Total:\", total({55, 75, 80, 95, 47}))  # Set\n",
    "print(\"Total:\", total({1: 55, 2: 75, 3: 80, 4: 95, 5: 47}))  # Dictionary"
   ]
  },
  {
   "cell_type": "markdown",
   "id": "3cd31506",
   "metadata": {},
   "source": [
    "### 10.Recursive Function in Python"
   ]
  },
  {
   "cell_type": "code",
   "execution_count": 11,
   "id": "6ae0294b",
   "metadata": {},
   "outputs": [
    {
     "name": "stdout",
     "output_type": "stream",
     "text": [
      "Enter the number:5\n",
      "Factorial of 5 is 120\n"
     ]
    }
   ],
   "source": [
    "# Find the factorial of 5 \n",
    "\n",
    "# 1 * 2 * 3 * 4 * 5=120\n",
    "\n",
    "def fact(x):\n",
    "    if x == 1:\n",
    "        return 1\n",
    "    elif x == 0:\n",
    "        return 0\n",
    "    else:\n",
    "        return (x * fact(x-1))\n",
    "    \n",
    "\n",
    "\"\"\" Demonstration\n",
    "factorial(5)\n",
    "5*factorial(4)\n",
    "5*4*factorial(3)\n",
    "5*4*3*factorial(2)\n",
    "5*4*3*2*factorial(1)\n",
    "5*4*3*2*1\n",
    "120\n",
    "\"\"\"\n",
    "\n",
    "x = int(input(\"Enter the number:\"))\n",
    "\n",
    "print(\"Factorial of {} is {}\".format(x,fact(x)))"
   ]
  },
  {
   "cell_type": "markdown",
   "id": "38dd0503",
   "metadata": {},
   "source": [
    "### 11.Lambda Function in Python\n",
    "A lambda function in Python is a small anonymous function defined using the lambda keyword. Lambda functions can take any number of arguments but can only have one expression. They are particularly useful for short, one-time-use functions where defining a full function using the def keyword would be unnecessarily verbose.\n",
    "\n",
    "**Syntax:**\n",
    "lambda arguments: expression\n"
   ]
  },
  {
   "cell_type": "code",
   "execution_count": 12,
   "id": "dca4428e",
   "metadata": {},
   "outputs": [
    {
     "name": "stdout",
     "output_type": "stream",
     "text": [
      "55\n"
     ]
    }
   ],
   "source": [
    "c = lambda a: a + 50\n",
    "print(c(5))"
   ]
  },
  {
   "cell_type": "code",
   "execution_count": 13,
   "id": "645ccbcb",
   "metadata": {},
   "outputs": [
    {
     "name": "stdout",
     "output_type": "stream",
     "text": [
      "8\n"
     ]
    }
   ],
   "source": [
    "add = lambda x, y: x + y\n",
    "print(add(3, 5))  # Output: 8"
   ]
  },
  {
   "cell_type": "markdown",
   "id": "bcb499b5",
   "metadata": {},
   "source": [
    "### Map Function in Python\n",
    "\n",
    "The map() function in Python applies a given function to each item of an iterable (like a list, tuple, etc.) and returns a new iterable (typically a map object in Python 3 or a list in Python 2) with the results.\n",
    "\n",
    "map(function, iterable)\n"
   ]
  },
  {
   "cell_type": "code",
   "execution_count": 14,
   "id": "b5bbdf62",
   "metadata": {},
   "outputs": [
    {
     "name": "stdout",
     "output_type": "stream",
     "text": [
      "<map object at 0x00000240CC7CC9D0>\n",
      "[1, 4, 9, 16, 25]\n"
     ]
    }
   ],
   "source": [
    "# Define a function to square a number\n",
    "def square(x):\n",
    "    return x ** 2\n",
    "\n",
    "# Use map() to apply the square function to each element of the list\n",
    "result = map(square, [1, 2, 3, 4, 5])\n",
    "\n",
    "print(result)\n",
    "\n",
    "# Convert the map object to a list to see the results\n",
    "print(list(result))  # Output: [1, 4, 9, 16, 25]"
   ]
  },
  {
   "cell_type": "code",
   "execution_count": 15,
   "id": "357c44d2",
   "metadata": {},
   "outputs": [
    {
     "name": "stdout",
     "output_type": "stream",
     "text": [
      "[2, 4, 6, 8, 10]\n"
     ]
    }
   ],
   "source": [
    "# Using lambda with map() to double each element in a list\n",
    "numbers = [1, 2, 3, 4, 5]\n",
    "doubled_numbers = list(map(lambda x: x * 2, numbers))\n",
    "print(doubled_numbers)  # Output: [2, 4, 6, 8, 10]"
   ]
  },
  {
   "cell_type": "markdown",
   "id": "4c6cb313",
   "metadata": {},
   "source": [
    "### filter() Function:\n",
    "\n",
    "The filter() function is used to construct an iterator from elements of an iterable for which a function returns true.\n",
    "\n",
    "filter(function, iterable)\n"
   ]
  },
  {
   "cell_type": "code",
   "execution_count": 16,
   "id": "45eb7421",
   "metadata": {},
   "outputs": [
    {
     "name": "stdout",
     "output_type": "stream",
     "text": [
      "[2, 4, 6, 8, 10]\n"
     ]
    }
   ],
   "source": [
    "# Using lambda with filter() to filter out even numbers from a list\n",
    "# Filter out even numbers from a list\n",
    "numbers = [1, 2, 3, 4, 5, 6, 7, 8, 9, 10]\n",
    "even_numbers = list(filter(lambda x: x % 2 == 0, numbers))\n",
    "print(even_numbers)  # Output: [2, 4, 6, 8, 10]"
   ]
  },
  {
   "cell_type": "markdown",
   "id": "293cc3d6",
   "metadata": {},
   "source": [
    "**Explanation:**\n",
    "\n",
    "   - The lambda function lambda x: x % 2 == 0 returns True for even numbers and False for odd numbers.\n",
    "   - The filter() function iterates over each element in the numbers list and applies the lambda function to each element.\n",
    "   - It constructs a new iterable containing only those elements for which the lambda function returns True, i.e., the even numbers."
   ]
  },
  {
   "cell_type": "markdown",
   "id": "5a6a483c",
   "metadata": {},
   "source": [
    "### reduce() Function:\n",
    "\n",
    "The reduce() function is used to apply a function of two arguments cumulatively to the items of an iterable, from left to right, to reduce the iterable to a single value.\n",
    "\n",
    "reduce(function, iterable[, initializer])\n"
   ]
  },
  {
   "cell_type": "code",
   "execution_count": 17,
   "id": "ffda2015",
   "metadata": {},
   "outputs": [
    {
     "name": "stdout",
     "output_type": "stream",
     "text": [
      "120\n"
     ]
    }
   ],
   "source": [
    "from functools import reduce\n",
    "\n",
    "# Calculate the product of all elements in a list\n",
    "numbers = [1, 2, 3, 4, 5]\n",
    "product = reduce(lambda x, y: x * y, numbers)\n",
    "print(product)  # Output: 120 (1*2*3*4*5)"
   ]
  },
  {
   "cell_type": "markdown",
   "id": "71ac318d",
   "metadata": {},
   "source": [
    "**Explanation:**\n",
    "\n",
    "   - The lambda function lambda x, y: x * y is applied cumulatively to the elements of the numbers list.\n",
    "   - It first multiplies the first two elements (1 and 2), resulting in 2.\n",
    "   - Then it multiplies the result (2) with the next element (3), resulting in 6.\n",
    "   - This process continues until all elements are processed, resulting in the final product."
   ]
  },
  {
   "cell_type": "markdown",
   "id": "72595a6b",
   "metadata": {},
   "source": [
    "## Some Standard Library Function (Inbuild function)"
   ]
  },
  {
   "cell_type": "markdown",
   "id": "70da2b5e",
   "metadata": {},
   "source": [
    "### 1.Date Time Functions in Python\n",
    "\n",
    " Python datetime module is provided in Python to work with dates and times. A date in Python is not a data type of its own, but we can import a module named datetime to work with dates as date objects. These classes provide a number of functions to deal with dates, times and time intervals.\n",
    "\n",
    "Here are some examples of common date and time-related functions in Python:\n",
    "\n",
    "   - datetime.now(): Returns the current date and time.\n",
    "   - datetime.date(): Returns date object of today's date.\n",
    "   - datetime.time(): Returns the current time.\n",
    "   - datetime.datetime(): Returns the current date and time as a datetime object.\n",
    "   - datetime.timedelta(days=0, seconds=0, microseconds=0, milliseconds=0, minutes=0, hours=0, weeks=0): Represents the difference between two date or time values.\n",
    "\n",
    "The strftime() function is used to convert date and time objects to their string representation.\n",
    "**Syntax :**\n",
    "           strftime ( format )"
   ]
  },
  {
   "cell_type": "markdown",
   "id": "3752601f",
   "metadata": {},
   "source": [
    "<table class=\"table table-bordered\">\n",
    "<tbody><tr><th>Directive</th><th>Description</th><th>Example</th></tr><tr>\n",
    "</tr><tr><td>%A</td><td>Weekday full name </td><td>Monday</td></tr><tr>\n",
    "</tr><tr><td>%a</td><td>Weekday short name </td><td>Mon</td></tr><tr>\n",
    "</tr><tr><td>%d</td><td>Day of month (1-31)</td><td>26</td></tr><tr>\n",
    "</tr><tr><td>%b</td><td>Month of short name</td><td>Dec</td></tr><tr>\n",
    "</tr><tr><td>%B</td><td>Month of full name </td><td>December</td></tr><tr>\n",
    "</tr><tr><td>%Y</td><td>Year of full version , without century </td><td>2022</td></tr><tr>\n",
    "</tr><tr><td>%y</td><td>Year of short version</td><td>22</td></tr><tr>\n",
    "</tr><tr><td>%w</td><td>Weekday as a number ( 0-Sun , 1-Mon , 2-Tue , 3-Wed , 4-Thu , 5-Fri , 6-Sat )</td><td>1(Monday)</td></tr><tr>\n",
    "</tr><tr><td>%W</td><td>Week number of Year ( Monday as the first day of week ( 00-53 ) ) </td><td>48</td></tr><tr>\n",
    "</tr><tr><td>%m</td><td>Month  as a Number ( 1(Jun) - 12(Dec) )</td><td>12(Dec)</td></tr><tr>\n",
    "</tr><tr><td>%H</td><td>Hours ( 00-23 ) </td><td>15</td></tr><tr>\n",
    "</tr><tr><td>%M</td><td>Minute ( 00-59 ) </td><td>50</td></tr><tr>\n",
    "</tr><tr><td>%S</td><td>Second ( 00-59 ) </td><td>23</td></tr><tr>\n",
    "</tr><tr><td>%p</td><td>PM / AM </td><td>PM</td></tr><tr>\n",
    "</tr><tr><td>%c</td><td>Local version of date and time </td><td>Mon Dec 26 15 : 50 : 23 2022</td></tr><tr>\n",
    "</tr><tr><td>%X</td><td>Local version of time </td><td>15:50:23</td></tr><tr>\n",
    "</tr><tr><td>%x</td><td>Local version of date </td><td>12/26/22</td></tr><tr>\n",
    "</tr></tbody></table>"
   ]
  },
  {
   "cell_type": "code",
   "execution_count": 18,
   "id": "75ebee7b",
   "metadata": {},
   "outputs": [
    {
     "name": "stdout",
     "output_type": "stream",
     "text": [
      "Current Date :  2024-03-15\n"
     ]
    }
   ],
   "source": [
    "# Date Time in Python\n",
    "import datetime as dt\n",
    " \n",
    "current_date = dt.date.today()\n",
    "print(\"Current Date : \", current_date)"
   ]
  },
  {
   "cell_type": "code",
   "execution_count": 19,
   "id": "49f1b7da",
   "metadata": {},
   "outputs": [
    {
     "name": "stdout",
     "output_type": "stream",
     "text": [
      "2024-03-15\n",
      "Year :  2024\n",
      "Month :  3\n",
      "Day :  15\n"
     ]
    }
   ],
   "source": [
    "# Creating the date object \n",
    "new = dt.date(2024, 3, 15)\n",
    "print(new)\n",
    "print(\"Year : \", new.year)\n",
    "print(\"Month : \", new.month)\n",
    "print(\"Day : \", new.day)"
   ]
  },
  {
   "cell_type": "code",
   "execution_count": 20,
   "id": "02f678a3",
   "metadata": {},
   "outputs": [
    {
     "name": "stdout",
     "output_type": "stream",
     "text": [
      "10:45:05.555505\n",
      "Hour :  10\n",
      "minute :  45\n",
      "second :  5\n",
      "microsecond :  555505\n"
     ]
    }
   ],
   "source": [
    "# Creating the time object\n",
    "a = dt.time(10, 45, 5, 555505)\n",
    "print(a)\n",
    "print(\"Hour : \", a.hour)\n",
    "print(\"minute : \", a.minute)\n",
    "print(\"second : \", a.second)\n",
    "print(\"microsecond : \", a.microsecond)"
   ]
  },
  {
   "cell_type": "code",
   "execution_count": 21,
   "id": "5aed0527",
   "metadata": {},
   "outputs": [
    {
     "name": "stdout",
     "output_type": "stream",
     "text": [
      "Current Time :  2024-03-15 18:01:06.762537\n"
     ]
    }
   ],
   "source": [
    "current_time = dt.datetime.now()\n",
    "print(\"Current Time : \", current_time)"
   ]
  },
  {
   "cell_type": "code",
   "execution_count": 22,
   "id": "7365abe3",
   "metadata": {},
   "outputs": [
    {
     "name": "stdout",
     "output_type": "stream",
     "text": [
      "2021-05-31 12:02:10\n",
      "2021-05-31\n",
      "12:02:10\n"
     ]
    }
   ],
   "source": [
    "# Creating datetime object\n",
    "new = dt.datetime(2021, 5, 31, 12, 2, 10)\n",
    "print(new)\n",
    "print(new.date())\n",
    "print(new.time())"
   ]
  },
  {
   "cell_type": "code",
   "execution_count": 23,
   "id": "53908525",
   "metadata": {},
   "outputs": [
    {
     "name": "stdout",
     "output_type": "stream",
     "text": [
      "Current date and time: 2024-03-15 18:01:06.777468\n",
      "Difference: 27 days, 5:58:53.222532\n"
     ]
    }
   ],
   "source": [
    "# Calculate the interval of two dates\n",
    "current = dt.datetime.now()\n",
    "print(\"Current date and time:\",current)\n",
    "eid_mubarak = dt.datetime(2024, 4, 12)\n",
    "difference = eid_mubarak - current\n",
    "print(\"Difference:\",difference)"
   ]
  },
  {
   "cell_type": "code",
   "execution_count": 24,
   "id": "a3e79c40",
   "metadata": {},
   "outputs": [
    {
     "name": "stdout",
     "output_type": "stream",
     "text": [
      "2024-03-15 18:01:06.786320\n",
      "Friday Mar 15 2024\n"
     ]
    }
   ],
   "source": [
    "# Using some directives\n",
    "# Explore more directives from above table\n",
    "current = dt.datetime.now()\n",
    "print(current)\n",
    "s = current.strftime(\"%A %b %d %Y\")\n",
    "print(s)"
   ]
  },
  {
   "cell_type": "code",
   "execution_count": 25,
   "id": "c78cc1fd",
   "metadata": {},
   "outputs": [
    {
     "name": "stdout",
     "output_type": "stream",
     "text": [
      "PM\n"
     ]
    }
   ],
   "source": [
    "a = current.strftime(\"%p\") # return pm or am \n",
    "print(a)"
   ]
  },
  {
   "cell_type": "markdown",
   "id": "0c557d8c",
   "metadata": {},
   "source": [
    "### 2.Math Functions in Python\n",
    " The Python Math Library provides us access to some common math functions and constants in Python. The math module is used to access mathematical functions in the Python. Some of the most popular mathematical functions are defined in the math module. All methods of this functions are used for integer or real type objects, not for complex numbers.\n",
    "\n",
    "   - sqrt ( ) => The square root of the argument\n",
    "   - ceil ( ) => Rounds float value up to an integer value\n",
    "   - floor ( ) => Rounds float value down to an integer value\n",
    "   - fabs ( ) => Value is return to the absolute ( positive ) value\n",
    "   - pow ( ) => Returns the value of the first parameter raised to the second parameter\n",
    "   - factorial ( ) => Returns the factorial of a number\n",
    "\n",
    "The code you provided will perform the following operations when executed:\n",
    "\n",
    "   - math.sqrt(4): This will return the square root of 4, which is 2.0\n",
    "   - math.ceil(1.55555): This will round up the decimal number 1.55555 to the nearest integer, which is 2\n",
    "   - math.floor(1.55555): This will round down the decimal number 1.55555 to the nearest integer, which is 1\n",
    "   - math.factorial(5): This will return the factorial of 5, which is 120 (5! = 5 x 4 x 3 x 2 x 1)\n",
    "   - math.fabs(-5): This will return the absolute value of -5, which is 5\n",
    "   - math.pow(2, 3): This will raise 2 to the power of 3, which is 8\n",
    "   - math.log2(2): This will return the logarithm of 2 to the base 2, which is 1.0\n",
    "   - math.log10(2): This will return the logarithm of 2 to the base 10, which is approximately 0.30103\n",
    "   - math.pi: This will return the value of pi (π), which is approximately 3.14159\n",
    "   - math.e: This will return the value of Euler's number (e), which is approximately 2.71828 "
   ]
  },
  {
   "cell_type": "code",
   "execution_count": 26,
   "id": "84b9a5da",
   "metadata": {},
   "outputs": [
    {
     "name": "stdout",
     "output_type": "stream",
     "text": [
      "2.0\n",
      "2\n",
      "1\n"
     ]
    }
   ],
   "source": [
    "import math\n",
    " \n",
    "print(math.sqrt(4))\n",
    "print(math.ceil(1.55555))\n",
    "print(math.floor(1.55555))"
   ]
  },
  {
   "cell_type": "code",
   "execution_count": 27,
   "id": "1ee7bb7c",
   "metadata": {},
   "outputs": [
    {
     "name": "stdout",
     "output_type": "stream",
     "text": [
      "2\n"
     ]
    }
   ],
   "source": [
    "print(round(1.55555))"
   ]
  },
  {
   "cell_type": "code",
   "execution_count": 28,
   "id": "22c99f2b",
   "metadata": {},
   "outputs": [
    {
     "name": "stdout",
     "output_type": "stream",
     "text": [
      "120\n"
     ]
    }
   ],
   "source": [
    "# 5! => 1*2*3*4*5\n",
    "print(math.factorial(5))"
   ]
  },
  {
   "cell_type": "code",
   "execution_count": 29,
   "id": "09969ffb",
   "metadata": {},
   "outputs": [
    {
     "name": "stdout",
     "output_type": "stream",
     "text": [
      "5.0\n",
      "8.0\n"
     ]
    }
   ],
   "source": [
    "print(math.fabs(-5))\n",
    "print(math.pow(2, 3))"
   ]
  },
  {
   "cell_type": "code",
   "execution_count": 30,
   "id": "cab0ce92",
   "metadata": {},
   "outputs": [
    {
     "name": "stdout",
     "output_type": "stream",
     "text": [
      "1.0\n",
      "0.3010299956639812\n"
     ]
    }
   ],
   "source": [
    "print(math.log2(2))\n",
    "print(math.log10(2))"
   ]
  },
  {
   "cell_type": "code",
   "execution_count": 31,
   "id": "0efec5b9",
   "metadata": {},
   "outputs": [
    {
     "name": "stdout",
     "output_type": "stream",
     "text": [
      "3.141592653589793\n",
      "2.718281828459045\n"
     ]
    }
   ],
   "source": [
    "print(math.pi)\n",
    "print(math.e)"
   ]
  },
  {
   "cell_type": "markdown",
   "id": "6897f533",
   "metadata": {},
   "source": [
    "#### Prepared By,\n",
    "Ahamed Basith"
   ]
  },
  {
   "cell_type": "code",
   "execution_count": null,
   "id": "a6d2f387",
   "metadata": {},
   "outputs": [],
   "source": []
  }
 ],
 "metadata": {
  "kernelspec": {
   "display_name": "Python 3 (ipykernel)",
   "language": "python",
   "name": "python3"
  },
  "language_info": {
   "codemirror_mode": {
    "name": "ipython",
    "version": 3
   },
   "file_extension": ".py",
   "mimetype": "text/x-python",
   "name": "python",
   "nbconvert_exporter": "python",
   "pygments_lexer": "ipython3",
   "version": "3.11.5"
  }
 },
 "nbformat": 4,
 "nbformat_minor": 5
}
