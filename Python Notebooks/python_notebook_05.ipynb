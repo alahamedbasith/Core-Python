{
 "cells": [
  {
   "cell_type": "markdown",
   "id": "1c303be8",
   "metadata": {},
   "source": [
    "# 12. List,Tuples,Set and Dictionaries\n",
    "\n",
    "In Python, lists, tuples, sets, and dictionaries are collectively referred to as \"data structures\" or \"data types\". Each of these structures has its own characteristics and is used for different purposes:\n",
    "\n",
    "- **Lists**: Lists are ordered collections of items. They are mutable, meaning their elements can be modified after the list is created. Lists are created using square brackets `[ ]`.\n",
    "\n",
    "- **Tuples**: Tuples are similar to lists but are immutable, meaning their elements cannot be changed after the tuple is created. Tuples are created using parentheses `( )`.\n",
    "\n",
    "- **Sets**: Sets are unordered collections of unique elements. They do not allow duplicate elements. Sets are mutable, and they are created using curly braces `{ }` or the `set()` constructor.\n",
    "\n",
    "- **Dictionaries**: Dictionaries are collections of key-value pairs. They are unordered, mutable, and each key in a dictionary must be unique. Dictionaries are created using curly braces `{ }`, with key-value pairs separated by colons `:`.\n",
    "\n",
    "These data structures are fundamental to Python programming and are used extensively in various applications.\n"
   ]
  },
  {
   "cell_type": "markdown",
   "id": "5314c05a",
   "metadata": {},
   "source": [
    "## 1. List\n",
    " Lists are used to store multiple items in a single variable.To separate two items, you use a comma ( , ) . List uses the square brackets [ ]. Lists are one of 4 built-in data types in Python used to store collections of data, the other 3 are Tuple, Set, and Dictionary, all with different qualities and usage.\n",
    "\n",
    "   - Sequence Type\n",
    "   - Element of the list can access by index\n",
    "   - They are mutable\n"
   ]
  },
  {
   "cell_type": "code",
   "execution_count": 1,
   "id": "f8d2681a",
   "metadata": {},
   "outputs": [],
   "source": [
    "sample_list = [1, 2, 3, 4, 5]"
   ]
  },
  {
   "cell_type": "code",
   "execution_count": 2,
   "id": "7cfe0a25",
   "metadata": {},
   "outputs": [
    {
     "data": {
      "text/plain": [
       "[1, 2, 3, 4, 5]"
      ]
     },
     "execution_count": 2,
     "metadata": {},
     "output_type": "execute_result"
    }
   ],
   "source": [
    "sample_list"
   ]
  },
  {
   "cell_type": "code",
   "execution_count": 3,
   "id": "11b04d6a",
   "metadata": {},
   "outputs": [
    {
     "name": "stdout",
     "output_type": "stream",
     "text": [
      "<class 'list'>\n"
     ]
    }
   ],
   "source": [
    "print(type(sample_list)) # Check the type"
   ]
  },
  {
   "cell_type": "code",
   "execution_count": 4,
   "id": "fcd62fe9",
   "metadata": {},
   "outputs": [
    {
     "name": "stdout",
     "output_type": "stream",
     "text": [
      "[100, 2, 3, 4, 5]\n"
     ]
    }
   ],
   "source": [
    "# Changing the elements in list because it is mutable\n",
    "sample_list[0] = 100 # sample_list[0] 0th index upto n-1\n",
    "print(sample_list)"
   ]
  },
  {
   "cell_type": "markdown",
   "id": "d9aa33dd",
   "metadata": {},
   "source": [
    "### Slicing operation"
   ]
  },
  {
   "cell_type": "code",
   "execution_count": 5,
   "id": "ce7a5f19",
   "metadata": {},
   "outputs": [
    {
     "name": "stdout",
     "output_type": "stream",
     "text": [
      "Slicing Operation\n",
      "2\n",
      "5\n",
      "[100, 2, 3]\n",
      "[3, 4, 5]\n",
      "[100, 2, 3]\n"
     ]
    }
   ],
   "source": [
    "print(\"Slicing Operation\")\n",
    "print(sample_list[1])\n",
    "print(sample_list[-1])\n",
    "print(sample_list[0:3])\n",
    "print(sample_list[2:])\n",
    "print(sample_list[:3])"
   ]
  },
  {
   "cell_type": "code",
   "execution_count": 6,
   "id": "6665c44e",
   "metadata": {},
   "outputs": [
    {
     "name": "stdout",
     "output_type": "stream",
     "text": [
      "<class 'list'>\n",
      "100  type is  <class 'int'>\n",
      "2  type is  <class 'int'>\n",
      "3  type is  <class 'int'>\n",
      "4  type is  <class 'int'>\n",
      "5  type is  <class 'int'>\n"
     ]
    }
   ],
   "source": [
    "# Check the type\n",
    "print(type(sample_list))\n",
    "print(sample_list[0], \" type is \", type(sample_list[0]))\n",
    "print(sample_list[1], \" type is \", type(sample_list[1]))\n",
    "print(sample_list[2], \" type is \", type(sample_list[2]))\n",
    "print(sample_list[3], \" type is \", type(sample_list[3]))\n",
    "print(sample_list[4], \" type is \", type(sample_list[4]))"
   ]
  },
  {
   "cell_type": "code",
   "execution_count": 7,
   "id": "90f6f8f7",
   "metadata": {},
   "outputs": [
    {
     "name": "stdout",
     "output_type": "stream",
     "text": [
      "<class 'list'>\n",
      "100  type is  <class 'int'>\n",
      "Hello  type is  <class 'str'>\n",
      "True  type is  <class 'bool'>\n",
      "4  type is  <class 'int'>\n",
      "5  type is  <class 'int'>\n"
     ]
    }
   ],
   "source": [
    "sample_list[2] = True\n",
    "sample_list[1] = 'Hello'\n",
    "# Check the type\n",
    "print(type(sample_list))\n",
    "print(sample_list[0], \" type is \", type(sample_list[0]))\n",
    "print(sample_list[1], \" type is \", type(sample_list[1]))\n",
    "print(sample_list[2], \" type is \", type(sample_list[2]))\n",
    "print(sample_list[3], \" type is \", type(sample_list[3]))\n",
    "print(sample_list[4], \" type is \", type(sample_list[4]))"
   ]
  },
  {
   "cell_type": "markdown",
   "id": "55458f48",
   "metadata": {},
   "source": [
    "### Some Other Operations"
   ]
  },
  {
   "cell_type": "code",
   "execution_count": 8,
   "id": "431ba423",
   "metadata": {},
   "outputs": [
    {
     "name": "stdout",
     "output_type": "stream",
     "text": [
      "[10, 25, 35, 45]\n",
      "[]\n"
     ]
    }
   ],
   "source": [
    "# Clear() all the elements in the list\n",
    "sample_list = [10, 25, 35, 45]\n",
    "print(sample_list)\n",
    "sample_list.clear() # Clear all the elements and make empty list\n",
    "print(sample_list)"
   ]
  },
  {
   "cell_type": "code",
   "execution_count": 9,
   "id": "abe28493",
   "metadata": {},
   "outputs": [
    {
     "name": "stdout",
     "output_type": "stream",
     "text": [
      "[10, 25, 35, 45]\n"
     ]
    }
   ],
   "source": [
    "# Copy the list using copy()\n",
    "sample_list = [10, 25, 35, 45]\n",
    "sample_list_01 = sample_list.copy() # Copy the list\n",
    "print(sample_list_01)"
   ]
  },
  {
   "cell_type": "code",
   "execution_count": 10,
   "id": "39a134c3",
   "metadata": {},
   "outputs": [
    {
     "name": "stdout",
     "output_type": "stream",
     "text": [
      "3\n",
      "1\n",
      "7\n",
      "45\n",
      "4\n",
      "[10, 25, 35, 45, 25, 4, 25]\n"
     ]
    }
   ],
   "source": [
    "# Some other functions\n",
    "sample_list = [10, 25, 35, 45, 25, 4, 25]\n",
    "print(sample_list.count(25))\n",
    "print(sample_list.index(25))\n",
    "print(len(sample_list))\n",
    "print(max(sample_list))\n",
    "print(min(sample_list))\n",
    "print(sample_list)"
   ]
  },
  {
   "cell_type": "code",
   "execution_count": 11,
   "id": "ec0d3f20",
   "metadata": {},
   "outputs": [
    {
     "name": "stdout",
     "output_type": "stream",
     "text": [
      "[25, 35, 45, 25, 4, 25]\n",
      "[10, 35, 45, 25, 4, 25]\n"
     ]
    }
   ],
   "source": [
    "# Pop and remove function\n",
    "a = [10, 25, 35, 45, 25, 4, 25]\n",
    "a.pop(0)  # remove Element using index\n",
    "print(a)\n",
    "a = [10, 25, 35, 45, 25, 4, 25]\n",
    "a.remove(25)  # remove the first occurrence value\n",
    "print(a)"
   ]
  },
  {
   "cell_type": "code",
   "execution_count": 12,
   "id": "0c43ad27",
   "metadata": {},
   "outputs": [
    {
     "name": "stdout",
     "output_type": "stream",
     "text": [
      "['Najim']\n",
      "['Najim', 'Rashid', 'Useth', 'Rahuman']\n"
     ]
    }
   ],
   "source": [
    "# Add elements in the list using append function\n",
    "names = [\"Najim\"]\n",
    "print(names)\n",
    "names.append(\"Rashid\")\n",
    "names.append(\"Useth\")\n",
    "names.append(\"Rahuman\")\n",
    "print(names)"
   ]
  },
  {
   "cell_type": "code",
   "execution_count": 13,
   "id": "1647ae1f",
   "metadata": {},
   "outputs": [
    {
     "name": "stdout",
     "output_type": "stream",
     "text": [
      "['Najim', 'Rashid', 'Useth', 'Rahuman', 'Salman', 'Ali']\n"
     ]
    }
   ],
   "source": [
    "# extend function used to append another list in existing list\n",
    "name2 = [\"Salman\", \"Ali\"]\n",
    "names.extend(name2) \n",
    "print(names)"
   ]
  },
  {
   "cell_type": "code",
   "execution_count": 14,
   "id": "77891287",
   "metadata": {},
   "outputs": [
    {
     "name": "stdout",
     "output_type": "stream",
     "text": [
      "['Malik', 'Najim', 'Rashid', 'Useth', 'Rahuman', 'Salman', 'Ali']\n"
     ]
    }
   ],
   "source": [
    "# insert function used to add the element in the particular index in the list\n",
    "names.insert(0,\"Malik\")\n",
    "print(names)"
   ]
  },
  {
   "cell_type": "code",
   "execution_count": 15,
   "id": "1b6cd759",
   "metadata": {},
   "outputs": [
    {
     "name": "stdout",
     "output_type": "stream",
     "text": [
      "[0, 1, 2, 3, 4]\n",
      "['H', 'e', 'l', 'l', 'o']\n"
     ]
    }
   ],
   "source": [
    "print(list(range(5)))\n",
    "print(list(\"Hello\"))"
   ]
  },
  {
   "cell_type": "code",
   "execution_count": 16,
   "id": "8379743b",
   "metadata": {},
   "outputs": [
    {
     "data": {
      "text/plain": [
       "['Ali', 'Ali', 'Ali', 'Ali', 'Ali', 'Ali', 'Ali', 'Ali', 'Ali', 'Ali']"
      ]
     },
     "execution_count": 16,
     "metadata": {},
     "output_type": "execute_result"
    }
   ],
   "source": [
    "# Repetation\n",
    "sample_list = ['Ali']*10 \n",
    "sample_list"
   ]
  },
  {
   "cell_type": "markdown",
   "id": "e45af7fd",
   "metadata": {},
   "source": [
    "### Sorting Operation"
   ]
  },
  {
   "cell_type": "code",
   "execution_count": 17,
   "id": "2a95e098",
   "metadata": {},
   "outputs": [
    {
     "name": "stdout",
     "output_type": "stream",
     "text": [
      "[10, 50, 100, 25, 85]\n",
      "[10, 25, 50, 85, 100]\n",
      "[100, 85, 50, 25, 10]\n",
      "['Apple', 'Orange', 'Zebra']\n",
      "['Zebra', 'Orange', 'Apple']\n",
      "['Apple', 'Zebra', 'Orange']\n",
      "['Apple', 'Orange', 'Zebra']\n"
     ]
    }
   ],
   "source": [
    "sample_list=[10,50,100,25,85]\n",
    "print(sample_list)\n",
    "sample_list.sort()\n",
    "print(sample_list) # Sorting ascending order\n",
    "sample_list.sort(reverse=True) # Sorting descending order\n",
    "print(sample_list)\n",
    "\n",
    "sample_list=[\"Orange\",\"Apple\",\"Zebra\"]\n",
    "sample_list.sort()\n",
    "print(sample_list) # Sorting ascending order based on alphabet\n",
    "sample_list.sort(reverse=True)\n",
    "print(sample_list) # Sorting descending order based on alphabet\n",
    "\n",
    "sample_list=[\"Orange\",\"Apple\",\"Zebra\"]\n",
    "sample_list.sort(key=len) \n",
    "print(sample_list) # Sorting based on key\n",
    "\n",
    "sample_list.sort(key=min) \n",
    "print(sample_list) # Sorting based on key"
   ]
  },
  {
   "cell_type": "markdown",
   "id": "6c47f918",
   "metadata": {},
   "source": [
    "## 2.Tuple\n",
    "Tuple are used to store multiple items in a single variable.To separate two items, you use a comma ( , ) . A tuple is like a list except that it uses parentheses ( ) . Once you define a tuple, you can access an individual element by its index. A tuple is a collection of objects which ordered and immutable, you cannot change its elements. Tuples are sequences, just like lists. \n",
    "\n",
    "- Tuple in Python\n",
    "- Immutable\n",
    "- Surrounded by Round Brackets ()"
   ]
  },
  {
   "cell_type": "code",
   "execution_count": 18,
   "id": "5dd9c296",
   "metadata": {},
   "outputs": [
    {
     "name": "stdout",
     "output_type": "stream",
     "text": [
      "(1, 2.5, True, 'lathif')\n",
      "<class 'tuple'>\n",
      "2.5\n",
      "lathif\n",
      "(1, 2.5)\n",
      "[1, 2.5, True, 'lathif']\n",
      "[1, 2.5, True, 'lathif', 'jasim']\n",
      "<class 'list'>\n",
      "(1, 2.5, True, 'lathif', 'jasim')\n",
      "<class 'tuple'>\n"
     ]
    }
   ],
   "source": [
    "# Some operation on tuple same as list \n",
    "a = (1, 2.5, True, \"lathif\")\n",
    "print(a)\n",
    "print(type(a))\n",
    "print(a[1])\n",
    "print(a[-1])\n",
    "print(a[0:2])\n",
    "b = list(a)\n",
    "print(b)\n",
    "b.append(\"jasim\")\n",
    "print(b)\n",
    "print(type(b))\n",
    "a = tuple(b)\n",
    "print(a)\n",
    "print(type(a))"
   ]
  },
  {
   "cell_type": "code",
   "execution_count": 19,
   "id": "1f2359f5",
   "metadata": {},
   "outputs": [
    {
     "name": "stdout",
     "output_type": "stream",
     "text": [
      "1\n",
      "2.5\n",
      "True\n",
      "lathif\n",
      "jasim\n"
     ]
    }
   ],
   "source": [
    "# Iterate and extract the value from tuple\n",
    "for i in a:\n",
    "    print(i)"
   ]
  },
  {
   "cell_type": "code",
   "execution_count": 20,
   "id": "2c88319b",
   "metadata": {},
   "outputs": [
    {
     "name": "stdout",
     "output_type": "stream",
     "text": [
      "Not Found\n"
     ]
    }
   ],
   "source": [
    "# Check the element present in the list or not\n",
    "if \"Useth\" in a:\n",
    "    print(\"Useth is Found\")\n",
    "else:\n",
    "    print(\"Not Found\")"
   ]
  },
  {
   "cell_type": "code",
   "execution_count": 21,
   "id": "19c05516",
   "metadata": {},
   "outputs": [
    {
     "name": "stdout",
     "output_type": "stream",
     "text": [
      "5\n"
     ]
    }
   ],
   "source": [
    "print(len(a))"
   ]
  },
  {
   "cell_type": "code",
   "execution_count": 22,
   "id": "2d59cc4b",
   "metadata": {},
   "outputs": [
    {
     "name": "stdout",
     "output_type": "stream",
     "text": [
      "<class 'int'>\n",
      "<class 'tuple'>\n"
     ]
    }
   ],
   "source": [
    "a = (1) # This is not considered as tuple\n",
    "print(type(a))\n",
    "\n",
    "a = (1,) # This is considered as tuple\n",
    "print(type(a))"
   ]
  },
  {
   "cell_type": "code",
   "execution_count": 23,
   "id": "0c4af703",
   "metadata": {},
   "outputs": [],
   "source": [
    "del a # delete the tuple"
   ]
  },
  {
   "cell_type": "code",
   "execution_count": 24,
   "id": "3588d713",
   "metadata": {},
   "outputs": [],
   "source": [
    "a = (1, 2, 7, 4)\n",
    "b = (5, 6, 7, 8)\n",
    "c = a + b # Concatenate the two tuple"
   ]
  },
  {
   "cell_type": "code",
   "execution_count": 25,
   "id": "36504b2e",
   "metadata": {},
   "outputs": [
    {
     "data": {
      "text/plain": [
       "(1, 2, 7, 4, 5, 6, 7, 8)"
      ]
     },
     "execution_count": 25,
     "metadata": {},
     "output_type": "execute_result"
    }
   ],
   "source": [
    "c"
   ]
  },
  {
   "cell_type": "code",
   "execution_count": 26,
   "id": "3b2a208c",
   "metadata": {},
   "outputs": [
    {
     "name": "stdout",
     "output_type": "stream",
     "text": [
      "2\n"
     ]
    }
   ],
   "source": [
    "print(c.count(7)) # return the occurrence of the given element"
   ]
  },
  {
   "cell_type": "markdown",
   "id": "42321137",
   "metadata": {},
   "source": [
    "### Nested Tuples"
   ]
  },
  {
   "cell_type": "code",
   "execution_count": 27,
   "id": "e64101a2",
   "metadata": {},
   "outputs": [],
   "source": [
    "a = (1, 2, 7, 4)\n",
    "b = (5, 6, 7, 8)\n",
    "c = (a, b)"
   ]
  },
  {
   "cell_type": "code",
   "execution_count": 28,
   "id": "08fbffb1",
   "metadata": {},
   "outputs": [
    {
     "data": {
      "text/plain": [
       "((1, 2, 7, 4), (5, 6, 7, 8))"
      ]
     },
     "execution_count": 28,
     "metadata": {},
     "output_type": "execute_result"
    }
   ],
   "source": [
    "c"
   ]
  },
  {
   "cell_type": "code",
   "execution_count": 29,
   "id": "16026c5e",
   "metadata": {},
   "outputs": [
    {
     "name": "stdout",
     "output_type": "stream",
     "text": [
      "((1, 2, 7, 4), (5, 6, 7, 8))\n",
      "(1, 2, 7, 4)\n",
      "(5, 6, 7, 8)\n",
      "2\n"
     ]
    }
   ],
   "source": [
    "# Accessing elements in tuples\n",
    "print(c)\n",
    "print(c[0])\n",
    "print(c[1])\n",
    "print(c[0][1])"
   ]
  },
  {
   "cell_type": "code",
   "execution_count": 30,
   "id": "ab3b8b2d",
   "metadata": {},
   "outputs": [
    {
     "name": "stdout",
     "output_type": "stream",
     "text": [
      "('Kather', 'Kather', 'Kather', 'Kather', 'Kather')\n"
     ]
    }
   ],
   "source": [
    "# Repetation\n",
    "x = ('Kather',) * 5\n",
    "print(x)"
   ]
  },
  {
   "cell_type": "code",
   "execution_count": 31,
   "id": "095a9018",
   "metadata": {},
   "outputs": [
    {
     "name": "stdout",
     "output_type": "stream",
     "text": [
      "1\n",
      "7\n"
     ]
    }
   ],
   "source": [
    "# Min Max functions\n",
    "a = (1, 2, 7, 4)\n",
    "b = (5, 6, 7, 8)\n",
    "print(min(a))\n",
    "print(max(a))"
   ]
  },
  {
   "cell_type": "markdown",
   "id": "91edcdff",
   "metadata": {},
   "source": [
    "## 3.Set\n",
    "Set are used to store multiple items in a single variable. To separate two items, you use a comma ( , ) . A set is like a list except that it uses parentheses { } . Set is one of 4 built-in data types in Python used to store collections of data, the other 3 are List, Tuple, and Dictionary, all with different qualities and usage. \n",
    "\n",
    "   - Set are unordered\n",
    "   - A set doesn’t allow duplicate elements\n",
    "   - Set cannot be changed\n"
   ]
  },
  {
   "cell_type": "code",
   "execution_count": 32,
   "id": "5f7bc473",
   "metadata": {},
   "outputs": [
    {
     "name": "stdout",
     "output_type": "stream",
     "text": [
      "{'Kather', 'Ali', 'Jasim'}\n",
      "<class 'set'>\n"
     ]
    }
   ],
   "source": [
    "names={'Kather','Ali','Jasim'}\n",
    "print(names)\n",
    "print(type(names))"
   ]
  },
  {
   "cell_type": "code",
   "execution_count": 33,
   "id": "156da992",
   "metadata": {},
   "outputs": [
    {
     "name": "stdout",
     "output_type": "stream",
     "text": [
      "Kather\n",
      "Ali\n",
      "Jasim\n"
     ]
    }
   ],
   "source": [
    "# Access Values Using For loop\n",
    "for name in names:\n",
    "    print(name)"
   ]
  },
  {
   "cell_type": "code",
   "execution_count": 34,
   "id": "221d3abe",
   "metadata": {},
   "outputs": [
    {
     "name": "stdout",
     "output_type": "stream",
     "text": [
      "{'Kather', 'Ali', 'Jasim', 'Useth'}\n"
     ]
    }
   ],
   "source": [
    "# Adding New Element\n",
    "names.add('Useth')\n",
    "print(names)"
   ]
  },
  {
   "cell_type": "code",
   "execution_count": 35,
   "id": "e73872d2",
   "metadata": {},
   "outputs": [
    {
     "name": "stdout",
     "output_type": "stream",
     "text": [
      "{'Kather', 'Ali', 'Najim', 'Anwar', 'Javid', 'Jasim', 'Useth'}\n"
     ]
    }
   ],
   "source": [
    "# Update Another Set of Data\n",
    "names1={'Najim','Anwar','Javid'}\n",
    "names.update(names1)\n",
    "print(names)"
   ]
  },
  {
   "cell_type": "markdown",
   "id": "59b050c5",
   "metadata": {},
   "source": [
    "### discard(element):\n",
    "   - This method removes the specified element from the set if it is present.\n",
    "   - If the element is not present in the set, discard() does nothing and does not raise any error.\n",
    "   - It's safe to use discard() even if the element might not be in the set, as it won't cause an error.\n",
    "\n",
    "### remove(element):\n",
    "   - This method also removes the specified element from the set if it is present.\n",
    "   - If the element is not present in the set, remove() raises a KeyError.\n",
    "   - It's important to ensure that the element is in the set before using remove() to avoid raising an error."
   ]
  },
  {
   "cell_type": "code",
   "execution_count": 36,
   "id": "4657ac5c",
   "metadata": {},
   "outputs": [
    {
     "name": "stdout",
     "output_type": "stream",
     "text": [
      "{'Kather', 'Ali', 'Najim', 'Anwar', 'Jasim', 'Useth'}\n"
     ]
    }
   ],
   "source": [
    "names.remove('Javid')\n",
    "print(names)"
   ]
  },
  {
   "cell_type": "code",
   "execution_count": 37,
   "id": "a3d261f8",
   "metadata": {},
   "outputs": [
    {
     "name": "stdout",
     "output_type": "stream",
     "text": [
      "{'Ali', 'Najim', 'Anwar', 'Jasim', 'Useth'}\n"
     ]
    }
   ],
   "source": [
    "names.discard('Kather')\n",
    "print(names)"
   ]
  },
  {
   "cell_type": "code",
   "execution_count": 38,
   "id": "00f0f7e1",
   "metadata": {},
   "outputs": [
    {
     "name": "stdout",
     "output_type": "stream",
     "text": [
      "{'Najim', 'Anwar', 'Jasim', 'Useth'}\n",
      "set()\n"
     ]
    }
   ],
   "source": [
    "names.pop() # Remove the first element work like a stack FIFO\n",
    "print(names)\n",
    "names.clear() # Remove the all elements in the set \n",
    "print(names)"
   ]
  },
  {
   "cell_type": "code",
   "execution_count": 39,
   "id": "0165f8a8",
   "metadata": {},
   "outputs": [],
   "source": [
    "del names # delete the name set and name variable"
   ]
  },
  {
   "cell_type": "code",
   "execution_count": 40,
   "id": "c3e5e2d5",
   "metadata": {},
   "outputs": [],
   "source": [
    "a = {1, 2, 3, 4}\n",
    "b = {'a', 'b', 'c', 'd',3}"
   ]
  },
  {
   "cell_type": "code",
   "execution_count": 41,
   "id": "afea43b5",
   "metadata": {},
   "outputs": [
    {
     "name": "stdout",
     "output_type": "stream",
     "text": [
      "{1, 2, 3, 4, 'a', 'd', 'b', 'c'}\n"
     ]
    }
   ],
   "source": [
    "# Union\n",
    "c = a.union(b)\n",
    "print(c)"
   ]
  },
  {
   "cell_type": "code",
   "execution_count": 42,
   "id": "e57ce0ba",
   "metadata": {},
   "outputs": [
    {
     "data": {
      "text/plain": [
       "{3}"
      ]
     },
     "execution_count": 42,
     "metadata": {},
     "output_type": "execute_result"
    }
   ],
   "source": [
    "# Intersection\n",
    "a.intersection(b)"
   ]
  },
  {
   "cell_type": "code",
   "execution_count": 43,
   "id": "82186ca8",
   "metadata": {},
   "outputs": [
    {
     "data": {
      "text/plain": [
       "{1, 2, 3, 4}"
      ]
     },
     "execution_count": 43,
     "metadata": {},
     "output_type": "execute_result"
    }
   ],
   "source": [
    "a"
   ]
  },
  {
   "cell_type": "markdown",
   "id": "da108981",
   "metadata": {},
   "source": [
    "### intersection():\n",
    "   - This method returns a new set containing elements that are common to all sets involved in the operation.\n",
    "   - It does not modify the original sets; instead, it creates and returns a new set containing the result.\n",
    "\n",
    "### intersection_update():\n",
    "   - This method modifies the set on which it is called to contain only the elements that are common to all sets involved in the operation.\n",
    "   - It updates the set in place, removing elements that are not common to all sets.\n",
    "   - Unlike intersection(), it does not return a new set; instead, it modifies the set on which it is called."
   ]
  },
  {
   "cell_type": "code",
   "execution_count": 44,
   "id": "a158c04c",
   "metadata": {},
   "outputs": [
    {
     "name": "stdout",
     "output_type": "stream",
     "text": [
      "{3}\n"
     ]
    }
   ],
   "source": [
    "a.intersection_update(b)\n",
    "print(a)"
   ]
  },
  {
   "cell_type": "code",
   "execution_count": 45,
   "id": "a73146e7",
   "metadata": {},
   "outputs": [
    {
     "data": {
      "text/plain": [
       "{3}"
      ]
     },
     "execution_count": 45,
     "metadata": {},
     "output_type": "execute_result"
    }
   ],
   "source": [
    "a # calling 'a' set(change inplace)"
   ]
  },
  {
   "cell_type": "code",
   "execution_count": 46,
   "id": "fcc0055b",
   "metadata": {},
   "outputs": [
    {
     "data": {
      "text/plain": [
       "{1, 2, 3, 4, 7, 8, 9}"
      ]
     },
     "execution_count": 46,
     "metadata": {},
     "output_type": "execute_result"
    }
   ],
   "source": [
    "# Update elements in the set\n",
    "x = {3,2,4,7}\n",
    "y = {1,9,2,8}\n",
    "\n",
    "x.update(y)\n",
    "x"
   ]
  },
  {
   "cell_type": "code",
   "execution_count": 47,
   "id": "28239498",
   "metadata": {},
   "outputs": [
    {
     "name": "stdout",
     "output_type": "stream",
     "text": [
      "{'b', 'a', 'd', 'c'}\n",
      "{'a', 'b', 'c', 'd'}\n"
     ]
    }
   ],
   "source": [
    "# Symmeteric difference\n",
    "c=a.symmetric_difference(b)\n",
    "print(c)\n",
    "a.symmetric_difference_update(b)\n",
    "print(a)"
   ]
  },
  {
   "cell_type": "markdown",
   "id": "53386072",
   "metadata": {},
   "source": [
    "### isdisjoint(): \n",
    "This method checks if two sets have no elements in common. It returns True if the sets are disjoint (i.e., they have no common elements), otherwise, it returns False.\n",
    "\n",
    "### issubset(): \n",
    "This method checks whether all elements of a set are present in another set. It returns True if all elements of the set are present in the other set, otherwise, it returns False.\n",
    "\n",
    "### issuperset(): \n",
    "This method is the inverse of issubset(). It checks whether all elements of another set are present in a given set. It returns True if all elements of the other set are present in the given set, otherwise, it returns False."
   ]
  },
  {
   "cell_type": "code",
   "execution_count": 48,
   "id": "fd2fd7f6",
   "metadata": {},
   "outputs": [
    {
     "name": "stdout",
     "output_type": "stream",
     "text": [
      "False\n",
      "True\n",
      "True\n"
     ]
    }
   ],
   "source": [
    "a = {5,6,7}\n",
    "b = {5,6,7}\n",
    "c=a.isdisjoint(b)\n",
    "print(c)\n",
    "c=a.issubset(b)\n",
    "print(c)\n",
    "c=a.issuperset(b)\n",
    "print(c)"
   ]
  },
  {
   "cell_type": "markdown",
   "id": "3f8684a4",
   "metadata": {},
   "source": [
    "## 4.Dictionary\n",
    " A Python dictionary is a collection of key-value pairs where each key is associated with a value. dictionary are used to store multiple items in a single variable. To separate two items, you use a comma ( , ) . A dictionary is like a list except that it uses parentheses { key : value } .\n",
    "\n",
    "- They are Immutable\n",
    "- A set doesn’t allow duplicate elements\n",
    "- The key cannot be changed\n"
   ]
  },
  {
   "cell_type": "code",
   "execution_count": 49,
   "id": "bf89c320",
   "metadata": {},
   "outputs": [],
   "source": [
    "user = {\n",
    "    \"name\": \"Kather\",\n",
    "    \"age\": 21,\n",
    "    \"isMarried\": False\n",
    "}"
   ]
  },
  {
   "cell_type": "code",
   "execution_count": 50,
   "id": "a7b3fa6f",
   "metadata": {},
   "outputs": [
    {
     "name": "stdout",
     "output_type": "stream",
     "text": [
      "{'name': 'Kather', 'age': 21, 'isMarried': False}\n",
      "<class 'dict'>\n",
      "Kather\n",
      "21\n",
      "dict_keys(['name', 'age', 'isMarried'])\n",
      "dict_values(['Kather', 21, False])\n",
      "dict_items([('name', 'Kather'), ('age', 21), ('isMarried', False)])\n"
     ]
    }
   ],
   "source": [
    "print(user)\n",
    "print(type(user))\n",
    "print(user[\"name\"])\n",
    "print(user.get('age'))\n",
    "print(user.keys())\n",
    "print(user.values())\n",
    "print(user.items())"
   ]
  },
  {
   "cell_type": "code",
   "execution_count": 51,
   "id": "2bdc910a",
   "metadata": {},
   "outputs": [
    {
     "name": "stdout",
     "output_type": "stream",
     "text": [
      "name   Kather\n",
      "age   21\n",
      "isMarried   False\n"
     ]
    }
   ],
   "source": [
    "# Accessing keys and values \n",
    "for x in user:\n",
    "    print(x,\" \",user[x])"
   ]
  },
  {
   "cell_type": "code",
   "execution_count": 52,
   "id": "989c7401",
   "metadata": {},
   "outputs": [
    {
     "name": "stdout",
     "output_type": "stream",
     "text": [
      "Kather\n",
      "21\n",
      "False\n"
     ]
    }
   ],
   "source": [
    "# Accessing the values\n",
    "for x in user.values():\n",
    "    print(x)"
   ]
  },
  {
   "cell_type": "code",
   "execution_count": 53,
   "id": "42a8596a",
   "metadata": {},
   "outputs": [
    {
     "name": "stdout",
     "output_type": "stream",
     "text": [
      "name\n",
      "age\n",
      "isMarried\n"
     ]
    }
   ],
   "source": [
    "# Accessing the keys\n",
    "for x in user.keys():\n",
    "    print(x)"
   ]
  },
  {
   "cell_type": "code",
   "execution_count": 54,
   "id": "36f02ec4",
   "metadata": {},
   "outputs": [
    {
     "data": {
      "text/plain": [
       "dict_items([('name', 'Kather'), ('age', 21), ('isMarried', False)])"
      ]
     },
     "execution_count": 54,
     "metadata": {},
     "output_type": "execute_result"
    }
   ],
   "source": [
    "user.items()"
   ]
  },
  {
   "cell_type": "code",
   "execution_count": 55,
   "id": "03c2aa35",
   "metadata": {},
   "outputs": [
    {
     "name": "stdout",
     "output_type": "stream",
     "text": [
      "name Kather\n",
      "age 21\n",
      "isMarried False\n"
     ]
    }
   ],
   "source": [
    "for x,y in user.items():\n",
    "    print(x,y)"
   ]
  },
  {
   "cell_type": "code",
   "execution_count": 56,
   "id": "c370935c",
   "metadata": {},
   "outputs": [
    {
     "name": "stdout",
     "output_type": "stream",
     "text": [
      "Not Present\n"
     ]
    }
   ],
   "source": [
    "# Check the key present in dictionary\n",
    "if \"gender\" in user:\n",
    "    print(\"Present\")\n",
    "else:\n",
    "    print(\"Not Present\")"
   ]
  },
  {
   "cell_type": "code",
   "execution_count": 57,
   "id": "dc5ca8bd",
   "metadata": {},
   "outputs": [
    {
     "name": "stdout",
     "output_type": "stream",
     "text": [
      "{'name': 'Kather', 'age': 21, 'isMarried': False, 'gender': 'male'}\n"
     ]
    }
   ],
   "source": [
    "# Updating the Values\n",
    "\n",
    "user.update({\"gender\":\"male\"})\n",
    "print(user)"
   ]
  },
  {
   "cell_type": "code",
   "execution_count": 58,
   "id": "d0bfde30",
   "metadata": {},
   "outputs": [
    {
     "data": {
      "text/plain": [
       "{'name': 'Kather', 'age': 25, 'isMarried': False, 'gender': 'male'}"
      ]
     },
     "execution_count": 58,
     "metadata": {},
     "output_type": "execute_result"
    }
   ],
   "source": [
    "# changing the values\n",
    "user['age'] = 25\n",
    "user"
   ]
  },
  {
   "cell_type": "code",
   "execution_count": 59,
   "id": "95222d60",
   "metadata": {},
   "outputs": [
    {
     "name": "stdout",
     "output_type": "stream",
     "text": [
      "{'name': 'Kather', 'isMarried': False, 'gender': 'male'}\n",
      "{}\n"
     ]
    }
   ],
   "source": [
    "# pop and clear function\n",
    "user.pop(\"age\")\n",
    "print(user)\n",
    "\n",
    "user.clear() # make dictionary empty or delete the keys and values\n",
    "print(user)"
   ]
  },
  {
   "cell_type": "markdown",
   "id": "ffd72ea3",
   "metadata": {},
   "source": [
    "### Nested Dictionaries"
   ]
  },
  {
   "cell_type": "code",
   "execution_count": 60,
   "id": "334eb75f",
   "metadata": {},
   "outputs": [],
   "source": [
    "users = {\n",
    "    \"user1\": {\n",
    "        \"name\": \"Kather\",\n",
    "        \"age\": 25,\n",
    "        \"isMarried\": True\n",
    "    },\n",
    "    \"user2\": {\n",
    "        \"name\": \"Najim\",\n",
    "        \"age\": 18,\n",
    "        \"isMarried\": False\n",
    "    }\n",
    "}"
   ]
  },
  {
   "cell_type": "code",
   "execution_count": 61,
   "id": "48f909e3",
   "metadata": {},
   "outputs": [
    {
     "data": {
      "text/plain": [
       "{'user1': {'name': 'Kather', 'age': 25, 'isMarried': True},\n",
       " 'user2': {'name': 'Najim', 'age': 18, 'isMarried': False}}"
      ]
     },
     "execution_count": 61,
     "metadata": {},
     "output_type": "execute_result"
    }
   ],
   "source": [
    "users"
   ]
  },
  {
   "cell_type": "code",
   "execution_count": 62,
   "id": "23b35b38",
   "metadata": {},
   "outputs": [
    {
     "name": "stdout",
     "output_type": "stream",
     "text": [
      "Kather\n",
      "Najim\n"
     ]
    }
   ],
   "source": [
    "# Accessing the values\n",
    "print(users['user1']['name'])\n",
    "print(users['user2']['name'])"
   ]
  },
  {
   "cell_type": "code",
   "execution_count": 63,
   "id": "a96569bb",
   "metadata": {},
   "outputs": [
    {
     "name": "stdout",
     "output_type": "stream",
     "text": [
      "{'name': 'Kather', 'age': 25, 'isMarried': True}\n",
      "{'name': 'Najim', 'age': 18, 'isMarried': False}\n"
     ]
    }
   ],
   "source": [
    "# Accessing the keys and values\n",
    "for user in users:\n",
    "    print(users[user])"
   ]
  },
  {
   "cell_type": "markdown",
   "id": "04483662",
   "metadata": {},
   "source": [
    "#### Prepared By,\n",
    "Ahamed Basith"
   ]
  },
  {
   "cell_type": "code",
   "execution_count": null,
   "id": "3be0dfac",
   "metadata": {},
   "outputs": [],
   "source": []
  }
 ],
 "metadata": {
  "kernelspec": {
   "display_name": "Python 3 (ipykernel)",
   "language": "python",
   "name": "python3"
  },
  "language_info": {
   "codemirror_mode": {
    "name": "ipython",
    "version": 3
   },
   "file_extension": ".py",
   "mimetype": "text/x-python",
   "name": "python",
   "nbconvert_exporter": "python",
   "pygments_lexer": "ipython3",
   "version": "3.11.5"
  }
 },
 "nbformat": 4,
 "nbformat_minor": 5
}
