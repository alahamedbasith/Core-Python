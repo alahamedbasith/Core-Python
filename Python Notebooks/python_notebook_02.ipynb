{
 "cells": [
  {
   "cell_type": "markdown",
   "id": "a327fcf6",
   "metadata": {},
   "source": [
    "# Python "
   ]
  },
  {
   "cell_type": "markdown",
   "id": "845a1fd0",
   "metadata": {},
   "source": [
    "# 9.Operators in Python"
   ]
  },
  {
   "cell_type": "markdown",
   "id": "2ce69698",
   "metadata": {},
   "source": [
    "### Arithmetic Operators:\n",
    "Used for arithmetic operations such as addition, subtraction, multiplication, division, etc."
   ]
  },
  {
   "cell_type": "code",
   "execution_count": 3,
   "id": "c35462c2",
   "metadata": {},
   "outputs": [
    {
     "name": "stdout",
     "output_type": "stream",
     "text": [
      "15\n",
      "5\n",
      "50\n",
      "2.0\n",
      "0\n",
      "100000\n",
      "2\n"
     ]
    }
   ],
   "source": [
    "# Example of arithmetic operators\n",
    "x = 10\n",
    "y = 5\n",
    "print(x + y)  # Addition\n",
    "print(x - y)  # Subtraction\n",
    "print(x * y)  # Multiplication\n",
    "print(x / y)  # Division\n",
    "print(x % y)  # Modulus (remainder of division)\n",
    "print(x ** y) # Exponentiation\n",
    "print(x // y) # Floor division (division with result rounded down to the nearest whole number)"
   ]
  },
  {
   "cell_type": "markdown",
   "id": "de450af6",
   "metadata": {},
   "source": [
    "### Comparison (Relational) Operators: \n",
    "Used to compare values. They return either True or False."
   ]
  },
  {
   "cell_type": "code",
   "execution_count": 4,
   "id": "136a68c5",
   "metadata": {},
   "outputs": [
    {
     "name": "stdout",
     "output_type": "stream",
     "text": [
      "True\n",
      "False\n",
      "False\n",
      "True\n",
      "True\n",
      "False\n"
     ]
    }
   ],
   "source": [
    "# Example of comparison operators\n",
    "x = 10\n",
    "y = 5\n",
    "print(x > y)   # Greater than\n",
    "print(x < y)   # Less than\n",
    "print(x == y)  # Equal to\n",
    "print(x != y)  # Not equal to\n",
    "print(x >= y)  # Greater than or equal to\n",
    "print(x <= y)  # Less than or equal to"
   ]
  },
  {
   "cell_type": "markdown",
   "id": "b673a4bb",
   "metadata": {},
   "source": [
    "### Logical Operators: \n",
    "Logical operators are used to combine multiple conditions in a single expression in Python. The three logical operators in Python are and, or, and not.\n",
    "\n",
    "   - and: This operator returns True if both the conditions on either side of the operator are True, otherwise it returns False.\n",
    "   - or: This operator returns True if either of the conditions on either side of the operator is True, otherwise it returns False.\n",
    "   - not: This operator inverts the truth value of a single condition. If a condition is True, the not operator will make it False and vice versa.\n"
   ]
  },
  {
   "cell_type": "code",
   "execution_count": 8,
   "id": "081d3f0e",
   "metadata": {},
   "outputs": [
    {
     "name": "stdout",
     "output_type": "stream",
     "text": [
      "False\n",
      "True\n",
      "False\n"
     ]
    }
   ],
   "source": [
    " # Example of logical operators\n",
    "x = True\n",
    "y = False\n",
    "print(x and y)   # Logical AND\n",
    "print(x or y)    # Logical OR\n",
    "print(not x)     # Logical NOT"
   ]
  },
  {
   "cell_type": "code",
   "execution_count": 14,
   "id": "ea59f56a",
   "metadata": {},
   "outputs": [
    {
     "name": "stdout",
     "output_type": "stream",
     "text": [
      "False\n",
      "True\n",
      "True\n"
     ]
    }
   ],
   "source": [
    "# Another Example\n",
    "a = 25\n",
    "print(a >= 10 and a <= 20)\n",
    "print(a >= 10 or a <= 20)\n",
    "print(not(a >=  10 and a <= 20))"
   ]
  },
  {
   "cell_type": "markdown",
   "id": "c451a6b9",
   "metadata": {},
   "source": [
    "### Assignment Operators:\n",
    "Used to assign values to variables."
   ]
  },
  {
   "cell_type": "code",
   "execution_count": 12,
   "id": "5ee2ea97",
   "metadata": {},
   "outputs": [
    {
     "name": "stdout",
     "output_type": "stream",
     "text": [
      "10\n",
      "15\n",
      "10\n",
      "50\n",
      "10.0\n",
      "0.0\n",
      "0.0\n",
      "0.0\n"
     ]
    }
   ],
   "source": [
    "# Example of assignment operators\n",
    "x = 10\n",
    "print(x)\n",
    "x += 5   # Equivalent to x = x + 5\n",
    "print(x)\n",
    "x -= 5   # Equivalent to x = x - 5\n",
    "print(x)\n",
    "x *= 5   # Equivalent to x = x * 5\n",
    "print(x)\n",
    "x /= 5   # Equivalent to x = x / 5\n",
    "print(x)\n",
    "x %= 5   # Equivalent to x = x % 5\n",
    "print(x)\n",
    "x //= 5  # Equivalent to x = x // 5\n",
    "print(x)\n",
    "x **= 5  # Equivalent to x = x ** 5\n",
    "print(x)"
   ]
  },
  {
   "cell_type": "markdown",
   "id": "24b5a297",
   "metadata": {},
   "source": [
    "### Bitwise Operators: \n",
    "In Python, bitwise operators are used to perform bitwise calculations on integers. The integers are first converted into binary and then operations are performed on bit by bit, hence the name bitwise operators. Then the result is returned in decimal format. Bitwise AND operator: Returns 1 if both the bits are 1 else 0 "
   ]
  },
  {
   "cell_type": "markdown",
   "id": "6a4d190b",
   "metadata": {},
   "source": [
    "- x & y: \n",
    "\n",
    "The \"&\" operator performs a bitwise AND operation, resulting in the value 9 (binary representation of 25 is 11001 and 45 is 101101, so the AND operation is 100001 which is 9 in decimal).\n",
    "- x | y:\n",
    "\n",
    "The \"|\" operator performs a bitwise OR operation, resulting in the value 61 (binary representation of 25 is 11001 and 45 is 101101, so the OR operation is 111101 which is 61 in decimal).\n",
    "- x ^ y: \n",
    "\n",
    "The \"^\" operator performs a bitwise XOR operation, resulting in the value 52 (binary representation of 25 is 11001 and 45 is 101101, so the XOR operation is 010100 which is 52 in decimal).\n",
    "-  ~x: \n",
    "\n",
    "The \"~\" operator performs a bitwise NOT operation, resulting in the value -26 (in binary, the NOT of 11001 is 00110, which is -26 in two's complement).\n",
    "- x << 2: \n",
    "\n",
    "The \"<<\" operator performs a bitwise left shift operation, resulting in 100 (the binary representation of 25 is 11001, so the left shift operation is 100100 which is 100 in decimal).\n",
    "- x >> 2: \n",
    "\n",
    "The \">>\" operator performs a bitwise right shift operation, resulting in 6 (the binary representation of 25 is 11001, so the right shift operation is 00110 which is 6 in decimal).\n"
   ]
  },
  {
   "cell_type": "code",
   "execution_count": 15,
   "id": "b23485c7",
   "metadata": {},
   "outputs": [
    {
     "name": "stdout",
     "output_type": "stream",
     "text": [
      "9\n",
      "61\n",
      "52\n",
      "-26\n",
      "100\n",
      "6\n"
     ]
    }
   ],
   "source": [
    "# Example of bitwise operators\n",
    "x = 25\n",
    "y = 45\n",
    "print(x & y)   # Bitwise AND\n",
    "print(x | y)   # Bitwise OR\n",
    "print(x ^ y)   # Bitwise XOR\n",
    "print(~x)      # Bitwise NOT\n",
    "print(x << 2)  # Bitwise left shift\n",
    "print(x >> 2)  # Bitwise right shift"
   ]
  },
  {
   "cell_type": "markdown",
   "id": "0e82c59b",
   "metadata": {},
   "source": [
    "### Membership Operators\n",
    "Used to test if a sequence is presented in an object."
   ]
  },
  {
   "cell_type": "code",
   "execution_count": 16,
   "id": "edbf0615",
   "metadata": {},
   "outputs": [
    {
     "name": "stdout",
     "output_type": "stream",
     "text": [
      "True\n",
      "True\n"
     ]
    }
   ],
   "source": [
    "# Example of membership operators\n",
    "my_list = [1, 2, 3, 4, 5]\n",
    "print(3 in my_list)    # True\n",
    "print(6 not in my_list) # True"
   ]
  },
  {
   "cell_type": "markdown",
   "id": "bf5db738",
   "metadata": {},
   "source": [
    "### Identity Operators: \n",
    "Used to compare the objects, not if they are equal, but if they are actually the same object, with the same memory location."
   ]
  },
  {
   "cell_type": "code",
   "execution_count": 17,
   "id": "2c451abd",
   "metadata": {},
   "outputs": [
    {
     "name": "stdout",
     "output_type": "stream",
     "text": [
      "True\n",
      "False\n",
      "True\n"
     ]
    }
   ],
   "source": [
    "# Example of identity operators\n",
    "x = 5\n",
    "y = 5\n",
    "z = [1, 2, 3]\n",
    "w = [1, 2, 3]\n",
    "print(x is y)   # True\n",
    "print(z is w)   # False\n",
    "print(z is not w) # True"
   ]
  },
  {
   "cell_type": "markdown",
   "id": "b0839094",
   "metadata": {},
   "source": [
    "### Ternery Operator\n",
    "x if condition else y: Returns x if the condition is true, otherwise returns y."
   ]
  },
  {
   "cell_type": "code",
   "execution_count": 18,
   "id": "b9459964",
   "metadata": {},
   "outputs": [
    {
     "name": "stdout",
     "output_type": "stream",
     "text": [
      "y is greater\n"
     ]
    }
   ],
   "source": [
    "# Example of ternary operator\n",
    "x = 5\n",
    "y = 10\n",
    "result = \"x is greater\" if x > y else \"y is greater\"\n",
    "print(result)  # Output: y is greater"
   ]
  },
  {
   "cell_type": "markdown",
   "id": "7583dd8e",
   "metadata": {},
   "source": [
    "### Attribute Access Operator (.):\n",
    "Used to access attributes and methods of objects."
   ]
  },
  {
   "cell_type": "code",
   "execution_count": 19,
   "id": "26c08f8b",
   "metadata": {},
   "outputs": [
    {
     "name": "stdout",
     "output_type": "stream",
     "text": [
      "10\n",
      "Hello from my_method\n"
     ]
    }
   ],
   "source": [
    "# Example of attribute access operator\n",
    "class MyClass:\n",
    "    def __init__(self):\n",
    "        self.my_attribute = 10\n",
    "    \n",
    "    def my_method(self):\n",
    "        print(\"Hello from my_method\")\n",
    "\n",
    "obj = MyClass()\n",
    "print(obj.my_attribute)  # Output: 10\n",
    "obj.my_method()          # Output: Hello from my_method"
   ]
  },
  {
   "cell_type": "markdown",
   "id": "908dcca9",
   "metadata": {},
   "source": [
    "### String Operators:\n",
    "   +: Concatenates two strings.<br>\n",
    "   *: Repeats a string a specified number of times."
   ]
  },
  {
   "cell_type": "code",
   "execution_count": 20,
   "id": "3a07c6c6",
   "metadata": {},
   "outputs": [
    {
     "name": "stdout",
     "output_type": "stream",
     "text": [
      "HelloWorld\n",
      "HelloHelloHello\n"
     ]
    }
   ],
   "source": [
    "# Example of string operators\n",
    "str1 = \"Hello\"\n",
    "str2 = \"World\"\n",
    "print(str1 + str2)  # Output: HelloWorld\n",
    "print(str1 * 3)     # Output: HelloHelloHello"
   ]
  },
  {
   "cell_type": "markdown",
   "id": "ee81d0d9",
   "metadata": {},
   "source": [
    "### Indexing and Slicing Operator ([]):\n",
    "Used to access elements in sequences (like lists, tuples, and strings) and mappings (like dictionaries)."
   ]
  },
  {
   "cell_type": "code",
   "execution_count": 21,
   "id": "fd9b8635",
   "metadata": {},
   "outputs": [
    {
     "name": "stdout",
     "output_type": "stream",
     "text": [
      "1\n",
      "l\n",
      "2\n"
     ]
    }
   ],
   "source": [
    "# Example of indexing and slicing operator\n",
    "my_list = [1, 2, 3, 4, 5]\n",
    "my_string = \"Hello\"\n",
    "my_dict = {'a': 1, 'b': 2, 'c': 3}\n",
    "\n",
    "print(my_list[0])      # Output: 1\n",
    "print(my_string[2])    # Output: l\n",
    "print(my_dict['b'])    # Output: 1\n"
   ]
  },
  {
   "cell_type": "markdown",
   "id": "0db0ff6c",
   "metadata": {},
   "source": [
    "#### Prepared By,\n",
    "Ahamed Basith"
   ]
  },
  {
   "cell_type": "code",
   "execution_count": null,
   "id": "7c8ae04a",
   "metadata": {},
   "outputs": [],
   "source": []
  }
 ],
 "metadata": {
  "kernelspec": {
   "display_name": "Python 3 (ipykernel)",
   "language": "python",
   "name": "python3"
  },
  "language_info": {
   "codemirror_mode": {
    "name": "ipython",
    "version": 3
   },
   "file_extension": ".py",
   "mimetype": "text/x-python",
   "name": "python",
   "nbconvert_exporter": "python",
   "pygments_lexer": "ipython3",
   "version": "3.11.5"
  }
 },
 "nbformat": 4,
 "nbformat_minor": 5
}
