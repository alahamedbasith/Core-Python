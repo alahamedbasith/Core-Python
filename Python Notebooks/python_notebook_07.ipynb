{
 "cells": [
  {
   "cell_type": "markdown",
   "id": "3a2d63b9",
   "metadata": {},
   "source": [
    "# 14.Exception Handling in Python\n",
    "Exception handling in Python allows you to gracefully manage errors that occur during the execution of your code. This helps prevent your program from crashing unexpectedly and allows you to handle errors in a controlled manner. Python provides a try, except, else, and finally block for exception handling.\n",
    "\n",
    "   - **try:** This block contains the code that may raise an exception.\n",
    "   - **except:** This block catches and handles exceptions that occur in the try block. You can specify the type of exception to catch, or use a generic except block to catch any exception.\n",
    "   - **else:** This block executes if no exceptions occur in the try block.\n",
    "   - **finally:** This block always executes, regardless of whether an exception occurred or not. It's commonly used for cleanup actions, such as closing files or releasing resources."
   ]
  },
  {
   "cell_type": "markdown",
   "id": "4f18297f",
   "metadata": {},
   "source": [
    "Syntax:\n",
    "\n",
    "```python\n",
    "try:\n",
    "    # code that might raise an exception\n",
    "except ExceptionType1:\n",
    "    # code to handle ExceptionType1\n",
    "except ExceptionType2:\n",
    "    # code to handle ExceptionType2\n",
    "except:\n",
    "    # code to handle any other exception\n",
    "else:\n",
    "    # code to run if no exception was raised\n",
    "finally:\n",
    "    # code that will always be executed, regardless of whether an exception was raised or not\n"
   ]
  },
  {
   "cell_type": "code",
   "execution_count": 1,
   "id": "1d891c4e",
   "metadata": {},
   "outputs": [
    {
     "ename": "ZeroDivisionError",
     "evalue": "division by zero",
     "output_type": "error",
     "traceback": [
      "\u001b[1;31m---------------------------------------------------------------------------\u001b[0m",
      "\u001b[1;31mZeroDivisionError\u001b[0m                         Traceback (most recent call last)",
      "Cell \u001b[1;32mIn[1], line 4\u001b[0m\n\u001b[0;32m      1\u001b[0m a \u001b[38;5;241m=\u001b[39m \u001b[38;5;241m10\u001b[39m\n\u001b[0;32m      2\u001b[0m b \u001b[38;5;241m=\u001b[39m \u001b[38;5;241m0\u001b[39m\n\u001b[1;32m----> 4\u001b[0m \u001b[38;5;28mprint\u001b[39m(a\u001b[38;5;241m/\u001b[39mb)\n",
      "\u001b[1;31mZeroDivisionError\u001b[0m: division by zero"
     ]
    }
   ],
   "source": [
    "a = 10\n",
    "b = 0\n",
    "\n",
    "print(a/b)"
   ]
  },
  {
   "cell_type": "code",
   "execution_count": 2,
   "id": "96beada9",
   "metadata": {},
   "outputs": [
    {
     "name": "stdout",
     "output_type": "stream",
     "text": [
      "division by zero\n"
     ]
    }
   ],
   "source": [
    "# handle the error of above expression\n",
    "# try block in Python\n",
    "\n",
    "a = 10\n",
    "b = 0\n",
    "\n",
    "try:\n",
    "    print(a/b)\n",
    "except Exception as e:\n",
    "    print(e)"
   ]
  },
  {
   "cell_type": "code",
   "execution_count": 3,
   "id": "7d32cb84",
   "metadata": {},
   "outputs": [
    {
     "name": "stdout",
     "output_type": "stream",
     "text": [
      "A Value :  0.4\n"
     ]
    }
   ],
   "source": [
    "# Try Else\n",
    "try:\n",
    "    a = 10 / 25\n",
    "except Exception as e:\n",
    "    print(e)\n",
    "else:\n",
    "    print(\"A Value : \",a)"
   ]
  },
  {
   "cell_type": "code",
   "execution_count": 4,
   "id": "e2470a66",
   "metadata": {},
   "outputs": [
    {
     "name": "stdout",
     "output_type": "stream",
     "text": [
      "division by zero\n",
      "Program terminated\n"
     ]
    }
   ],
   "source": [
    "# Try else finally\n",
    "try:\n",
    "    a = 10 / 0\n",
    "except Exception as e:\n",
    "    print(e)\n",
    "else:\n",
    "    print(\"A Value : \",a)\n",
    "finally:\n",
    "    print(\"Program terminated\")"
   ]
  },
  {
   "cell_type": "markdown",
   "id": "a1e63007",
   "metadata": {},
   "source": [
    "## Type of Exceptions in Python"
   ]
  },
  {
   "cell_type": "code",
   "execution_count": 5,
   "id": "3618e90e",
   "metadata": {},
   "outputs": [
    {
     "name": "stdout",
     "output_type": "stream",
     "text": [
      "['ArithmeticError', 'AssertionError', 'AttributeError', 'BaseException', 'BaseExceptionGroup', 'BlockingIOError', 'BrokenPipeError', 'BufferError', 'BytesWarning', 'ChildProcessError', 'ConnectionAbortedError', 'ConnectionError', 'ConnectionRefusedError', 'ConnectionResetError', 'DeprecationWarning', 'EOFError', 'Ellipsis', 'EncodingWarning', 'EnvironmentError', 'Exception', 'ExceptionGroup', 'False', 'FileExistsError', 'FileNotFoundError', 'FloatingPointError', 'FutureWarning', 'GeneratorExit', 'IOError', 'ImportError', 'ImportWarning', 'IndentationError', 'IndexError', 'InterruptedError', 'IsADirectoryError', 'KeyError', 'KeyboardInterrupt', 'LookupError', 'MemoryError', 'ModuleNotFoundError', 'NameError', 'None', 'NotADirectoryError', 'NotImplemented', 'NotImplementedError', 'OSError', 'OverflowError', 'PendingDeprecationWarning', 'PermissionError', 'ProcessLookupError', 'RecursionError', 'ReferenceError', 'ResourceWarning', 'RuntimeError', 'RuntimeWarning', 'StopAsyncIteration', 'StopIteration', 'SyntaxError', 'SyntaxWarning', 'SystemError', 'SystemExit', 'TabError', 'TimeoutError', 'True', 'TypeError', 'UnboundLocalError', 'UnicodeDecodeError', 'UnicodeEncodeError', 'UnicodeError', 'UnicodeTranslateError', 'UnicodeWarning', 'UserWarning', 'ValueError', 'Warning', 'WindowsError', 'ZeroDivisionError', '__IPYTHON__', '__build_class__', '__debug__', '__doc__', '__import__', '__loader__', '__name__', '__package__', '__spec__', 'abs', 'aiter', 'all', 'anext', 'any', 'ascii', 'bin', 'bool', 'breakpoint', 'bytearray', 'bytes', 'callable', 'chr', 'classmethod', 'compile', 'complex', 'copyright', 'credits', 'delattr', 'dict', 'dir', 'display', 'divmod', 'enumerate', 'eval', 'exec', 'execfile', 'filter', 'float', 'format', 'frozenset', 'get_ipython', 'getattr', 'globals', 'hasattr', 'hash', 'help', 'hex', 'id', 'input', 'int', 'isinstance', 'issubclass', 'iter', 'len', 'license', 'list', 'locals', 'map', 'max', 'memoryview', 'min', 'next', 'object', 'oct', 'open', 'ord', 'pow', 'print', 'property', 'range', 'repr', 'reversed', 'round', 'runfile', 'set', 'setattr', 'slice', 'sorted', 'staticmethod', 'str', 'sum', 'super', 'tuple', 'type', 'vars', 'zip']\n"
     ]
    }
   ],
   "source": [
    "# By running the below code to get all inbuild exception list in python\n",
    "print(dir(locals()['__builtins__']))"
   ]
  },
  {
   "cell_type": "code",
   "execution_count": 6,
   "id": "ddbd0ea7",
   "metadata": {},
   "outputs": [
    {
     "name": "stdout",
     "output_type": "stream",
     "text": [
      "161\n"
     ]
    }
   ],
   "source": [
    "print(len(dir(locals()['__builtins__'])))"
   ]
  },
  {
   "cell_type": "markdown",
   "id": "c9534c89",
   "metadata": {},
   "source": [
    "## Some types of exception in python"
   ]
  },
  {
   "cell_type": "markdown",
   "id": "f1fb1fc1",
   "metadata": {},
   "source": [
    "### Nameerror Exception"
   ]
  },
  {
   "cell_type": "code",
   "execution_count": 7,
   "id": "b18a4931",
   "metadata": {},
   "outputs": [
    {
     "ename": "NameError",
     "evalue": "name 'd' is not defined",
     "output_type": "error",
     "traceback": [
      "\u001b[1;31m---------------------------------------------------------------------------\u001b[0m",
      "\u001b[1;31mNameError\u001b[0m                                 Traceback (most recent call last)",
      "Cell \u001b[1;32mIn[7], line 6\u001b[0m\n\u001b[0;32m      2\u001b[0m b \u001b[38;5;241m=\u001b[39m \u001b[38;5;241m89\u001b[39m\n\u001b[0;32m      4\u001b[0m c \u001b[38;5;241m=\u001b[39m a \u001b[38;5;241m+\u001b[39m b\n\u001b[1;32m----> 6\u001b[0m \u001b[38;5;28mprint\u001b[39m(d)\n",
      "\u001b[1;31mNameError\u001b[0m: name 'd' is not defined"
     ]
    }
   ],
   "source": [
    "a = 10\n",
    "b = 89\n",
    "\n",
    "c = a + b\n",
    "\n",
    "print(d)"
   ]
  },
  {
   "cell_type": "code",
   "execution_count": 8,
   "id": "96508b27",
   "metadata": {},
   "outputs": [
    {
     "name": "stdout",
     "output_type": "stream",
     "text": [
      "name 'd' is not defined\n"
     ]
    }
   ],
   "source": [
    "# To handle above error \n",
    "\n",
    "try:\n",
    "    a = 10\n",
    "    b = 89\n",
    "    c = a + b\n",
    "    print(d)\n",
    "except NameError as e:\n",
    "    print(e)"
   ]
  },
  {
   "cell_type": "markdown",
   "id": "479e7ac4",
   "metadata": {},
   "source": [
    "### ZeroDivisionError Exception"
   ]
  },
  {
   "cell_type": "code",
   "execution_count": 9,
   "id": "b658d3f3",
   "metadata": {},
   "outputs": [
    {
     "name": "stdout",
     "output_type": "stream",
     "text": [
      "denominator cant be zero\n"
     ]
    }
   ],
   "source": [
    "try:\n",
    "    print(10 / 0)\n",
    "except ZeroDivisionError as e:\n",
    "    print(\"denominator cant be zero\")"
   ]
  },
  {
   "cell_type": "markdown",
   "id": "4d69776c",
   "metadata": {},
   "source": [
    "### ValueError Exception"
   ]
  },
  {
   "cell_type": "code",
   "execution_count": 10,
   "id": "df44698e",
   "metadata": {},
   "outputs": [
    {
     "name": "stdout",
     "output_type": "stream",
     "text": [
      "Enter the number:hello\n"
     ]
    },
    {
     "ename": "ValueError",
     "evalue": "invalid literal for int() with base 10: 'hello'",
     "output_type": "error",
     "traceback": [
      "\u001b[1;31m---------------------------------------------------------------------------\u001b[0m",
      "\u001b[1;31mValueError\u001b[0m                                Traceback (most recent call last)",
      "Cell \u001b[1;32mIn[10], line 2\u001b[0m\n\u001b[0;32m      1\u001b[0m \u001b[38;5;66;03m# User provide string instead of number the value error occurs\u001b[39;00m\n\u001b[1;32m----> 2\u001b[0m a \u001b[38;5;241m=\u001b[39m \u001b[38;5;28mint\u001b[39m(\u001b[38;5;28minput\u001b[39m(\u001b[38;5;124m\"\u001b[39m\u001b[38;5;124mEnter the number:\u001b[39m\u001b[38;5;124m\"\u001b[39m)) \n\u001b[0;32m      3\u001b[0m \u001b[38;5;28mprint\u001b[39m(a)\n",
      "\u001b[1;31mValueError\u001b[0m: invalid literal for int() with base 10: 'hello'"
     ]
    }
   ],
   "source": [
    "# User provide string instead of number the value error occurs\n",
    "a = int(input(\"Enter the number:\")) \n",
    "print(a) "
   ]
  },
  {
   "cell_type": "code",
   "execution_count": 11,
   "id": "cd560be5",
   "metadata": {},
   "outputs": [
    {
     "name": "stdout",
     "output_type": "stream",
     "text": [
      "Enter the number:hello\n",
      "invalid literal for int() with base 10: 'hello'\n"
     ]
    }
   ],
   "source": [
    "# To handle above error \n",
    "try:\n",
    "    a = int(input(\"Enter the number:\")) \n",
    "    print(a) \n",
    "except ValueError as e:\n",
    "    print(e)"
   ]
  },
  {
   "cell_type": "markdown",
   "id": "2c8f4b2a",
   "metadata": {},
   "source": [
    "### IndexError Exception"
   ]
  },
  {
   "cell_type": "code",
   "execution_count": 12,
   "id": "0eb4c336",
   "metadata": {},
   "outputs": [
    {
     "ename": "IndexError",
     "evalue": "list index out of range",
     "output_type": "error",
     "traceback": [
      "\u001b[1;31m---------------------------------------------------------------------------\u001b[0m",
      "\u001b[1;31mIndexError\u001b[0m                                Traceback (most recent call last)",
      "Cell \u001b[1;32mIn[12], line 2\u001b[0m\n\u001b[0;32m      1\u001b[0m a \u001b[38;5;241m=\u001b[39m [\u001b[38;5;241m10\u001b[39m, \u001b[38;5;241m20\u001b[39m, \u001b[38;5;241m30\u001b[39m, \u001b[38;5;241m40\u001b[39m]\n\u001b[1;32m----> 2\u001b[0m \u001b[38;5;28mprint\u001b[39m(a[\u001b[38;5;241m10\u001b[39m])\n",
      "\u001b[1;31mIndexError\u001b[0m: list index out of range"
     ]
    }
   ],
   "source": [
    "a = [10, 20, 30, 40]\n",
    "print(a[10])"
   ]
  },
  {
   "cell_type": "code",
   "execution_count": 13,
   "id": "23642540",
   "metadata": {},
   "outputs": [
    {
     "name": "stdout",
     "output_type": "stream",
     "text": [
      "Invalid Index\n"
     ]
    }
   ],
   "source": [
    "# To handle above error \n",
    "try:\n",
    "    a = [10, 20, 30, 40]\n",
    "    print(a[10])\n",
    "except IndexError as e:\n",
    "    print(\"Invalid Index\")"
   ]
  },
  {
   "cell_type": "markdown",
   "id": "6ab7c0db",
   "metadata": {},
   "source": [
    "### FileNotFoundError Exception"
   ]
  },
  {
   "cell_type": "code",
   "execution_count": 14,
   "id": "bfdacb7f",
   "metadata": {},
   "outputs": [
    {
     "ename": "FileNotFoundError",
     "evalue": "[Errno 2] No such file or directory: 'hello.py'",
     "output_type": "error",
     "traceback": [
      "\u001b[1;31m---------------------------------------------------------------------------\u001b[0m",
      "\u001b[1;31mFileNotFoundError\u001b[0m                         Traceback (most recent call last)",
      "Cell \u001b[1;32mIn[14], line 1\u001b[0m\n\u001b[1;32m----> 1\u001b[0m f \u001b[38;5;241m=\u001b[39m \u001b[38;5;28mopen\u001b[39m(\u001b[38;5;124m\"\u001b[39m\u001b[38;5;124mhello.py\u001b[39m\u001b[38;5;124m\"\u001b[39m)\n",
      "File \u001b[1;32mC:\\Anaconda\\Lib\\site-packages\\IPython\\core\\interactiveshell.py:286\u001b[0m, in \u001b[0;36m_modified_open\u001b[1;34m(file, *args, **kwargs)\u001b[0m\n\u001b[0;32m    279\u001b[0m \u001b[38;5;28;01mif\u001b[39;00m file \u001b[38;5;129;01min\u001b[39;00m {\u001b[38;5;241m0\u001b[39m, \u001b[38;5;241m1\u001b[39m, \u001b[38;5;241m2\u001b[39m}:\n\u001b[0;32m    280\u001b[0m     \u001b[38;5;28;01mraise\u001b[39;00m \u001b[38;5;167;01mValueError\u001b[39;00m(\n\u001b[0;32m    281\u001b[0m         \u001b[38;5;124mf\u001b[39m\u001b[38;5;124m\"\u001b[39m\u001b[38;5;124mIPython won\u001b[39m\u001b[38;5;124m'\u001b[39m\u001b[38;5;124mt let you open fd=\u001b[39m\u001b[38;5;132;01m{\u001b[39;00mfile\u001b[38;5;132;01m}\u001b[39;00m\u001b[38;5;124m by default \u001b[39m\u001b[38;5;124m\"\u001b[39m\n\u001b[0;32m    282\u001b[0m         \u001b[38;5;124m\"\u001b[39m\u001b[38;5;124mas it is likely to crash IPython. If you know what you are doing, \u001b[39m\u001b[38;5;124m\"\u001b[39m\n\u001b[0;32m    283\u001b[0m         \u001b[38;5;124m\"\u001b[39m\u001b[38;5;124myou can use builtins\u001b[39m\u001b[38;5;124m'\u001b[39m\u001b[38;5;124m open.\u001b[39m\u001b[38;5;124m\"\u001b[39m\n\u001b[0;32m    284\u001b[0m     )\n\u001b[1;32m--> 286\u001b[0m \u001b[38;5;28;01mreturn\u001b[39;00m io_open(file, \u001b[38;5;241m*\u001b[39margs, \u001b[38;5;241m*\u001b[39m\u001b[38;5;241m*\u001b[39mkwargs)\n",
      "\u001b[1;31mFileNotFoundError\u001b[0m: [Errno 2] No such file or directory: 'hello.py'"
     ]
    }
   ],
   "source": [
    "f = open(\"hello.py\")"
   ]
  },
  {
   "cell_type": "code",
   "execution_count": 15,
   "id": "08b3102d",
   "metadata": {},
   "outputs": [
    {
     "name": "stdout",
     "output_type": "stream",
     "text": [
      "File Not Found\n"
     ]
    }
   ],
   "source": [
    "try:\n",
    "    f = open(\"hello.py\")\n",
    "except FileNotFoundError:\n",
    "    print(\"File Not Found\")\n",
    "else:\n",
    "    print(f.read())"
   ]
  },
  {
   "cell_type": "markdown",
   "id": "e8b42e8b",
   "metadata": {},
   "source": [
    "If you don't know exception name,just using 'Exception as e' in except block"
   ]
  },
  {
   "cell_type": "code",
   "execution_count": 16,
   "id": "c859f037",
   "metadata": {},
   "outputs": [
    {
     "name": "stdout",
     "output_type": "stream",
     "text": [
      "[Errno 2] No such file or directory: 'hello.py'\n"
     ]
    }
   ],
   "source": [
    "try:\n",
    "    f = open(\"hello.py\")\n",
    "except Exception as e:\n",
    "    print(e)\n",
    "else:\n",
    "    print(f.read())"
   ]
  },
  {
   "cell_type": "markdown",
   "id": "2b592df2",
   "metadata": {},
   "source": [
    "## Handle Multiple Exception"
   ]
  },
  {
   "cell_type": "code",
   "execution_count": 17,
   "id": "5951a725",
   "metadata": {},
   "outputs": [
    {
     "name": "stdout",
     "output_type": "stream",
     "text": [
      "0.5\n",
      "10\n",
      "[Errno 2] No such file or directory: 'hello.py'\n"
     ]
    }
   ],
   "source": [
    "try:\n",
    "    a=10/20\n",
    "    print(a)\n",
    "    b=[10,20,30,40]\n",
    "    print(b[0])\n",
    "    a=open('hello.py')\n",
    "except ZeroDivisionError:\n",
    "    print(\"denominator cant be zero\")\n",
    "except IndexError:\n",
    "    print(\"Invalid Index\")\n",
    "except Exception as e:\n",
    "    print(e)"
   ]
  },
  {
   "cell_type": "markdown",
   "id": "df6259e7",
   "metadata": {},
   "source": [
    "## Raising Own Exception\n",
    "To raise your own exception in Python, you can use the raise statement followed by the type of exception you want to raise. You can either use built-in exception types like ValueError, TypeError, etc., or you can define your own custom exception classes by subclassing from Exception or any other built-in exception type."
   ]
  },
  {
   "cell_type": "code",
   "execution_count": 18,
   "id": "961d5760",
   "metadata": {},
   "outputs": [
    {
     "name": "stdout",
     "output_type": "stream",
     "text": [
      "Cannot divide by zero.\n"
     ]
    }
   ],
   "source": [
    "# We define a custom exception class MyCustomError that inherits from Exception.\n",
    "class MyCustomError(Exception):\n",
    "    pass\n",
    "\n",
    "def divide_numbers(a, b):\n",
    "    if b == 0:\n",
    "        raise MyCustomError(\"Cannot divide by zero.\")\n",
    "    else:\n",
    "        print(a / b)\n",
    "\n",
    "a = 10\n",
    "b = 0\n",
    "\n",
    "try:\n",
    "    divide_numbers(a,b)\n",
    "except MyCustomError as e:\n",
    "    print(e)"
   ]
  },
  {
   "cell_type": "markdown",
   "id": "ee615540",
   "metadata": {},
   "source": [
    "#### Prepared By,\n",
    "Ahamed Basith"
   ]
  },
  {
   "cell_type": "code",
   "execution_count": null,
   "id": "7a37d46f",
   "metadata": {},
   "outputs": [],
   "source": []
  }
 ],
 "metadata": {
  "kernelspec": {
   "display_name": "Python 3 (ipykernel)",
   "language": "python",
   "name": "python3"
  },
  "language_info": {
   "codemirror_mode": {
    "name": "ipython",
    "version": 3
   },
   "file_extension": ".py",
   "mimetype": "text/x-python",
   "name": "python",
   "nbconvert_exporter": "python",
   "pygments_lexer": "ipython3",
   "version": "3.11.5"
  }
 },
 "nbformat": 4,
 "nbformat_minor": 5
}
