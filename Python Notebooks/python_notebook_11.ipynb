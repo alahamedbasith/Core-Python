{
 "cells": [
  {
   "cell_type": "markdown",
   "id": "1a867b63",
   "metadata": {},
   "source": [
    "# 18.Inheritance and its types and Polymorphism in Python\n",
    "## 1.Inheritance:\n",
    "Inheritance is a fundamental concept in object-oriented programming (OOP) that allows a new class (derived class or subclass) to inherit attributes and methods from an existing class (base class or superclass). The derived class can then extend or modify the behavior of the base class without needing to reimplement its functionality from scratch. This facilitates code reuse, promotes modularity, and enables hierarchical relationships among classes.\n",
    "\n",
    "Inheritance establishes an \"is-a\" relationship between classes, where the derived class is considered to be a specialized version of the base class. The derived class inherits all the attributes and methods of the base class and can add its own unique attributes and methods or override existing ones.\n",
    "\n",
    "Key concepts related to inheritance include:\n",
    "\n",
    "- **Base Class (Superclass)**: Also known as the parent class or superclass, it's the class from which attributes and methods are inherited.\n",
    "\n",
    "- **Derived Class (Subclass)**: Also known as the child class or subclass, it's the class that inherits attributes and methods from the base class.\n",
    "\n",
    "- **Super() Function**: It's used in the derived class to call methods of the base class, allowing for method overriding and accessing base class methods.\n",
    "\n",
    "- **Method Overriding**: It's the ability of a derived class to provide its own implementation of a method inherited from the base class, thus replacing the behavior defined in the base class.\n",
    "\n",
    "Inheritance is a powerful mechanism for organizing and structuring code, promoting code reuse, and facilitating the implementation of complex systems. It's a core principle of OOP alongside encapsulation and polymorphism.\n"
   ]
  },
  {
   "cell_type": "markdown",
   "id": "a81a711e",
   "metadata": {},
   "source": [
    "## Types of Inheritance\n",
    "\n",
    "### Single Inheritance: \n",
    "In single inheritance, a class is derived from only one base class.\n",
    "\n",
    "### Multiple Inheritance: \n",
    "Multiple inheritance occurs when a class is derived from more than one base class.\n",
    "\n",
    "### Multilevel Inheritance: \n",
    "Multilevel inheritance involves a chain of inheritance, where a derived class inherits from a base class, and then another class inherits from this derived class.\n",
    "\n",
    "### Hierarchical Inheritance: \n",
    "Hierarchical inheritance occurs when a single base class has more than one derived class. Each derived class inherits properties and behaviors from the same base class. "
   ]
  },
  {
   "cell_type": "markdown",
   "id": "0607cbe5",
   "metadata": {},
   "source": [
    "## Single Inheritance Example:"
   ]
  },
  {
   "cell_type": "code",
   "execution_count": 1,
   "id": "4f6fc1a8",
   "metadata": {},
   "outputs": [
    {
     "name": "stdout",
     "output_type": "stream",
     "text": [
      "Animal speaks\n",
      "Dog barks\n"
     ]
    }
   ],
   "source": [
    "class Animal:\n",
    "    def speak(self):\n",
    "        print(\"Animal speaks\")\n",
    "\n",
    "class Dog(Animal):\n",
    "    def bark(self):\n",
    "        print(\"Dog barks\")\n",
    "\n",
    "# Create an instance of Dog\n",
    "d = Dog()\n",
    "d.speak()  # Accessing method from base class\n",
    "d.bark()   # Accessing method from derived class"
   ]
  },
  {
   "cell_type": "code",
   "execution_count": 2,
   "id": "83452b58",
   "metadata": {},
   "outputs": [
    {
     "name": "stdout",
     "output_type": "stream",
     "text": [
      "Name     :  Nokia 1100\n",
      "Year     :  1998\n",
      "Company  :  Nokia India\n",
      "Website  :  www.nokia-india.com\n",
      "Address : Cherry Road,Kolkatta\n"
     ]
    }
   ],
   "source": [
    "# Another Example\n",
    "class Nokia:\n",
    "    company = \"Nokia India\"\n",
    "    webiste = \"www.nokia-india.com\"\n",
    " \n",
    "    def contact_details(self):\n",
    "        print(\"Address : Cherry Road,Kolkatta\")\n",
    " \n",
    " \n",
    "class Nokia1100(Nokia):\n",
    "    def __init__(self):\n",
    "        self.name = \"Nokia 1100\"\n",
    "        self.year = 1998\n",
    " \n",
    "    def product_details(self):\n",
    "        print(\"Name     : \", self.name)\n",
    "        print(\"Year     : \", self.year)\n",
    "        print(\"Company  : \", self.company)\n",
    "        print(\"Website  : \", self.webiste)\n",
    " \n",
    " \n",
    "mobile = Nokia1100()\n",
    "mobile.product_details()\n",
    "mobile.contact_details()"
   ]
  },
  {
   "cell_type": "markdown",
   "id": "fdbc7878",
   "metadata": {},
   "source": [
    "## Multiple Inheritance Example:"
   ]
  },
  {
   "cell_type": "code",
   "execution_count": 3,
   "id": "485816b2",
   "metadata": {},
   "outputs": [
    {
     "name": "stdout",
     "output_type": "stream",
     "text": [
      "Duck quacks\n",
      "Can fly\n",
      "Can swim\n"
     ]
    }
   ],
   "source": [
    "class Flyable:\n",
    "    def fly(self):\n",
    "        print(\"Can fly\")\n",
    "\n",
    "class Swimmable:\n",
    "    def swim(self):\n",
    "        print(\"Can swim\")\n",
    "\n",
    "class Duck(Flyable, Swimmable):\n",
    "    def quack(self):\n",
    "        print(\"Duck quacks\")\n",
    "\n",
    "# Create an instance of Duck\n",
    "duck = Duck()\n",
    "duck.quack()\n",
    "duck.fly()\n",
    "duck.swim()"
   ]
  },
  {
   "cell_type": "code",
   "execution_count": 4,
   "id": "14da1df0",
   "metadata": {},
   "outputs": [
    {
     "name": "stdout",
     "output_type": "stream",
     "text": [
      "Riding Bicycle\n",
      "Fishing in Rivers\n",
      "Cooking Food\n",
      "Playing Chess From Mother\n"
     ]
    }
   ],
   "source": [
    "# Another Example\n",
    "class Father:\n",
    "    def fishing(self):\n",
    "        print(\"Fishing in Rivers\")\n",
    " \n",
    "    def chess(self):\n",
    "        print(\"Playing Chess From Father\")\n",
    " \n",
    " \n",
    "class Mother:\n",
    "    def cooking(self):\n",
    "        print(\"Cooking Food\")\n",
    " \n",
    "    def chess(self):\n",
    "        print(\"Playing Chess From Mother\")\n",
    " \n",
    " \n",
    "class Son(Mother,Father):\n",
    "    def ride(self):\n",
    "        print(\"Riding Bicycle\")\n",
    "        \n",
    "o = Son()\n",
    "o.ride()\n",
    "o.fishing()\n",
    "o.cooking()\n",
    "o.chess()"
   ]
  },
  {
   "cell_type": "markdown",
   "id": "5c322f49",
   "metadata": {},
   "source": [
    "## Multilevel Inheritance Example:"
   ]
  },
  {
   "cell_type": "code",
   "execution_count": 5,
   "id": "a13f5ce0",
   "metadata": {},
   "outputs": [
    {
     "name": "stdout",
     "output_type": "stream",
     "text": [
      "Animal speaks\n",
      "Dog barks\n",
      "Labrador is brown\n"
     ]
    }
   ],
   "source": [
    "class Animal:\n",
    "    def speak(self):\n",
    "        print(\"Animal speaks\")\n",
    "\n",
    "class Dog(Animal):\n",
    "    def bark(self):\n",
    "        print(\"Dog barks\")\n",
    "\n",
    "class Labrador(Dog):\n",
    "    def color(self):\n",
    "        print(\"Labrador is brown\")\n",
    "\n",
    "# Create an instance of Labrador\n",
    "lab = Labrador()\n",
    "lab.speak()  # Accessing method from base class\n",
    "lab.bark()   # Accessing method from intermediate class\n",
    "lab.color()  # Accessing method from derived class"
   ]
  },
  {
   "cell_type": "code",
   "execution_count": 6,
   "id": "0ae164f6",
   "metadata": {},
   "outputs": [
    {
     "name": "stdout",
     "output_type": "stream",
     "text": [
      "Grandpa House\n",
      "Father's Bike\n",
      "Son Have a Book\n"
     ]
    }
   ],
   "source": [
    "# Another Example\n",
    "# Multilevel Inheritance\n",
    " \n",
    "class GrandFather:\n",
    "    def ownHouse(self):\n",
    "        print(\"Grandpa House\")\n",
    " \n",
    " \n",
    "class Father(GrandFather):\n",
    "    def ownBike(self):\n",
    "        print(\"Father's Bike\")\n",
    " \n",
    " \n",
    "class Son(Father):\n",
    "    def ownBook(self):\n",
    "        print(\"Son Have a Book\")\n",
    " \n",
    " \n",
    "o = Son()\n",
    "o.ownHouse()\n",
    "o.ownBike()\n",
    "o.ownBook()"
   ]
  },
  {
   "cell_type": "markdown",
   "id": "9219612f",
   "metadata": {},
   "source": [
    "## Hierarchical Inheritance Example:"
   ]
  },
  {
   "cell_type": "code",
   "execution_count": 7,
   "id": "69574377",
   "metadata": {},
   "outputs": [
    {
     "name": "stdout",
     "output_type": "stream",
     "text": [
      "Animal speaks\n",
      "Animal speaks\n",
      "Dog barks\n",
      "Cat meows\n"
     ]
    }
   ],
   "source": [
    "class Animal:\n",
    "    def speak(self):\n",
    "        print(\"Animal speaks\")\n",
    "\n",
    "class Dog(Animal):\n",
    "    def bark(self):\n",
    "        print(\"Dog barks\")\n",
    "\n",
    "class Cat(Animal):\n",
    "    def meow(self):\n",
    "        print(\"Cat meows\")\n",
    "\n",
    "# Create instances of Dog and Cat\n",
    "dog = Dog()\n",
    "cat = Cat()\n",
    "\n",
    "# Accessing methods from the base class\n",
    "dog.speak()  # Accessing method from Animal class\n",
    "cat.speak()  # Accessing method from Animal class\n",
    "\n",
    "# Accessing methods specific to the derived classes\n",
    "dog.bark()   # Accessing method from Dog class\n",
    "cat.meow()   # Accessing method from Cat class"
   ]
  },
  {
   "cell_type": "markdown",
   "id": "d55ae1be",
   "metadata": {},
   "source": [
    "## 2.Polymorphism\n",
    "Polymorphism is a core concept in object-oriented programming (OOP) that allows objects of different classes to be treated as objects of a common superclass. It enables a single interface to be used for entities of different types, providing flexibility and code reusability. Polymorphism is typically achieved through method overriding or method overloading.\n",
    "\n",
    "In Python, polymorphism is primarily achieved through method overriding, where a method in a subclass has the same name as a method in its superclass. However, the implementation may differ based on the object's type."
   ]
  },
  {
   "cell_type": "markdown",
   "id": "7767d467",
   "metadata": {},
   "source": [
    "### Function Overriding in Python\n",
    "Function overriding in Python is the ability of a subclass to provide a different implementation of a method that is already defined in its superclass. In other words, it is the process of redefining a method in a derived class that already exists in the base class. This is useful when a subclass wants to change the behavior of a method inherited from its superclass. The method in the subclass is said to override the method in the superclass and the subclass method is called instead of the superclass method when the method is called on an instance of the subclass."
   ]
  },
  {
   "cell_type": "code",
   "execution_count": 8,
   "id": "084cbc24",
   "metadata": {},
   "outputs": [
    {
     "name": "stdout",
     "output_type": "stream",
     "text": [
      "Total Working Hrs :  50\n",
      "Total Working Hrs :  60\n"
     ]
    }
   ],
   "source": [
    "# Function Overriding\n",
    "class Employee:\n",
    "    def WorkingHrs(self): \n",
    "        self.hrs = 50\n",
    " \n",
    "    def printHrs(self):\n",
    "        print(\"Total Working Hrs : \", self.hrs)\n",
    "        \n",
    "class Trainee(Employee):\n",
    "    def WorkingHrs(self): # Function Overriding\n",
    "        self.hrs = 60\n",
    "\n",
    "employee = Employee()\n",
    "employee.WorkingHrs()\n",
    "employee.printHrs()\n",
    " \n",
    "trainee=Trainee()\n",
    "trainee.WorkingHrs()\n",
    "trainee.printHrs() # See the difference automatically inherited"
   ]
  },
  {
   "cell_type": "code",
   "execution_count": 9,
   "id": "2e979978",
   "metadata": {},
   "outputs": [
    {
     "name": "stdout",
     "output_type": "stream",
     "text": [
      "Total Working Hrs :  50\n",
      "Total Working Hrs :  60\n",
      "Total Working Hrs :  50\n"
     ]
    }
   ],
   "source": [
    "class Employee:\n",
    "    def WorkingHrs(self):\n",
    "        self.hrs = 50\n",
    " \n",
    "    def printHrs(self):\n",
    "        print(\"Total Working Hrs : \", self.hrs)\n",
    " \n",
    " \n",
    "class Trainee(Employee):\n",
    "    def WorkingHrs(self):\n",
    "        self.hrs = 60\n",
    " \n",
    "    def resetHrs(self):\n",
    "        super().WorkingHrs()\n",
    " \n",
    " \n",
    "employee = Employee()\n",
    "employee.WorkingHrs()\n",
    "employee.printHrs()\n",
    " \n",
    "trainee=Trainee()\n",
    "trainee.WorkingHrs()\n",
    "trainee.printHrs()\n",
    "\n",
    "# Reset Trainee Hrs\n",
    "trainee.resetHrs()\n",
    "trainee.printHrs()"
   ]
  },
  {
   "cell_type": "markdown",
   "id": "be5c38ef",
   "metadata": {},
   "source": [
    "### Function Overloading in Python\n",
    "In Python, function overloading is not directly supported as it is in some other programming languages like C++ or Java, where you can define multiple functions with the same name but different parameter lists.\n",
    "\n",
    "However, you can achieve similar behavior in Python through various techniques such as using default parameter values, variable-length argument lists, or explicitly checking the types of arguments within a single function. Here's an example of each approach:"
   ]
  },
  {
   "cell_type": "code",
   "execution_count": 10,
   "id": "75429326",
   "metadata": {},
   "outputs": [
    {
     "name": "stdout",
     "output_type": "stream",
     "text": [
      "5\n",
      "2\n"
     ]
    }
   ],
   "source": [
    "# Default Parameter Values\n",
    "\n",
    "def add(a, b=0):\n",
    "    return a + b\n",
    "\n",
    "print(add(2, 3))  # Output: 5\n",
    "print(add(2))     # Output: 2 (b defaults to 0)"
   ]
  },
  {
   "cell_type": "code",
   "execution_count": 11,
   "id": "57609ac3",
   "metadata": {},
   "outputs": [
    {
     "name": "stdout",
     "output_type": "stream",
     "text": [
      "14\n",
      "9\n",
      "5\n"
     ]
    }
   ],
   "source": [
    "# Variable-length Argument Lists (args)\n",
    "\n",
    "def add(*args):\n",
    "    return sum(args)\n",
    "\n",
    "print(add(2, 3, 4,5))  # Output: 14\n",
    "print(add(2, 3, 4))  # Output: 9\n",
    "print(add(2, 3))      # Output: 5\n"
   ]
  },
  {
   "cell_type": "code",
   "execution_count": 12,
   "id": "224325e9",
   "metadata": {},
   "outputs": [
    {
     "name": "stdout",
     "output_type": "stream",
     "text": [
      "5\n",
      "Hello World\n"
     ]
    }
   ],
   "source": [
    "# Explicit Type Checking\n",
    "\n",
    "def add(a, b):\n",
    "    if isinstance(a, int) and isinstance(b, int):\n",
    "        return a + b\n",
    "    elif isinstance(a, str) and isinstance(b, str):\n",
    "        return a + b\n",
    "    else:\n",
    "        raise TypeError(\"Unsupported argument types\")\n",
    "\n",
    "print(add(2, 3)) # Output: 5\n",
    "print(add(\"Hello\", \" World\"))  # Output: Hello World"
   ]
  },
  {
   "cell_type": "markdown",
   "id": "1950ed62",
   "metadata": {},
   "source": [
    "### Polymorphism Example:\n",
    "One in many forms "
   ]
  },
  {
   "cell_type": "code",
   "execution_count": 13,
   "id": "9c9f5cd8",
   "metadata": {},
   "outputs": [
    {
     "name": "stdout",
     "output_type": "stream",
     "text": [
      "Woof!\n",
      "Meow!\n",
      "Quack!\n"
     ]
    }
   ],
   "source": [
    "# Example 01\n",
    "\n",
    "class Animal:\n",
    "    def make_sound(self):\n",
    "        pass\n",
    "\n",
    "class Dog(Animal):\n",
    "    def make_sound(self):\n",
    "        return \"Woof!\"\n",
    "\n",
    "class Cat(Animal):\n",
    "    def make_sound(self):\n",
    "        return \"Meow!\"\n",
    "\n",
    "class Duck(Animal):\n",
    "    def make_sound(self):\n",
    "        return \"Quack!\"\n",
    "\n",
    "# Function to demonstrate polymorphism\n",
    "def animal_sound(animal):\n",
    "    return animal.make_sound()\n",
    "\n",
    "# Create instances of different animal types\n",
    "dog = Dog()\n",
    "cat = Cat()\n",
    "duck = Duck()\n",
    "\n",
    "# Call the function with different animal instances\n",
    "print(animal_sound(dog))  # Output: Woof!\n",
    "print(animal_sound(cat))  # Output: Meow!\n",
    "print(animal_sound(duck)) # Output: Quack!"
   ]
  },
  {
   "cell_type": "code",
   "execution_count": 14,
   "id": "788e6e03",
   "metadata": {},
   "outputs": [
    {
     "name": "stdout",
     "output_type": "stream",
     "text": [
      "Total area of all shapes: 69.27433388230814\n"
     ]
    }
   ],
   "source": [
    "# Example 02\n",
    "\n",
    "import math\n",
    "\n",
    "class Shape:\n",
    "    def area(self):\n",
    "        pass\n",
    "\n",
    "class Rectangle(Shape):\n",
    "    def __init__(self, width, height):\n",
    "        self.width = width\n",
    "        self.height = height\n",
    "    \n",
    "    def area(self):\n",
    "        return self.width * self.height\n",
    "\n",
    "class Circle(Shape):\n",
    "    def __init__(self, radius):\n",
    "        self.radius = radius\n",
    "    \n",
    "    def area(self):\n",
    "        return math.pi * self.radius**2\n",
    "\n",
    "class Triangle(Shape):\n",
    "    def __init__(self, base, height):\n",
    "        self.base = base\n",
    "        self.height = height\n",
    "    \n",
    "    def area(self):\n",
    "        return 0.5 * self.base * self.height\n",
    "\n",
    "# Function to calculate total area of shapes\n",
    "def total_area(shapes):\n",
    "    total = 0\n",
    "    for shape in shapes:\n",
    "        total += shape.area()\n",
    "    return total\n",
    "\n",
    "# Create instances of different shapes\n",
    "rectangle = Rectangle(5, 4)\n",
    "circle = Circle(3)\n",
    "triangle = Triangle(6, 7)\n",
    "\n",
    "# Calculate total area of all shapes\n",
    "shapes = [rectangle, circle, triangle]\n",
    "total = total_area(shapes)\n",
    "\n",
    "print(\"Total area of all shapes:\", total)"
   ]
  },
  {
   "cell_type": "code",
   "execution_count": 15,
   "id": "022429ad",
   "metadata": {},
   "outputs": [
    {
     "name": "stdout",
     "output_type": "stream",
     "text": [
      "The BMW car uses Metal body and color is Black\n",
      "The Audi car uses Aluminium body,the color is Red and the interior color is Grey\n",
      "The Tata car uses Steel body,the color is White and the interior color is Black\n"
     ]
    }
   ],
   "source": [
    "# Example 03\n",
    "\n",
    "class Car:\n",
    "    \n",
    "    def design(self):\n",
    "        pass\n",
    "    \n",
    "class BMW(Car):\n",
    "    \n",
    "    def __init__(self,body_type,color):\n",
    "        self.body_type = body_type\n",
    "        self.color = color\n",
    "        \n",
    "    def printdetails(self):\n",
    "        return f\"The BMW car uses {self.body_type} body and color is {self.color}\"\n",
    "        \n",
    "class Audi(Car):\n",
    "    \n",
    "    def __init__(self,body_type,color,interior_design_color):\n",
    "        self.body_type = body_type\n",
    "        self.color = color\n",
    "        self.interior = interior_design_color\n",
    "        \n",
    "    def printdetails(self):\n",
    "        return f\"The Audi car uses {self.body_type} body,the color is {self.color} and the interior color is {self.interior}\"  \n",
    "    \n",
    "class Tata(Car):\n",
    "    \n",
    "    def __init__(self,body_type,color,interior_design_color):\n",
    "        self.body_type = body_type\n",
    "        self.color = color\n",
    "        self.interior = interior_design_color\n",
    "        \n",
    "    def printdetails(self):\n",
    "        return f\"The Tata car uses {self.body_type} body,the color is {self.color} and the interior color is {self.interior}\"   \n",
    "\n",
    "# Function to demonstrate polymorphism\n",
    "def car_design(car):\n",
    "    return car.printdetails()\n",
    "\n",
    "# Create instances of different car types\n",
    "BMW = BMW(\"Metal\",\"Black\")\n",
    "Audi = Audi(\"Aluminium\",\"Red\",\"Grey\")\n",
    "Tata = Tata(\"Steel\",\"White\",\"Black\")\n",
    "\n",
    "print(car_design(BMW))  \n",
    "print(car_design(Audi)) \n",
    "print(car_design(Tata)) "
   ]
  },
  {
   "cell_type": "markdown",
   "id": "7f493fd3",
   "metadata": {},
   "source": [
    "## Handling Diamond Problem in Python\n",
    "The diamond problem stats that the class D inherits class B and class C.Therefore,It made confusion between the accessing the method.Interchange the class name parameter in the particular class to avoid diamond problem."
   ]
  },
  {
   "cell_type": "code",
   "execution_count": 16,
   "id": "b85f6ec6",
   "metadata": {},
   "outputs": [
    {
     "name": "stdout",
     "output_type": "stream",
     "text": [
      "I am the display of Class D\n"
     ]
    }
   ],
   "source": [
    "class A:\n",
    "    def display(self):\n",
    "        print(\"I am the display of Class A\")\n",
    " \n",
    " \n",
    "class B(A):\n",
    "    def display(self):\n",
    "        print(\"I am the display of Class B\")\n",
    " \n",
    " \n",
    "class C(A):\n",
    "    def display(self):\n",
    "        print(\"I am the display of Class C\")\n",
    " \n",
    " \n",
    "class D(B, C):\n",
    "    def display(self):\n",
    "        print(\"I am the display of Class D\")\n",
    " \n",
    " \n",
    "o = D()\n",
    "o.display()"
   ]
  },
  {
   "cell_type": "code",
   "execution_count": 17,
   "id": "89ead659",
   "metadata": {},
   "outputs": [
    {
     "name": "stdout",
     "output_type": "stream",
     "text": [
      "I am the display of Class B\n"
     ]
    }
   ],
   "source": [
    "class A:\n",
    "    def display(self):\n",
    "        print(\"I am the display of Class A\")\n",
    " \n",
    " \n",
    "class B(A):\n",
    "    def display(self):\n",
    "        print(\"I am the display of Class B\")\n",
    " \n",
    " \n",
    "class C(A):\n",
    "    def display(self):\n",
    "        print(\"I am the display of Class C\")\n",
    " \n",
    " \n",
    "class D(B, C):\n",
    "    pass\n",
    "\n",
    "\n",
    "o = D()\n",
    "# The class D does not have display function.So the class B display function automatically inherits to D\n",
    "o.display() "
   ]
  },
  {
   "cell_type": "code",
   "execution_count": 18,
   "id": "da75f9e1",
   "metadata": {},
   "outputs": [
    {
     "name": "stdout",
     "output_type": "stream",
     "text": [
      "I am the display of Class C\n"
     ]
    }
   ],
   "source": [
    "# To access the class C instead of class B\n",
    "class A:\n",
    "    def display(self):\n",
    "        print(\"I am the display of Class A\")\n",
    " \n",
    " \n",
    "class B(A):\n",
    "    def display(self):\n",
    "        print(\"I am the display of Class B\")\n",
    " \n",
    " \n",
    "class C(A):\n",
    "    def display(self):\n",
    "        print(\"I am the display of Class C\")\n",
    " \n",
    " \n",
    "class D(C,B): # Just Interchange\n",
    "    pass\n",
    "\n",
    "\n",
    "o = D()\n",
    "o.display() "
   ]
  },
  {
   "cell_type": "code",
   "execution_count": 19,
   "id": "8496eda7",
   "metadata": {},
   "outputs": [
    {
     "name": "stdout",
     "output_type": "stream",
     "text": [
      "I am the display of Class A\n"
     ]
    }
   ],
   "source": [
    "# To access the class C instead of class B\n",
    "class A:\n",
    "    def display(self):\n",
    "        print(\"I am the display of Class A\")\n",
    " \n",
    " \n",
    "class B(A):\n",
    "    pass\n",
    " \n",
    "class C(A):\n",
    "    pass\n",
    " \n",
    "class D(B,C): \n",
    "    pass\n",
    "\n",
    "\n",
    "o = D()\n",
    "o.display() "
   ]
  },
  {
   "cell_type": "markdown",
   "id": "db71c3bd",
   "metadata": {},
   "source": [
    "#### Prepared By,\n",
    "Ahamed Basith"
   ]
  },
  {
   "cell_type": "code",
   "execution_count": null,
   "id": "d0cfcb29",
   "metadata": {},
   "outputs": [],
   "source": []
  }
 ],
 "metadata": {
  "kernelspec": {
   "display_name": "Python 3 (ipykernel)",
   "language": "python",
   "name": "python3"
  },
  "language_info": {
   "codemirror_mode": {
    "name": "ipython",
    "version": 3
   },
   "file_extension": ".py",
   "mimetype": "text/x-python",
   "name": "python",
   "nbconvert_exporter": "python",
   "pygments_lexer": "ipython3",
   "version": "3.11.5"
  }
 },
 "nbformat": 4,
 "nbformat_minor": 5
}
