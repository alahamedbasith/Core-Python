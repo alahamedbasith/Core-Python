{
 "cells": [
  {
   "cell_type": "markdown",
   "id": "c660b821",
   "metadata": {},
   "source": [
    "# 10. Conditional statements in Python"
   ]
  },
  {
   "cell_type": "markdown",
   "id": "c41b18b6",
   "metadata": {},
   "source": [
    "In Python, you can use if, else, elif (short for else if), and nested if statements to control the flow of your code based on conditions. \n",
    "\n",
    "### if statement: \n",
    "It executes a block of code if a specified condition is true.\n",
    "\n",
    "### else statement: \n",
    "It executes a block of code if the condition in the if statement is false.\n",
    "\n",
    "### elif statement: \n",
    "It allows you to check for multiple conditions. It is short for \"else if\". If the condition in the if statement is false, it checks the condition in the elif statement, and if that's true, it executes its block of code.\n",
    "\n",
    "### Nested if statement: \n",
    "You can put if statements inside other if statements. This allows for more complex conditional logic."
   ]
  },
  {
   "cell_type": "code",
   "execution_count": 1,
   "id": "36247ea9",
   "metadata": {},
   "outputs": [
    {
     "name": "stdout",
     "output_type": "stream",
     "text": [
      "x is equal to 10\n"
     ]
    }
   ],
   "source": [
    "# Example Program\n",
    "\n",
    "x = 10\n",
    "\n",
    "if x > 10:\n",
    "    print(\"x is greater than 10\")\n",
    "elif x == 10:\n",
    "    print(\"x is equal to 10\")\n",
    "else:\n",
    "    print(\"x is less than 10\")"
   ]
  },
  {
   "cell_type": "code",
   "execution_count": 2,
   "id": "6e0c4abc",
   "metadata": {},
   "outputs": [
    {
     "name": "stdout",
     "output_type": "stream",
     "text": [
      "You are eligible to vote.\n",
      "And you are a citizen of the United States.\n"
     ]
    }
   ],
   "source": [
    "# Let's say we have a program that checks whether a user is eligible to vote based on their age and citizenship status\n",
    "# Nested If-Else Example\n",
    "\n",
    "age = 20\n",
    "citizenship = \"US\"\n",
    "\n",
    "if age >= 18:\n",
    "    print(\"You are eligible to vote.\")\n",
    "    if citizenship == \"US\":\n",
    "        print(\"And you are a citizen of the United States.\")\n",
    "    else:\n",
    "        print(\"But you are not a citizen of the United States, so you cannot vote in federal elections.\")\n",
    "else:\n",
    "    print(\"You are not eligible to vote because you are under 18 years old.\")\n"
   ]
  },
  {
   "cell_type": "code",
   "execution_count": 3,
   "id": "952f3007",
   "metadata": {},
   "outputs": [
    {
     "name": "stdout",
     "output_type": "stream",
     "text": [
      "Enter The Number : 4\n"
     ]
    },
    {
     "data": {
      "text/plain": [
       "'Even Number'"
      ]
     },
     "execution_count": 3,
     "metadata": {},
     "output_type": "execute_result"
    }
   ],
   "source": [
    "# If Else Statement Example in Python\n",
    "# Check the given number is odd or even\n",
    "\n",
    "n = int(input(\"Enter The Number : \"))\n",
    "\n",
    "def checkOddEven(number):\n",
    "    if number % 2 == 0:\n",
    "        return \"Even Number\"\n",
    "    else:\n",
    "        return \"Odd Number\"\n",
    "    \n",
    "checkOddEven(n)"
   ]
  },
  {
   "cell_type": "markdown",
   "id": "34524796",
   "metadata": {},
   "source": [
    "## Problems based on if,else,elif and nested if "
   ]
  },
  {
   "cell_type": "markdown",
   "id": "ed19a0c4",
   "metadata": {},
   "source": [
    "### Problem 01"
   ]
  },
  {
   "cell_type": "markdown",
   "id": "11e80466",
   "metadata": {},
   "source": [
    "This program is a Python script that prompts the user to enter a number of days and then calculates a fine based on that number.\n",
    "\n",
    "   - It starts by using the input() function to ask the user to enter a number of days, which is stored in the \"days\" variable.\n",
    "   <br><br>\n",
    "   - Then, the program uses an if-elif block to check the value of the \"days\" variable against a series of conditions.<br><br>\n",
    "   - If the value of \"days\" is equal to 0, the program prints \"Good No Fine\".<br><br>\n",
    "   - If the value of \"days\" is greater than or equal to 1 and less than or equal to 5, the program calculates the fine as 0.5 * days and prints the fine amount.<br><br>\n",
    "   - If the value of \"days\" is greater than 5 and less than or equal to 10, the program calculates the fine as 1 * days and prints the fine amount.<br><br>\n",
    "   - If the value of \"days\" is greater than 10 and less than or equal to 30, the program calculates the fine as 5 * days and prints the fine amount.<br><br>\n",
    "   - If none of the above conditions are met, the program will print \"Membership Cancel\"\n",
    "\n",
    "So the program is checking the number of days and based on the number of days it is calculating the fine."
   ]
  },
  {
   "cell_type": "code",
   "execution_count": 4,
   "id": "7992ebdf",
   "metadata": {},
   "outputs": [
    {
     "name": "stdout",
     "output_type": "stream",
     "text": [
      "Enter the days:44\n"
     ]
    },
    {
     "data": {
      "text/plain": [
       "'Membership Cancel'"
      ]
     },
     "execution_count": 4,
     "metadata": {},
     "output_type": "execute_result"
    }
   ],
   "source": [
    "# elif Statement in Python\n",
    "\"\"\"\n",
    "0       No Fine\n",
    "1-5     0.5\n",
    "5-10    1\n",
    "10-30   5\n",
    ">30     Membership Cancel\n",
    "\"\"\"\n",
    "\n",
    "days = int(input(\"Enter the days:\"))\n",
    "\n",
    "def CalculateFine(days):\n",
    "    if days == 0:\n",
    "        return \"No Fine\"\n",
    "    elif days > 0 and days < 6:\n",
    "        fine = days*0.5\n",
    "        return \"Fine Amount:{}\".format(fine)\n",
    "    elif days > 5 and days < 11:\n",
    "        fine = days*1\n",
    "        return \"Fine Amount:{}\".format(fine)\n",
    "    elif days > 10 and days < 31:\n",
    "        fine = days*5\n",
    "        return \"Fine Amount:{}\".format(fine)\n",
    "    else:\n",
    "        return \"Membership Cancel\"\n",
    "    \n",
    "CalculateFine(days)"
   ]
  },
  {
   "cell_type": "markdown",
   "id": "1a2e320a",
   "metadata": {},
   "source": [
    "### Problem 02"
   ]
  },
  {
   "cell_type": "markdown",
   "id": "4edad99f",
   "metadata": {},
   "source": [
    "This program is a Python script that prompts the user to enter three marks, then calculates the total and average of those marks, and then uses if-else statements to determine the result and grade based on the marks.\n",
    "\n",
    "   - It starts by using the input() function to ask the user to enter three marks, m1, m2, and m3, which are then stored in variables. The program then calculates the total of the marks by adding the three marks and stores it in the variable 'total' and also calculates the average of the marks by dividing total with 3.0 and stores it in the variable 'average'<br><br>\n",
    "   - Then, the program uses an if-elif block to check the value of the three marks against a series of conditions.<br><br>\n",
    "   - If all three marks are greater than or equal to 35, the program will print \"Result : Pass\" and then again check the average of the marks and calculate the grade If average is greater than or equal to 90 and less than or equal to 100, the program will print \"Grade : A\" If average is greater than or equal to 80 and less than or equal to 89, the program will print \"Grade : B\" If average is greater than or equal to 70 and less than or equal to 79, the program will print \"Grade : C\" If none of the above conditions are met, the program will print \"Grade : D\"<br><br>\n",
    "   - If any of the three marks is less than 35, the program will print \"Result : Fail\" and \"Grade : No Grade\"\n",
    "\n",
    "So the program is checking the student's three marks, calculating the total and average of the marks, and then determining the result and grade based on the marks and average."
   ]
  },
  {
   "cell_type": "code",
   "execution_count": 5,
   "id": "25f0f7dc",
   "metadata": {},
   "outputs": [
    {
     "data": {
      "text/plain": [
       "'\\n3 Marks as Input\\nTotal\\nAverage\\nResult\\nIf Pass Grade\\n    90-100 A\\n    80-89 B\\n    70-79 C\\n    Else D\\n'"
      ]
     },
     "execution_count": 5,
     "metadata": {},
     "output_type": "execute_result"
    }
   ],
   "source": [
    "# Nested If Statement in Python\n",
    "\"\"\"\n",
    "3 Marks as Input\n",
    "Total\n",
    "Average\n",
    "Result\n",
    "If Pass Grade\n",
    "    90-100 A\n",
    "    80-89 B\n",
    "    70-79 C\n",
    "    Else D\n",
    "\"\"\""
   ]
  },
  {
   "cell_type": "code",
   "execution_count": 12,
   "id": "7f26b0eb",
   "metadata": {},
   "outputs": [
    {
     "name": "stdout",
     "output_type": "stream",
     "text": [
      "Enter the Mark 1:90\n",
      "Enter the Mark 2:90\n",
      "Enter the Mark 3:90\n",
      "Mark 1:90\n",
      "Mark 2:90\n",
      "Mark 3:90\n",
      "Total Marks: 270\n",
      "Average: 90.0\n"
     ]
    },
    {
     "data": {
      "text/plain": [
       "'PASS'"
      ]
     },
     "execution_count": 12,
     "metadata": {},
     "output_type": "execute_result"
    }
   ],
   "source": [
    "marks = []\n",
    "total_marks = 0\n",
    "i = 0\n",
    "while i<3:   \n",
    "    mark = int(input(\"Enter the Mark {}:\".format(i+1)))\n",
    "    marks.append(mark)\n",
    "    i+=1\n",
    "\n",
    "# Traverse the list and \n",
    "for i in range(0,3):\n",
    "    print(\"Mark {}:{}\".format(i+1,marks[i]))\n",
    "    total_marks += marks[i]\n",
    "    \n",
    "print(\"Total Marks:\",total_marks)\n",
    "average = total_marks/3\n",
    "print(\"Average:\",average)\n",
    "\n",
    "def GradeSystem(marks,average):\n",
    "    if marks[0] >= 35 and marks[1] >= 35 and marks[2] >=35:\n",
    "        return \"PASS\"\n",
    "        if(average >= 90 and average <= 100):\n",
    "            return \"GRADE A\"\n",
    "        elif (average >= 80 and average < 90):\n",
    "            return \"GRADE B\"\n",
    "        elif (average >= 70 and average < 80):\n",
    "            return \"GRADE C\"\n",
    "        else:\n",
    "            return \"GRADE D\"\n",
    "    else:\n",
    "        return \"FAIL\"\n",
    "\n",
    "\n",
    "GradeSystem(marks,average)\n",
    "\n",
    "    "
   ]
  },
  {
   "cell_type": "markdown",
   "id": "3b1206b9",
   "metadata": {},
   "source": [
    "#### Prepared By,\n",
    "Ahamed Basith"
   ]
  },
  {
   "cell_type": "code",
   "execution_count": null,
   "id": "25839ca7",
   "metadata": {},
   "outputs": [],
   "source": []
  }
 ],
 "metadata": {
  "kernelspec": {
   "display_name": "Python 3 (ipykernel)",
   "language": "python",
   "name": "python3"
  },
  "language_info": {
   "codemirror_mode": {
    "name": "ipython",
    "version": 3
   },
   "file_extension": ".py",
   "mimetype": "text/x-python",
   "name": "python",
   "nbconvert_exporter": "python",
   "pygments_lexer": "ipython3",
   "version": "3.11.5"
  }
 },
 "nbformat": 4,
 "nbformat_minor": 5
}
