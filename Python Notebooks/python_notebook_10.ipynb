{
 "cells": [
  {
   "cell_type": "markdown",
   "id": "8cf9c79b",
   "metadata": {},
   "source": [
    "# 17.Abstraction and Encapsulation in Python\n",
    "Data abstraction and encapsulation are synonymous as data abstraction is achieved through encapsulation. Abstraction is used to hide internal details and show only functionalities. Abstracting something means to give names to things, so that the name captures the basic idea of what a function or a whole program does. Encapsulation is used to restrict access to methods and variables. In encapsulation, code and data are wrapped together within a single unit from being modified by accident."
   ]
  },
  {
   "cell_type": "markdown",
   "id": "88d006a4",
   "metadata": {},
   "source": [
    "## Abstraction\n",
    "Abstraction is the concept of hiding the complex implementation details and showing only the necessary features of an object. It allows you to focus on what an object does rather than how it does it. In Python, abstraction can be achieved through abstract classes and interfaces.\n",
    "\n",
    "**Abstract classes:**<br> These are classes that cannot be instantiated and typically contain one or more abstract methods, which are methods without implementations. Abstract classes are meant to be subclassed, and their abstract methods must be implemented by the subclasses.\n",
    "\n"
   ]
  },
  {
   "cell_type": "code",
   "execution_count": 1,
   "id": "ceaa04b3",
   "metadata": {},
   "outputs": [],
   "source": [
    "# These way to define abstract classes in python\n",
    "from abc import ABC, abstractmethod\n",
    "\n",
    "class Shape(ABC):\n",
    "    @abstractmethod\n",
    "    def area(self):\n",
    "        pass\n",
    "\n",
    "    @abstractmethod\n",
    "    def perimeter(self):\n",
    "        pass"
   ]
  },
  {
   "cell_type": "code",
   "execution_count": 2,
   "id": "b414f02c",
   "metadata": {},
   "outputs": [
    {
     "name": "stdout",
     "output_type": "stream",
     "text": [
      "Rectangle Area: 20\n",
      "Rectangle Perimeter: 18\n",
      "Circle Area: 28.259999999999998\n",
      "Circle Perimeter: 18.84\n"
     ]
    }
   ],
   "source": [
    "# Example\n",
    "from abc import ABC, abstractmethod\n",
    "\n",
    "class Shape(ABC):\n",
    "    @abstractmethod\n",
    "    def area(self):\n",
    "        pass\n",
    "\n",
    "    @abstractmethod\n",
    "    def perimeter(self):\n",
    "        pass\n",
    "\n",
    "class Rectangle(Shape):\n",
    "    def __init__(self, width, height):\n",
    "        self.width = width\n",
    "        self.height = height\n",
    "\n",
    "    def area(self):\n",
    "        return self.width * self.height\n",
    "\n",
    "    def perimeter(self):\n",
    "        return 2 * (self.width + self.height)\n",
    "\n",
    "class Circle(Shape):\n",
    "    def __init__(self, radius):\n",
    "        self.radius = radius\n",
    "\n",
    "    def area(self):\n",
    "        return 3.14 * self.radius * self.radius\n",
    "\n",
    "    def perimeter(self):\n",
    "        return 2 * 3.14 * self.radius\n",
    "\n",
    "# Instantiating objects of concrete classes\n",
    "rectangle = Rectangle(5, 4)\n",
    "circle = Circle(3)\n",
    "\n",
    "# Calling methods on objects without worrying about internal implementations\n",
    "print(\"Rectangle Area:\", rectangle.area())       # Output: 20\n",
    "print(\"Rectangle Perimeter:\", rectangle.perimeter()) # Output: 18\n",
    "\n",
    "print(\"Circle Area:\", circle.area())           # Output: 28.26\n",
    "print(\"Circle Perimeter:\", circle.perimeter())     # Output: 18.84\n"
   ]
  },
  {
   "cell_type": "code",
   "execution_count": 3,
   "id": "ca230df5",
   "metadata": {},
   "outputs": [],
   "source": [
    "# Another Example\n",
    "from abc import ABC,abstractmethod\n",
    "\n",
    "class Fruits(ABC):\n",
    "    \n",
    "    def __init__(self,fruit_name,fruit_rate):\n",
    "        self.fruit_name = fruit_name\n",
    "        self.fruit_rate = fruit_rate\n",
    "    \n",
    "    @abstractmethod\n",
    "    def taste(self):\n",
    "        pass\n",
    "    @abstractmethod\n",
    "    def color(self):\n",
    "        pass\n",
    "    @abstractmethod\n",
    "    def details(self):\n",
    "        pass\n",
    "    \n",
    "class Mango(Fruits):\n",
    "    \n",
    "    def taste(self):\n",
    "        return \"Sweet\"\n",
    "    \n",
    "    def color(self):\n",
    "        return \"Yellow\"\n",
    "    \n",
    "    def details(self):\n",
    "        return f\"The fruit name is {self.fruit_name} and rate is {self.fruit_rate}\"\n",
    "        \n",
    "class Apple(Fruits):\n",
    "    \n",
    "    def taste(self):\n",
    "        return \"Sweet\"\n",
    "    \n",
    "    def color(self):\n",
    "        return \"Red\"\n",
    "    \n",
    "    def details(self):\n",
    "        return f\"The fruit name is {self.fruit_name} and rate is {self.fruit_rate}\"\n",
    "    \n",
    "class Pineapple(Fruits):\n",
    "    \n",
    "    def taste(self):\n",
    "        return \"Sweet with salt\"\n",
    "    \n",
    "    def color(self):\n",
    "        return \"Crayon\"\n",
    "    \n",
    "    def details(self):\n",
    "        return f\"The fruit name is {self.fruit_name} and rate is {self.fruit_rate}\"\n"
   ]
  },
  {
   "cell_type": "code",
   "execution_count": 4,
   "id": "5599655b",
   "metadata": {},
   "outputs": [
    {
     "name": "stdout",
     "output_type": "stream",
     "text": [
      "Sweet\n",
      "Yellow\n",
      "The fruit name is Mango and rate is 234\n",
      "--------------------------------------------\n",
      "Sweet\n",
      "Red\n",
      "The fruit name is Apple and rate is 150\n",
      "--------------------------------------------\n",
      "Sweet with salt\n",
      "Crayon\n",
      "The fruit name is Pineapple and rate is 200\n"
     ]
    }
   ],
   "source": [
    "mango = Mango(\"Mango\",234)\n",
    "\n",
    "# Call the method without worrying about internal implementations\n",
    "\n",
    "print(mango.taste())\n",
    "print(mango.color())\n",
    "print(mango.details())\n",
    "\n",
    "print(\"--------------------------------------------\")\n",
    "\n",
    "apple = Apple(\"Apple\",150)\n",
    "\n",
    "# Call the method without worrying about internal implementations\n",
    "\n",
    "print(apple.taste())\n",
    "print(apple.color())\n",
    "print(apple.details())\n",
    "\n",
    "print(\"--------------------------------------------\")\n",
    "\n",
    "pineapple = Pineapple(\"Pineapple\",200)\n",
    "\n",
    "# Call the method without worrying about internal implementations\n",
    "\n",
    "print(pineapple.taste())\n",
    "print(pineapple.color())\n",
    "print(pineapple.details())"
   ]
  },
  {
   "cell_type": "code",
   "execution_count": 5,
   "id": "82f78ee9",
   "metadata": {},
   "outputs": [
    {
     "name": "stdout",
     "output_type": "stream",
     "text": [
      "Buddy says: Woof!\n",
      "Whiskers says: Meow!\n"
     ]
    }
   ],
   "source": [
    "# Another Example \n",
    "from abc import ABC, abstractmethod\n",
    "\n",
    "class Animal(ABC):\n",
    "    def __init__(self, name):\n",
    "        self.name = name\n",
    "\n",
    "    @abstractmethod\n",
    "    def make_sound(self):\n",
    "        pass\n",
    "\n",
    "class Dog(Animal):\n",
    "    def make_sound(self):\n",
    "        return \"Woof!\"\n",
    "\n",
    "class Cat(Animal):\n",
    "    def make_sound(self):\n",
    "        return \"Meow!\"\n",
    "\n",
    "# Create instances of concrete classes\n",
    "dog = Dog(\"Buddy\")\n",
    "cat = Cat(\"Whiskers\")\n",
    "\n",
    "# Call the method without worrying about internal implementations\n",
    "print(f\"{dog.name} says: {dog.make_sound()}\")  # Output: Buddy says: Woof!\n",
    "print(f\"{cat.name} says: {cat.make_sound()}\")  # Output: Whiskers says: Meow!\n"
   ]
  },
  {
   "cell_type": "markdown",
   "id": "bac65680",
   "metadata": {},
   "source": [
    "## Encapsulation:\n",
    "Encapsulation is the bundling of data and methods that operate on the data into a single unit, i.e., a class. It hides the internal state of an object from the outside world and only exposes the necessary functionalities through methods. Encapsulation helps in maintaining the integrity of the data by preventing unauthorized access and modification.\n",
    "\n",
    "   - **Private members:** In Python, encapsulation is achieved by using private members, which are prefixed with double underscores (__). These members are not directly accessible from outside the class.\n",
    "   - **Property decorators:** Property decorators can be used to define getter, setter, and deleter methods for accessing and modifying private attributes in a controlled way."
   ]
  },
  {
   "cell_type": "code",
   "execution_count": 6,
   "id": "4ddc48de",
   "metadata": {},
   "outputs": [
    {
     "name": "stdout",
     "output_type": "stream",
     "text": [
      "Toyota\n"
     ]
    },
    {
     "ename": "AttributeError",
     "evalue": "'Car' object has no attribute '__make'",
     "output_type": "error",
     "traceback": [
      "\u001b[1;31m---------------------------------------------------------------------------\u001b[0m",
      "\u001b[1;31mAttributeError\u001b[0m                            Traceback (most recent call last)",
      "Cell \u001b[1;32mIn[6], line 14\u001b[0m\n\u001b[0;32m     12\u001b[0m car \u001b[38;5;241m=\u001b[39m Car(\u001b[38;5;124m\"\u001b[39m\u001b[38;5;124mToyota\u001b[39m\u001b[38;5;124m\"\u001b[39m, \u001b[38;5;124m\"\u001b[39m\u001b[38;5;124mCorolla\u001b[39m\u001b[38;5;124m\"\u001b[39m)\n\u001b[0;32m     13\u001b[0m \u001b[38;5;28mprint\u001b[39m(car\u001b[38;5;241m.\u001b[39mget_make())  \u001b[38;5;66;03m# Accessing the make using a getter method\u001b[39;00m\n\u001b[1;32m---> 14\u001b[0m \u001b[38;5;28mprint\u001b[39m(car\u001b[38;5;241m.\u001b[39m__make)\n",
      "\u001b[1;31mAttributeError\u001b[0m: 'Car' object has no attribute '__make'"
     ]
    }
   ],
   "source": [
    "class Car:\n",
    "    def __init__(self, make, model):\n",
    "        self.__make = make\n",
    "        self.__model = model\n",
    "\n",
    "    def get_make(self):\n",
    "        return self.__make\n",
    "\n",
    "    def get_model(self):\n",
    "        return self.__model\n",
    "\n",
    "car = Car(\"Toyota\", \"Corolla\")\n",
    "print(car.get_make())  # Accessing the make using a getter method\n",
    "print(car.__make)  # This will raise an AttributeError because of private variable"
   ]
  },
  {
   "cell_type": "code",
   "execution_count": 7,
   "id": "de95eb4a",
   "metadata": {},
   "outputs": [
    {
     "name": "stdout",
     "output_type": "stream",
     "text": [
      "Toyota\n"
     ]
    }
   ],
   "source": [
    "# Access the private variable using getter and property method\n",
    "class Car:\n",
    "    def __init__(self, make, model):\n",
    "        self.__make = make\n",
    "        self.__model = model\n",
    "\n",
    "    @property\n",
    "    def make(self): # getter \n",
    "        return self.__make\n",
    "\n",
    "    @property\n",
    "    def model(self): # getter\n",
    "        return self.__model\n",
    "\n",
    "car = Car(\"Toyota\", \"Corolla\")\n",
    "print(car.make)  # Accessing the make using a property"
   ]
  },
  {
   "cell_type": "code",
   "execution_count": 8,
   "id": "33c84113",
   "metadata": {},
   "outputs": [
    {
     "name": "stdout",
     "output_type": "stream",
     "text": [
      "Which inventory you need to use:oil\n",
      "Enter the product range:3\n",
      "Enter the product:Crude Oil\n",
      "Enter the product description:This is the raw material extracted from the ground, consisting of a mixture of hydrocarbons and other organic compounds. It undergoes refining processes to produce various petroleum products.\n",
      "------------------------------------------------\n",
      "Enter the product:Gasoline\n",
      "Enter the product description:Gasoline is one of the most widely used petroleum products. It's primarily used as fuel for internal combustion engines in vehicles such as cars, motorcycles, and trucks.\n",
      "------------------------------------------------\n",
      "Enter the product:Diesel\n",
      "Enter the product description:Diesel fuel is another important petroleum product used as fuel in diesel engines, commonly found in trucks, buses, trains, ships, and some cars. It has a different chemical composition compared to gasoline and is more efficient in diesel engines.\n",
      "------------------------------------------------\n",
      "The inventory things of Oil are Crude Oil, Gasoline, Diesel and the description are ['This is the raw material extracted from the ground, consisting of a mixture of hydrocarbons and other organic compounds. It undergoes refining processes to produce various petroleum products.', \"Gasoline is one of the most widely used petroleum products. It's primarily used as fuel for internal combustion engines in vehicles such as cars, motorcycles, and trucks.\", 'Diesel fuel is another important petroleum product used as fuel in diesel engines, commonly found in trucks, buses, trains, ships, and some cars. It has a different chemical composition compared to gasoline and is more efficient in diesel engines.']\n"
     ]
    }
   ],
   "source": [
    "# Example\n",
    "class Inventory():\n",
    "    \n",
    "    def __init__(self,things,description):\n",
    "        self.__things = things\n",
    "        self.__description = description\n",
    "        \n",
    "    def OilSection(self):\n",
    "        return f\"The inventory things of Oil are {', '.join(self.__things)} and the description are {self.__description}\"\n",
    "    \n",
    "    def BarrelSection(self):\n",
    "        return f\"The inventory things of Barrel are {', '.join(self.__things)} and the description are {self.__description}\"\n",
    "\n",
    "\n",
    "        \n",
    "    def ChemicalSection(self):\n",
    "        return f\"The inventory things of Chemical are {', '.join(self.__things)} and the description are {self.__description}\"\n",
    "    \n",
    "product_list = []\n",
    "product_des = []\n",
    "section = input(\"Which inventory you need to use:\").lower()\n",
    "    \n",
    "def get_product_details():          \n",
    "\n",
    "    product_limit = int(input(\"Enter the product range:\"))\n",
    "        \n",
    "    for i in range(0,product_limit):\n",
    "        product = input(\"Enter the product:\")\n",
    "        product_list.append(product)\n",
    "        product_d = input(\"Enter the product description:\")\n",
    "        product_des.append(product_d)\n",
    "        print(\"------------------------------------------------\")\n",
    "        \n",
    "\n",
    "if section == \"oil\":\n",
    "    get_product_details()\n",
    "    obj = Inventory(product_list,product_des)\n",
    "    print(obj.OilSection())\n",
    "    \n",
    "elif section == \"barrel\":\n",
    "    get_product_details()\n",
    "    obj = Inventory(product_list,product_des)\n",
    "    print(obj.BarrelSection())\n",
    "    \n",
    "elif section == \"chemical\":\n",
    "    get_product_details()\n",
    "    obj = Inventory(product_list,product_des)\n",
    "    print(obj.ChemicalSection())\n",
    "    \n",
    "else:\n",
    "    print(\"Enter the valid Input\")"
   ]
  },
  {
   "cell_type": "code",
   "execution_count": 9,
   "id": "56a087ee",
   "metadata": {},
   "outputs": [
    {
     "name": "stdout",
     "output_type": "stream",
     "text": [
      "Initial balance: 1000\n",
      "Deposited $500. New balance: $1500\n",
      "Withdrew $200. New balance: $1300\n",
      "Insufficient funds or invalid withdrawal amount.\n",
      "Final balance: 1300\n"
     ]
    }
   ],
   "source": [
    "# Another example for Encapsulation\n",
    "class BankAccount:\n",
    "    def __init__(self, account_number, balance):\n",
    "        self._account_number = account_number  # Encapsulated attribute (protected)\n",
    "        self._balance = balance  # Encapsulated attribute (protected)\n",
    "\n",
    "    def deposit(self, amount):\n",
    "        if amount > 0:\n",
    "            self._balance += amount\n",
    "            print(f\"Deposited ${amount}. New balance: ${self._balance}\")\n",
    "        else:\n",
    "            print(\"Invalid deposit amount.\")\n",
    "\n",
    "    def withdraw(self, amount):\n",
    "        if 0 < amount <= self._balance:\n",
    "            self._balance -= amount\n",
    "            print(f\"Withdrew ${amount}. New balance: ${self._balance}\")\n",
    "        else:\n",
    "            print(\"Insufficient funds or invalid withdrawal amount.\")\n",
    "\n",
    "    def get_balance(self):\n",
    "        return self._balance\n",
    "\n",
    "\n",
    "# Usage\n",
    "account1 = BankAccount(\"123456\", 1000)\n",
    "print(\"Initial balance:\", account1.get_balance())\n",
    "\n",
    "account1.deposit(500)\n",
    "account1.withdraw(200)\n",
    "account1.withdraw(1500)\n",
    "\n",
    "print(\"Final balance:\", account1.get_balance())\n"
   ]
  },
  {
   "cell_type": "markdown",
   "id": "47e50759",
   "metadata": {},
   "source": [
    "## Public,Private and Protected Variables in python\n",
    "n Python, the concepts of public, private, and protected variables are not enforced through access modifiers like in some other programming languages (e.g., Java). However, there are conventions and mechanisms to achieve similar behavior:"
   ]
  },
  {
   "cell_type": "markdown",
   "id": "e1b5991d",
   "metadata": {},
   "source": [
    "### Public Variables: \n",
    "Variables in Python classes that are accessible from outside the class without any restrictions. By convention, variables that are intended to be public are typically prefixed with a single underscore or no underscore at all."
   ]
  },
  {
   "cell_type": "code",
   "execution_count": 10,
   "id": "19774626",
   "metadata": {},
   "outputs": [
    {
     "name": "stdout",
     "output_type": "stream",
     "text": [
      "10\n"
     ]
    }
   ],
   "source": [
    "class MyClass:\n",
    "    def __init__(self):\n",
    "        self.public_var = 10\n",
    "\n",
    "obj = MyClass()\n",
    "print(obj.public_var)  # Accessing public variable"
   ]
  },
  {
   "cell_type": "markdown",
   "id": "d4e3e6a4",
   "metadata": {},
   "source": [
    "### Protected Variables: \n",
    "Variables in Python classes that should not be accessed directly from outside the class, but are accessible within the class itself and its subclasses. By convention, variables that are intended to be protected are typically prefixed with a single underscore."
   ]
  },
  {
   "cell_type": "code",
   "execution_count": 11,
   "id": "4888350d",
   "metadata": {},
   "outputs": [
    {
     "name": "stdout",
     "output_type": "stream",
     "text": [
      "20\n"
     ]
    }
   ],
   "source": [
    "class MyClass:\n",
    "    def __init__(self):\n",
    "        self._protected_var = 20\n",
    "\n",
    "    def display_protected_var(self):\n",
    "        print(self._protected_var)  # Accessing protected variable within the class\n",
    "\n",
    "obj = MyClass()\n",
    "obj.display_protected_var()  # Accessing protected variable through a method"
   ]
  },
  {
   "cell_type": "markdown",
   "id": "a66208db",
   "metadata": {},
   "source": [
    "### Private Variables: \n",
    "Variables in Python classes that should not be accessed directly from outside the class, not even by its subclasses. By convention, variables that are intended to be private are typically prefixed with a double underscore."
   ]
  },
  {
   "cell_type": "code",
   "execution_count": 12,
   "id": "5ac12684",
   "metadata": {},
   "outputs": [
    {
     "name": "stdout",
     "output_type": "stream",
     "text": [
      "30\n"
     ]
    }
   ],
   "source": [
    "class MyClass:\n",
    "    def __init__(self):\n",
    "        self.__private_var = 30\n",
    "\n",
    "    def display_private_var(self):\n",
    "        print(self.__private_var)  # Accessing private variable within the class\n",
    "\n",
    "obj = MyClass()\n",
    "obj.display_private_var()  # Accessing private variable through a method\n",
    "# This will raise an error: print(obj.__private_var)"
   ]
  },
  {
   "cell_type": "markdown",
   "id": "a19037ce",
   "metadata": {},
   "source": [
    "### Note: \n",
    "Python does not enforce these access levels, so it's possible to access all variables from outside the class. However, the single underscore convention serves as a signal to other developers that a variable is intended to be treated as protected, and the double underscore prefix performs name mangling, effectively making the variable harder to access from outside the class."
   ]
  },
  {
   "cell_type": "markdown",
   "id": "c6d665ad",
   "metadata": {},
   "source": [
    "#### Prepared By,\n",
    "Ahamed Basith"
   ]
  },
  {
   "cell_type": "code",
   "execution_count": null,
   "id": "c4a1252e",
   "metadata": {},
   "outputs": [],
   "source": []
  }
 ],
 "metadata": {
  "kernelspec": {
   "display_name": "Python 3 (ipykernel)",
   "language": "python",
   "name": "python3"
  },
  "language_info": {
   "codemirror_mode": {
    "name": "ipython",
    "version": 3
   },
   "file_extension": ".py",
   "mimetype": "text/x-python",
   "name": "python",
   "nbconvert_exporter": "python",
   "pygments_lexer": "ipython3",
   "version": "3.11.5"
  }
 },
 "nbformat": 4,
 "nbformat_minor": 5
}
