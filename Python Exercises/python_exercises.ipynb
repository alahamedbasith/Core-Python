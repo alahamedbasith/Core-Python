{
 "cells": [
  {
   "cell_type": "markdown",
   "id": "6ff6d80e",
   "metadata": {},
   "source": [
    "## List Exercises"
   ]
  },
  {
   "cell_type": "markdown",
   "id": "079aa1de",
   "metadata": {},
   "source": [
    "### 1.Write a Python program to get the largest number from a list"
   ]
  },
  {
   "cell_type": "code",
   "execution_count": 1,
   "id": "b31ea911",
   "metadata": {},
   "outputs": [
    {
     "name": "stdout",
     "output_type": "stream",
     "text": [
      "Largest Number : 34\n"
     ]
    }
   ],
   "source": [
    "a=[1,7,10,34,2,8]\n",
    "\"\"\"\n",
    "print(\"Largest Number :\",max(a))\n",
    "\"\"\"\n",
    "max = a[ 0 ]\n",
    "for i in a:\n",
    "    if i > max:\n",
    "        max = i\n",
    "print(\"Largest Number :\",max)"
   ]
  },
  {
   "cell_type": "markdown",
   "id": "2a8bc705",
   "metadata": {},
   "source": [
    "### 2.Write a Python program to find the second largest number in a list"
   ]
  },
  {
   "cell_type": "code",
   "execution_count": 2,
   "id": "d39675a9",
   "metadata": {},
   "outputs": [
    {
     "name": "stdout",
     "output_type": "stream",
     "text": [
      "82\n"
     ]
    }
   ],
   "source": [
    "num = [ 82,4,56,78,4,34,5,100,9]\n",
    "if (len(num)<2):\n",
    "  print(num)\n",
    "if ((len(num)==2)  and (num[0] == num[1]) ):\n",
    "  print(num)\n",
    "dup_items = set()\n",
    "uniq_items = []\n",
    "for x in num:\n",
    "    if x not in dup_items:\n",
    "        uniq_items.append(x)\n",
    "        dup_items.add(x)\n",
    "uniq_items.sort()    \n",
    "print(uniq_items[-2])"
   ]
  },
  {
   "cell_type": "markdown",
   "id": "c204fff4",
   "metadata": {},
   "source": [
    "### 3.Write a Python program to split a list based on first character of word"
   ]
  },
  {
   "cell_type": "code",
   "execution_count": 3,
   "id": "a3f4c7aa",
   "metadata": {},
   "outputs": [
    {
     "name": "stdout",
     "output_type": "stream",
     "text": [
      "F\n",
      "  Fox\n",
      "\n",
      "S\n",
      "  Shark\n",
      "  Snake\n",
      "\n",
      "b\n",
      "  bear\n",
      "\n",
      "c\n",
      "  cat\n",
      "  cow\n",
      "\n",
      "d\n",
      "  dog\n",
      "\n",
      "l\n",
      "  lion\n",
      "\n",
      "m\n",
      "  monkey\n",
      "  mouse\n",
      "\n",
      "t\n",
      "  tiger\n",
      "  turtle\n",
      "\n"
     ]
    }
   ],
   "source": [
    "from itertools import groupby\n",
    "from operator import itemgetter\n",
    " \n",
    "a = [\"cat\",\"dog\",\"cow\",\"tiger\",\"lion\",\"Fox\",\"Shark\",\"Snake\",\"turtle\",\"mouse\",\"monkey\",\"bear\"]\n",
    " \n",
    "for ltr, wds in groupby(sorted(a), key=itemgetter(0)):\n",
    "    print(ltr)\n",
    "    for w in wds:\n",
    "        print(\" \",w)\n",
    "    print(\"\")"
   ]
  },
  {
   "cell_type": "markdown",
   "id": "21120126",
   "metadata": {},
   "source": [
    "### 4.Write a Python Program to print all Possible Combinations from the three Digits"
   ]
  },
  {
   "cell_type": "code",
   "execution_count": 4,
   "id": "509ed746",
   "metadata": {},
   "outputs": [
    {
     "name": "stdout",
     "output_type": "stream",
     "text": [
      "1 2 3\n",
      "1 3 2\n",
      "2 1 3\n",
      "2 3 1\n",
      "3 1 2\n",
      "3 2 1\n"
     ]
    }
   ],
   "source": [
    "a = [1, 2, 3]\n",
    "for i in range(3):\n",
    "    for j in range(3):\n",
    "        for k in range(3):\n",
    "            if (i!=j and j!=k and i!=k):\n",
    "                print(a[i], a[j], a[k])"
   ]
  },
  {
   "cell_type": "markdown",
   "id": "6f52aac1",
   "metadata": {},
   "source": [
    "### 5.Write a Python program to find common items from two lists"
   ]
  },
  {
   "cell_type": "code",
   "execution_count": 5,
   "id": "396ab39e",
   "metadata": {},
   "outputs": [
    {
     "name": "stdout",
     "output_type": "stream",
     "text": [
      "{89, 34, 67}\n"
     ]
    }
   ],
   "source": [
    "num1 = [23,45,67,78,89,34]\n",
    "num2 = [34,89,55,56,39,67]\n",
    "print(set(num1) & set(num2))"
   ]
  },
  {
   "cell_type": "markdown",
   "id": "befab086",
   "metadata": {},
   "source": [
    "## Tuple Exercises"
   ]
  },
  {
   "cell_type": "markdown",
   "id": "be1c5d02",
   "metadata": {},
   "source": [
    "### 1.Write a Python program to Convert Binary tuple to Integer"
   ]
  },
  {
   "cell_type": "code",
   "execution_count": 6,
   "id": "a8f49ec2",
   "metadata": {},
   "outputs": [
    {
     "name": "stdout",
     "output_type": "stream",
     "text": [
      "Original tuple :  (1, 0, 1, 0)\n",
      "Decimal number is :  10\n"
     ]
    }
   ],
   "source": [
    "val = (1,0,1,0)\n",
    "print(\"Original tuple : \" ,val)\n",
    "result = int(''.join(str(i) for i in val),2)\n",
    "print(\"Decimal number is : \" ,result)"
   ]
  },
  {
   "cell_type": "markdown",
   "id": "5575044e",
   "metadata": {},
   "source": [
    "### 2.Write a Python program to Skew Nested Tuple Summation"
   ]
  },
  {
   "cell_type": "code",
   "execution_count": 7,
   "id": "e0292495",
   "metadata": {},
   "outputs": [
    {
     "name": "stdout",
     "output_type": "stream",
     "text": [
      "Tuple :  (1, (2, (3, (4, (5, None)))))\n",
      "Summation: 15\n"
     ]
    }
   ],
   "source": [
    "val = (1, (2, (3, (4, (5, None)))))\n",
    " \n",
    "print(\"Tuple : \",val)\n",
    "\n",
    "sum = 0\n",
    "while val:\n",
    "    sum += val[0]\n",
    "    val = val[1]\n",
    "    \n",
    "print(\"Summation:\",sum)"
   ]
  },
  {
   "cell_type": "markdown",
   "id": "ecb69eb4",
   "metadata": {},
   "source": [
    "### 3.Write a Python program to Sort lists in tuple"
   ]
  },
  {
   "cell_type": "code",
   "execution_count": 8,
   "id": "0107a8ee",
   "metadata": {},
   "outputs": [
    {
     "name": "stdout",
     "output_type": "stream",
     "text": [
      "Original Tuple is :  ([10, 50, 60], [80, 20, 30], [70, 100, 40], (90,))\n",
      "Tuple after sorting list :  ([10, 50, 60], [20, 30, 80], [40, 70, 100], [90])\n"
     ]
    }
   ],
   "source": [
    "val = ([10, 50, 60], [80, 20, 30], [70, 100, 40],(90,))\n",
    " \n",
    "print(\"Original Tuple is : \" , val)\n",
    " \n",
    "res = tuple((sorted(i) for i in val))\n",
    "print(\"Tuple after sorting list : \",res)"
   ]
  },
  {
   "cell_type": "markdown",
   "id": "43ce6c8a",
   "metadata": {},
   "source": [
    "### 4.Copy specific elements from one tuple to a new tuple"
   ]
  },
  {
   "cell_type": "code",
   "execution_count": 9,
   "id": "d5e883b3",
   "metadata": {},
   "outputs": [
    {
     "name": "stdout",
     "output_type": "stream",
     "text": [
      "(30, 40, 50, 60, 70, 80)\n"
     ]
    }
   ],
   "source": [
    "t1 = (10,20,30,40,50,60,70,80,90,100)\n",
    "t2 = t1[2:8]\n",
    "print(t2)"
   ]
  },
  {
   "cell_type": "markdown",
   "id": "2cf75446",
   "metadata": {},
   "source": [
    "### 5.Write a Python program to Elementwise AND in tuples"
   ]
  },
  {
   "cell_type": "code",
   "execution_count": 10,
   "id": "c5db8acb",
   "metadata": {},
   "outputs": [
    {
     "name": "stdout",
     "output_type": "stream",
     "text": [
      "Tuple 1 :  (10, 4, 6, 9)\n",
      "Tuple 2 :  (5, 2, 3, 3)\n",
      "The AND tuple :  (0, 0, 2, 1)\n"
     ]
    }
   ],
   "source": [
    "tup1 = (10, 4, 6, 9)\n",
    "tup2 = (5, 2, 3, 3)\n",
    " \n",
    "print(\"Tuple 1 : \",tup1)\n",
    "print(\"Tuple 2 : \",tup2)\n",
    " \n",
    "res = tuple(e1 & e2 for e1, e2 in zip(tup1, tup2))\n",
    " \n",
    "print(\"The AND tuple : \",res)"
   ]
  },
  {
   "cell_type": "markdown",
   "id": "8fde5008",
   "metadata": {},
   "source": [
    "## Set Exercises"
   ]
  },
  {
   "cell_type": "markdown",
   "id": "0d0c31f8",
   "metadata": {},
   "source": [
    "### 1.program to count number of vowels using sets in given string"
   ]
  },
  {
   "cell_type": "code",
   "execution_count": 11,
   "id": "1217b6c9",
   "metadata": {},
   "outputs": [
    {
     "name": "stdout",
     "output_type": "stream",
     "text": [
      "5\n"
     ]
    }
   ],
   "source": [
    "string = \"Ahamed Basith\"\n",
    "vowels = set(\"aeiouAEIOU\")\n",
    "\n",
    "count = 0\n",
    "\n",
    "for letter in string:\n",
    "    if letter in vowels:\n",
    "        count += 1\n",
    "        \n",
    "print(count)"
   ]
  },
  {
   "cell_type": "markdown",
   "id": "06f16c46",
   "metadata": {},
   "source": [
    "### 2.Find the union, symmetric difference, and intersection of the two sets. Print the results of each operation"
   ]
  },
  {
   "cell_type": "code",
   "execution_count": 12,
   "id": "88f4ad48",
   "metadata": {},
   "outputs": [
    {
     "name": "stdout",
     "output_type": "stream",
     "text": [
      "Set 1 : {5, 6, 7, 8, 9, 10, 11, 12, 13, 14}\n",
      "\n",
      "Set 2 : {('J', 'O', 'E'), ('Python', 'C'), 20, 10, 11}\n",
      "Union :  {('J', 'O', 'E'), 5, 6, 7, 8, 9, 10, 11, 12, 13, 14, ('Python', 'C'), 20}\n",
      "Symmetric Difference : {5, 6, 7, 8, 9, 12, 13, 14, ('Python', 'C'), 20, ('J', 'O', 'E')}\n",
      "Intersection : {10, 11}\n"
     ]
    }
   ],
   "source": [
    "s = set()\n",
    "s.update(range(5, 15))\n",
    " \n",
    "val = { 11, (\"Python\", \"C\"), ('J','O','E'),10 , 20 }\n",
    "print(\"Set 1 :\",s)\n",
    "print(\"\\nSet 2 :\",val)\n",
    "print(\"Union : \",s.union(val))\n",
    "print(\"Symmetric Difference :\",s.symmetric_difference(val))\n",
    "print(\"Intersection :\",s.intersection(val))"
   ]
  },
  {
   "cell_type": "markdown",
   "id": "4d15ee52",
   "metadata": {},
   "source": [
    "### 3.Write a Python program to add member(s) in a set"
   ]
  },
  {
   "cell_type": "code",
   "execution_count": 13,
   "id": "f7a33117",
   "metadata": {},
   "outputs": [
    {
     "name": "stdout",
     "output_type": "stream",
     "text": [
      "{'Cat', 'Lion'}\n",
      "Add single element :  {'Cat', 'Dog', 'Lion'}\n",
      "Add multiple items :  {'Panda', 'Cat', 'Tiger', 'Dog', 'Lion'}\n"
     ]
    }
   ],
   "source": [
    "animal = {\"Lion\",\"Cat\"}\n",
    "print(animal)\n",
    "animal.add(\"Dog\")\n",
    "print(\"Add single element : \",animal)\n",
    "animal.update([\"Panda\", \"Tiger\"])\n",
    "print(\"Add multiple items : \",animal)"
   ]
  },
  {
   "cell_type": "markdown",
   "id": "7b61eb61",
   "metadata": {},
   "source": [
    "### 4.Write a Python program to return a new set with unique items from both sets by removing duplicates"
   ]
  },
  {
   "cell_type": "code",
   "execution_count": 14,
   "id": "e462640d",
   "metadata": {},
   "outputs": [
    {
     "name": "stdout",
     "output_type": "stream",
     "text": [
      "{70, 40, 10, 80, 50, 20, 60, 30}\n"
     ]
    }
   ],
   "source": [
    "x = {10, 20, 30, 40, 50}\n",
    "y = {40, 50, 60, 70,80}\n",
    "z = x.union(y)\n",
    "print(z)"
   ]
  },
  {
   "cell_type": "markdown",
   "id": "e86e8db6",
   "metadata": {},
   "source": [
    "### 5.Write a Python program to Check is a set a subset of itself"
   ]
  },
  {
   "cell_type": "code",
   "execution_count": 15,
   "id": "d06e6c0f",
   "metadata": {},
   "outputs": [
    {
     "name": "stdout",
     "output_type": "stream",
     "text": [
      "A Subset of Itself(A) : True\n"
     ]
    }
   ],
   "source": [
    "a = {1,2,3,4,5}\n",
    "print(\"A Subset of Itself(A) :\",a.issubset(a))"
   ]
  },
  {
   "cell_type": "code",
   "execution_count": 16,
   "id": "c793edf8",
   "metadata": {},
   "outputs": [
    {
     "name": "stdout",
     "output_type": "stream",
     "text": [
      "A Subset of B : True\n",
      "B Subset of A : False\n"
     ]
    }
   ],
   "source": [
    "# Write a Python program to Check if a set is a subset, using comparison operators\n",
    "a = {'a','b'}\n",
    "b = {'a','b','c'}\n",
    "print(\"A Subset of B :\",a <= b)\n",
    "print(\"B Subset of A :\",b <= a) "
   ]
  },
  {
   "cell_type": "markdown",
   "id": "a561fe54",
   "metadata": {},
   "source": [
    "## Dictionary Exercises"
   ]
  },
  {
   "cell_type": "markdown",
   "id": "85c9c942",
   "metadata": {},
   "source": [
    "### 1.Write a Python program to add a key to a dictionary"
   ]
  },
  {
   "cell_type": "code",
   "execution_count": 17,
   "id": "fbadd015",
   "metadata": {},
   "outputs": [
    {
     "name": "stdout",
     "output_type": "stream",
     "text": [
      "{'Name': 'Ahamed', 'Age': 23}\n",
      "{'Name': 'Ahamed', 'Age': 23, 'City': 'Tenkasi'}\n",
      "{'Name': 'Ahamed', 'Age': 23, 'City': 'Tenkasi', 'Gender': 'Male'}\n"
     ]
    }
   ],
   "source": [
    "d = {\"Name\":\"Ahamed\" , \"Age\":23}\n",
    "print(d)\n",
    "d.update({\"City\":\"Tenkasi\"})\n",
    "print(d)\n",
    "d[\"Gender\"]=\"Male\"\n",
    "print(d)"
   ]
  },
  {
   "cell_type": "markdown",
   "id": "f1c26f69",
   "metadata": {},
   "source": [
    "### 2.Write a Python program to iterate over dictionaries using for loops"
   ]
  },
  {
   "cell_type": "code",
   "execution_count": 18,
   "id": "e1338ff9",
   "metadata": {},
   "outputs": [
    {
     "name": "stdout",
     "output_type": "stream",
     "text": [
      "Name  :  Ahamed\n",
      "Age  :  23\n",
      "City  :  Tenkasi\n",
      "Gender  :  Male\n",
      "('Name', 'Ahamed')\n",
      "('Age', 23)\n",
      "('City', 'Tenkasi')\n",
      "('Gender', 'Male')\n"
     ]
    }
   ],
   "source": [
    "d={\"Name\":\"Ahamed\" , \"Age\":23 , \"City\": \"Tenkasi\", \"Gender\": \"Male\"}\n",
    " \n",
    "for k, v in d.items():\n",
    "    print(k,' : ',v)\n",
    "\n",
    "for i in d.items():\n",
    "    print(i)"
   ]
  },
  {
   "cell_type": "markdown",
   "id": "9ef4cc60",
   "metadata": {},
   "source": [
    "### 3.Write a Python script to merge two Python dictionaries"
   ]
  },
  {
   "cell_type": "code",
   "execution_count": 19,
   "id": "7b072212",
   "metadata": {},
   "outputs": [
    {
     "name": "stdout",
     "output_type": "stream",
     "text": [
      "{'Name': 'Ahamed', 'Age': 23, 'City': 'Tenkasi', 'Gender': 'Male'}\n"
     ]
    }
   ],
   "source": [
    "d1={\"Name\":\"Ahamed\" , \"Age\":23}\n",
    "d2={\"City\": \"Tenkasi\", \"Gender\": \"Male\"}\n",
    "res = d1.copy()\n",
    "res.update(d2)\n",
    "print(res)"
   ]
  },
  {
   "cell_type": "markdown",
   "id": "2bda3b06",
   "metadata": {},
   "source": [
    "### 4.Create a dictionary of keys a, b, and c"
   ]
  },
  {
   "cell_type": "code",
   "execution_count": 20,
   "id": "690eaa9f",
   "metadata": {},
   "outputs": [
    {
     "name": "stdout",
     "output_type": "stream",
     "text": [
      "{'A': [1, 2, 3, 4, 5, 6, 7, 8, 9, 10],\n",
      " 'Y': [11, 12, 13, 14, 15, 16, 17, 18, 19, 20],\n",
      " 'Z': [21, 22, 23, 24, 25, 26, 27, 28, 29, 30]}\n",
      "A  =  [1, 2, 3, 4, 5, 6, 7, 8, 9, 10]\n",
      "Y  =  [11, 12, 13, 14, 15, 16, 17, 18, 19, 20]\n",
      "Z  =  [21, 22, 23, 24, 25, 26, 27, 28, 29, 30]\n"
     ]
    }
   ],
   "source": [
    "from pprint import pprint\n",
    "num = dict(A=list(range(1, 11)), Y=list(range(11, 21)), Z=list(range(21, 31)))\n",
    "pprint(num) # pprint is used to print the result neatly\n",
    " \n",
    "for k,v in num.items():\n",
    "    print(k, \" = \", v)"
   ]
  },
  {
   "cell_type": "markdown",
   "id": "2bbf6bcc",
   "metadata": {},
   "source": [
    "### 5.Write a program to sort dictionary by values (Ascending/ Descending)"
   ]
  },
  {
   "cell_type": "code",
   "execution_count": 21,
   "id": "4397da28",
   "metadata": {},
   "outputs": [
    {
     "name": "stdout",
     "output_type": "stream",
     "text": [
      "\n",
      "Descending Order : [('m2', 89), ('m1', 78), ('m5', 71), ('m3', 64), ('m4', 35)]\n",
      "\n",
      "Ascending Order : [('m4', 35), ('m3', 64), ('m5', 71), ('m1', 78), ('m2', 89)]\n"
     ]
    }
   ],
   "source": [
    "import operator\n",
    "d={\"m1\":78 , \"m2\":89 , \"m3\":64 , \"m4\":35 , \"m5\":71}\n",
    " \n",
    "#Descending Order\n",
    "des = sorted(d.items(),key=operator.itemgetter(1),reverse=True)\n",
    "print(\"\\nDescending Order :\",des)\n",
    " \n",
    "#Ascending Order\n",
    "des = sorted(d.items(),key=operator.itemgetter(1))\n",
    "print(\"\\nAscending Order :\",des)"
   ]
  },
  {
   "cell_type": "markdown",
   "id": "7482b1e9",
   "metadata": {},
   "source": [
    "## String Exercises"
   ]
  },
  {
   "cell_type": "markdown",
   "id": "48666898",
   "metadata": {},
   "source": [
    "### 1.Write a Python program to remove punctuations from a given string"
   ]
  },
  {
   "cell_type": "code",
   "execution_count": 24,
   "id": "da6b3075",
   "metadata": {},
   "outputs": [
    {
     "name": "stdout",
     "output_type": "stream",
     "text": [
      "Original String :\n",
      "\t Remove. punctuations @from a% given string?\n",
      "After removing Punctuations :\n",
      "\t Remove punctuations from a given string\n"
     ]
    }
   ],
   "source": [
    "import string\n",
    "str = \"Remove. punctuations @from a% given string?\"\n",
    "print(\"Original String :\\n\\t\",str)\n",
    "for c in string.punctuation:\n",
    "    str = str.replace(c,\"\")\n",
    "print(\"After removing Punctuations :\\n\\t\",str)"
   ]
  },
  {
   "cell_type": "markdown",
   "id": "99b4c93a",
   "metadata": {},
   "source": [
    "### 2.Write a Python program find the common values that appear in two given strings"
   ]
  },
  {
   "cell_type": "code",
   "execution_count": 26,
   "id": "f7b03893",
   "metadata": {},
   "outputs": [
    {
     "name": "stdout",
     "output_type": "stream",
     "text": [
      "Original strings:\n",
      "UpperCase\n",
      "LowerCase\n",
      "Intersection of two said String: erCas\n"
     ]
    }
   ],
   "source": [
    "str1 = \"UpperCase\"\n",
    "str2 = \"LowerCase\"\n",
    "print(\"Original strings:\")\n",
    "print(str1)\n",
    "print(str2)\n",
    "res = \"\"\n",
    "for ch in str1:\n",
    "    if ch in str2 and not ch in res:\n",
    "         res += ch\n",
    "print(\"Intersection of two said String:\",res)"
   ]
  },
  {
   "cell_type": "markdown",
   "id": "8f6794ac",
   "metadata": {},
   "source": [
    "### 3.Write a Python program to find the index of a given string at which a given substring starts. If the substring is not found in the given string Not found"
   ]
  },
  {
   "cell_type": "code",
   "execution_count": 27,
   "id": "5344b97e",
   "metadata": {},
   "outputs": [
    {
     "name": "stdout",
     "output_type": "stream",
     "text": [
      "Index of the Substring =  7\n"
     ]
    }
   ],
   "source": [
    "str1 = \"Python Exercises\"\n",
    "pos = \"Ex\"\n",
    " \n",
    "if len(pos) > len(str1):\n",
    "    print(\"Not found\")\n",
    "else:\n",
    "    found = False\n",
    " \n",
    "    for i in range(len(str1)):\n",
    "        if str1[i:i+len(pos)] == pos:\n",
    "            print(\"Index of the Substring = \",i)\n",
    "            found = True\n",
    "            break\n",
    " \n",
    "    if not found:\n",
    "        print(\"Not found\")"
   ]
  },
  {
   "cell_type": "markdown",
   "id": "de0b064a",
   "metadata": {},
   "source": [
    "### 4.Write a Python program to delete all occurrences of a specified character in a given string"
   ]
  },
  {
   "cell_type": "code",
   "execution_count": 28,
   "id": "58f735f0",
   "metadata": {},
   "outputs": [
    {
     "name": "stdout",
     "output_type": "stream",
     "text": [
      "Original String : Hi Hello Welcome\n",
      "Delete All Occurrences Specified Given String : i ello Welcome\n"
     ]
    }
   ],
   "source": [
    "ch='H'\n",
    "str=\"Hi Hello Welcome\"\n",
    "print(\"Original String :\",str)\n",
    "res = str.replace(ch, \"\")\n",
    "print(\"Delete All Occurrences Specified Given String :\",res)"
   ]
  },
  {
   "cell_type": "markdown",
   "id": "559bbd63",
   "metadata": {},
   "source": [
    "### 5.Write a Python program to split a given multiline string into a list of lines"
   ]
  },
  {
   "cell_type": "code",
   "execution_count": 29,
   "id": "5e9f6dd9",
   "metadata": {},
   "outputs": [
    {
     "name": "stdout",
     "output_type": "stream",
     "text": [
      "['Hi', 'Hello', 'Welcome']\n"
     ]
    }
   ],
   "source": [
    "str = \"Hi\\nHello\\nWelcome\"\n",
    "print(str.split('\\n'))"
   ]
  },
  {
   "cell_type": "markdown",
   "id": "a0bd19e8",
   "metadata": {},
   "source": [
    "## Date and Time Exercises"
   ]
  },
  {
   "cell_type": "markdown",
   "id": "c67627d5",
   "metadata": {},
   "source": [
    "### 1.Write a Python program to generate RFC 3339 timestamp"
   ]
  },
  {
   "cell_type": "code",
   "execution_count": 30,
   "id": "1c30c6d5",
   "metadata": {},
   "outputs": [
    {
     "name": "stdout",
     "output_type": "stream",
     "text": [
      "2024-03-24T15:09:00.534130+05:30\n"
     ]
    }
   ],
   "source": [
    "from datetime import datetime, timezone\n",
    "lt = datetime.now(timezone.utc).astimezone()\n",
    "print(lt.isoformat())"
   ]
  },
  {
   "cell_type": "markdown",
   "id": "c278b86d",
   "metadata": {},
   "source": [
    "### 2.Write a Python program to Add five days from current date"
   ]
  },
  {
   "cell_type": "code",
   "execution_count": 31,
   "id": "03902d2b",
   "metadata": {},
   "outputs": [
    {
     "name": "stdout",
     "output_type": "stream",
     "text": [
      "2024-03-24\n",
      "2024-03-29\n"
     ]
    }
   ],
   "source": [
    "import datetime\n",
    "dt = datetime.date.today()\n",
    "nd = dt+datetime.timedelta(days=5)\n",
    "print(dt)\n",
    "print(nd)"
   ]
  },
  {
   "cell_type": "markdown",
   "id": "065a9fe4",
   "metadata": {},
   "source": [
    "### 3.Write a Python program to determine whether a given year is a leap year"
   ]
  },
  {
   "cell_type": "code",
   "execution_count": 32,
   "id": "41843d69",
   "metadata": {},
   "outputs": [
    {
     "name": "stdout",
     "output_type": "stream",
     "text": [
      "Enter the Year :2003\n",
      "False\n"
     ]
    }
   ],
   "source": [
    "\"\"\"\n",
    "#First Method\n",
    "def check_leap_year(y):\n",
    "    if y % 400 == 0:\n",
    "        return True\n",
    "    if y % 100 == 0:\n",
    "        return False\n",
    "    if y % 4 == 0:\n",
    "        return True\n",
    "    else:\n",
    "        return False\n",
    " \n",
    "y = int(input(\"Enter the Year :\"))\n",
    "print(check_leap_year(y))\n",
    "\"\"\"\n",
    "#Second Method\n",
    "import calendar\n",
    "def check_leap_year():\n",
    "    y = int(input(\"Enter the Year :\"))\n",
    "    print(calendar.isleap(y))\n",
    "check_leap_year()"
   ]
  },
  {
   "cell_type": "markdown",
   "id": "c8aacdd6",
   "metadata": {},
   "source": [
    "### 4.Write a Python program to convert the date to datetime (midnight of the date) in Python"
   ]
  },
  {
   "cell_type": "code",
   "execution_count": 33,
   "id": "e461a419",
   "metadata": {},
   "outputs": [
    {
     "name": "stdout",
     "output_type": "stream",
     "text": [
      "2024-03-24 00:00:00\n"
     ]
    }
   ],
   "source": [
    "from datetime import date\n",
    "from datetime import datetime\n",
    "dt = date.today()\n",
    "print(datetime.combine(dt, datetime.min.time()))"
   ]
  },
  {
   "cell_type": "markdown",
   "id": "a3e3b469",
   "metadata": {},
   "source": [
    "### 5.Write a Python script to display the various Date Time String formats"
   ]
  },
  {
   "cell_type": "code",
   "execution_count": 34,
   "id": "542c694d",
   "metadata": {},
   "outputs": [
    {
     "name": "stdout",
     "output_type": "stream",
     "text": [
      "\n",
      "1. Current Date and Time : 2024-03-24 15:09:03.378637\n",
      "2. Current Date : 2024-03-24\n",
      "3. Current Year : 2024\n",
      "4. Month of Year : 03\n",
      "5. Week Number of the Year : 12\n",
      "6. Weekday of the Week : 0\n",
      "7. Day of Year : 084\n",
      "8. Day of the Month : 24\n",
      "9. Day of Week : Sunday\n",
      "10. Current Time : 15:09:03.378637\n",
      "11. Current Hour : 15\n",
      "12. Current Minute : 09\n",
      "13. Current PM/AM : PM\n",
      "14. Local Version Date : 03/24/24\n",
      "15. Local Version Time : 15:09:03\n"
     ]
    }
   ],
   "source": [
    "import datetime\n",
    "dt = datetime.datetime.today()\n",
    "print(\"\\n1. Current Date and Time :\",dt)\n",
    "print(\"2. Current Date :\",dt.date())\n",
    "print(\"3. Current Year :\",dt.strftime(\"%Y\"))\n",
    "print(\"4. Month of Year :\",dt.strftime(\"%m\"))\n",
    "print(\"5. Week Number of the Year :\",dt.strftime(\"%W\"))\n",
    "print(\"6. Weekday of the Week :\",dt.strftime(\"%w\"))\n",
    "print(\"7. Day of Year :\",dt.strftime(\"%j\"))\n",
    "print(\"8. Day of the Month :\",dt.strftime(\"%d\"))\n",
    "print(\"9. Day of Week :\",dt.strftime(\"%A\"))\n",
    "print(\"10. Current Time :\",dt.time())\n",
    "print(\"11. Current Hour :\",dt.strftime(\"%H\"))\n",
    "print(\"12. Current Minute :\",dt.strftime(\"%M\"))\n",
    "print(\"13. Current PM/AM :\",dt.strftime(\"%p\"))\n",
    "print(\"14. Local Version Date :\",dt.strftime(\"%x\"))\n",
    "print(\"15. Local Version Time :\",dt.strftime(\"%X\"))"
   ]
  },
  {
   "cell_type": "markdown",
   "id": "7041bf32",
   "metadata": {},
   "source": [
    "## Math Exercises"
   ]
  },
  {
   "cell_type": "markdown",
   "id": "21501174",
   "metadata": {},
   "source": [
    "### 1.Write a Python program to convert degree to radian"
   ]
  },
  {
   "cell_type": "code",
   "execution_count": 35,
   "id": "f32de6ae",
   "metadata": {},
   "outputs": [
    {
     "name": "stdout",
     "output_type": "stream",
     "text": [
      "Enter Degree value : 34\n",
      "Degree to Radian :  0.5934119456780721\n"
     ]
    }
   ],
   "source": [
    "\"\"\"\n",
    "#Solution-1:\n",
    "pi=3.14\n",
    "d = float(input(\"Ente the Degrees : \"))\n",
    "r = d*(pi/180)\n",
    "print(r)\n",
    " \n",
    "#Solution-2:\n",
    "from math import pi\n",
    "deg = 90\n",
    "print( (deg * pi) / 180.0)\n",
    "\"\"\"\n",
    " \n",
    "#Solution-3:\n",
    "import math\n",
    " \n",
    "# Input degree value\n",
    "degree = float(input(\"Enter Degree value : \"))\n",
    " \n",
    "# Convert degrees to radians\n",
    "radian = math.radians(degree)\n",
    "print(\"Degree to Radian : \",radian)"
   ]
  },
  {
   "cell_type": "markdown",
   "id": "c5d1cc97",
   "metadata": {},
   "source": [
    "### 2.Write a Python program to calculate the area of a trapezoid"
   ]
  },
  {
   "cell_type": "code",
   "execution_count": 36,
   "id": "667c4707",
   "metadata": {},
   "outputs": [
    {
     "name": "stdout",
     "output_type": "stream",
     "text": [
      "Enter Height of Trapezoid: 7\n",
      "Enter the Base 1 Value :4\n",
      "Enter the Base 2 Value :5\n",
      "Area :  31.5\n"
     ]
    }
   ],
   "source": [
    "b1 = 5\n",
    "b2 = 6\n",
    "hgt = float(input(\"Enter Height of Trapezoid: \"))\n",
    "b1 = float(input(\"Enter the Base 1 Value :\"))\n",
    "b2 = float(input(\"Enter the Base 2 Value :\"))\n",
    "area = ((b1 + b2) / 2) * hgt\n",
    "print(\"Area : \", area)"
   ]
  },
  {
   "cell_type": "markdown",
   "id": "1506d377",
   "metadata": {},
   "source": [
    "### 3.Write a Python program to calculate the discriminant value\n",
    "The program calculates the roots of a quadratic equation of the form ax^2 + bx + c = 0, where a, b, and c are the coefficients of the quadratic equation entered by the user.\n",
    "\n",
    "The program first prompts the user to input the values of a, b, and c. It then calculates the discriminant value using the formula (b^2 - 4ac). The discriminant value is used to determine the number of roots of the quadratic equation.\n",
    "\n",
    "If the discriminant is positive, there are two real solutions to the equation. The program prints the discriminant value and the message \"Two Solutions.\" If the discriminant is zero, there is one real solution to the equation. The program prints the discriminant value and the message \"One Solution.\"\n",
    "\n",
    "If the discriminant is negative, there are no real solutions to the equation. The program prints the discriminant value and the message \"No Real Solutions.\""
   ]
  },
  {
   "cell_type": "code",
   "execution_count": 37,
   "id": "c6dd4fdb",
   "metadata": {},
   "outputs": [
    {
     "name": "stdout",
     "output_type": "stream",
     "text": [
      "Enter the a Value : 45\n",
      "Enter the b Value : 43\n",
      "Enter the c Value : 65\n",
      "No Real Solutions. Discriminant value is: -9851.0\n"
     ]
    }
   ],
   "source": [
    "a = float(input(\"Enter the a Value : \"))\n",
    "b = float(input(\"Enter the b Value : \"))\n",
    "c = float(input(\"Enter the c Value : \"))\n",
    "dis = (b**2) - (4*a*c)\n",
    "if dis > 0:\n",
    "    print(\"Two Solutions. Discriminant value is:\", dis)\n",
    "elif dis == 0:\n",
    "    print(\"One Solution. Discriminant value is:\", dis)\n",
    "elif dis < 0:\n",
    "    print(\"No Real Solutions. Discriminant value is:\", dis)"
   ]
  },
  {
   "cell_type": "markdown",
   "id": "a25376e7",
   "metadata": {},
   "source": [
    "### 4.Write a Python program to randomly select an item from a list"
   ]
  },
  {
   "cell_type": "code",
   "execution_count": 38,
   "id": "c6a4088c",
   "metadata": {},
   "outputs": [
    {
     "name": "stdout",
     "output_type": "stream",
     "text": [
      "JAVA\n"
     ]
    }
   ],
   "source": [
    "import random\n",
    "book = [\"C\",\"C++\",\"JAVA\",\"PYTHON\",\"MYSQL\",\"PHP\"]\n",
    "print(random.choice(book))"
   ]
  },
  {
   "cell_type": "markdown",
   "id": "ac856ff8",
   "metadata": {},
   "source": [
    "### 5.Write a Python program to print a complex number and its real and imaginary parts"
   ]
  },
  {
   "cell_type": "code",
   "execution_count": 39,
   "id": "f229913e",
   "metadata": {},
   "outputs": [
    {
     "name": "stdout",
     "output_type": "stream",
     "text": [
      "Enter the X Number :4\n",
      "Enter the Y Number :5\n",
      "Complex Number:  (4+5j)\n",
      "Real Part :  4.0\n",
      "Imaginary Part :  5.0\n"
     ]
    }
   ],
   "source": [
    "x = int(input(\"Enter the X Number :\"))\n",
    "y = int(input(\"Enter the Y Number :\"))\n",
    "com_num = complex(x,y)\n",
    "print(\"Complex Number: \",com_num)\n",
    "print(\"Real Part : \",com_num.real)\n",
    "print(\"Imaginary Part : \",com_num.imag)"
   ]
  },
  {
   "cell_type": "markdown",
   "id": "38d86485",
   "metadata": {},
   "source": [
    "## Class and Object Exercises"
   ]
  },
  {
   "cell_type": "markdown",
   "id": "c51d4063",
   "metadata": {},
   "source": [
    "### 1.Write a python program to Create Student Class with Constructor and Destructor"
   ]
  },
  {
   "cell_type": "code",
   "execution_count": 40,
   "id": "f3881985",
   "metadata": {},
   "outputs": [
    {
     "name": "stdout",
     "output_type": "stream",
     "text": [
      "Enter a ID :1\n",
      "Enter a Name :Ahamed\n",
      "Enter a Gender :Male\n",
      "Enter a Total :400\n",
      "Enter a Percentage :80\n",
      "Id : 1\n",
      "Name : Ahamed\n",
      "Gender : Male\n",
      "Total : 400\n",
      "Percentage : 80.0\n"
     ]
    }
   ],
   "source": [
    "class Student:\n",
    "    def __init__(self): #Constructor\n",
    "        self.id = 0\n",
    "        self.name = \"\"\n",
    "        self.gender = \"\"\n",
    "        self.total = \"\"\n",
    "        self.per = 0\n",
    " \n",
    "    def __del__(self): #Destructor\n",
    "        print(\"Object Destroyed\")\n",
    " \n",
    "    def setData(self):\n",
    "        self.id = int(input(\"Enter a ID :\"))\n",
    "        self.name = input(\"Enter a Name :\")\n",
    "        self.gender = input(\"Enter a Gender :\")\n",
    "        self.total = int(input(\"Enter a Total :\"))\n",
    "        self.per = float(input(\"Enter a Percentage :\"))\n",
    " \n",
    "    def showData(self):\n",
    "        print(\"Id :\",self.id)\n",
    "        print(\"Name :\", self.name)\n",
    "        print(\"Gender :\", self.gender)\n",
    "        print(\"Total :\", self.total)\n",
    "        print(\"Percentage :\", self.per)\n",
    "s = Student()# Create an instance of the Student class\n",
    "s.setData()# Set data for the instance\n",
    "s.showData()# Display data for the instance"
   ]
  },
  {
   "cell_type": "markdown",
   "id": "d4343a0d",
   "metadata": {},
   "source": [
    "### 2.Write a python program to search objects from an array of objects using filter() method"
   ]
  },
  {
   "cell_type": "code",
   "execution_count": 41,
   "id": "790cbf44",
   "metadata": {},
   "outputs": [
    {
     "name": "stdout",
     "output_type": "stream",
     "text": [
      "People older than 25 :\n",
      "Name : Sam\n",
      "Age : 30\n",
      "Name : Charlie\n",
      "Age : 29\n",
      "Name : Tiya\n",
      "Age : 27\n"
     ]
    }
   ],
   "source": [
    "class Person:\n",
    "    def __init__(self, name, age):\n",
    "        self.name = name\n",
    "        self.age = age\n",
    "\n",
    "# Create an array of Person objects\n",
    "people = [\n",
    "    Person(\"Kim\", 21),\n",
    "    Person(\"Sam\", 30),\n",
    "    Person(\"Charlie\", 29),\n",
    "    Person(\"Bob\", 25),\n",
    "    Person(\"Tiya\", 27),\n",
    "]\n",
    " \n",
    "# Define a function to filter people older than a certain age\n",
    "def is_older_than_25(person):\n",
    "    return person.age > 25\n",
    " \n",
    "# Use the filter() method to search for people older than 25\n",
    "filtered_people = filter(is_older_than_25, people)\n",
    " \n",
    "# Convert the filtered result to a list (optional)\n",
    "filtered_people_list = list(filtered_people)\n",
    " \n",
    "# Display the filtered results without f-strings\n",
    "print(\"People older than 25 :\")\n",
    "for person in filtered_people_list:\n",
    "    print(\"Name :\", person.name)\n",
    "    print(\"Age :\", person.age)"
   ]
  },
  {
   "cell_type": "markdown",
   "id": "ac309cd8",
   "metadata": {},
   "source": [
    "### 3.Write a python program to check prime number using object oriented approach"
   ]
  },
  {
   "cell_type": "code",
   "execution_count": 42,
   "id": "26a0e58e",
   "metadata": {},
   "outputs": [
    {
     "name": "stdout",
     "output_type": "stream",
     "text": [
      "Enter a Number : 23\n",
      "23 is a Prime Number\n"
     ]
    }
   ],
   "source": [
    "class PrimeChecker:\n",
    "    def __init__(self, num):\n",
    "        self.num = num\n",
    " \n",
    "    def is_prime(self):\n",
    "        if self.num <= 1:\n",
    "            return False\n",
    "        if self.num == 2:\n",
    "            return True\n",
    "        if self.num % 2 == 0:\n",
    "            return False\n",
    " \n",
    "        # Check for divisibility from 3 to the square root of the number\n",
    "        for i in range(3, int(self.num**0.5) + 1, 2):\n",
    "            if self.num % i == 0:\n",
    "                return False\n",
    " \n",
    "        return True\n",
    " \n",
    "num = int(input(\"Enter a Number : \"))\n",
    " \n",
    "checker = PrimeChecker(num)# Create an instance of PrimeChecker\n",
    " \n",
    "if checker.is_prime():\n",
    "    print(f\"{num} is a Prime Number\")\n",
    "else:\n",
    "    print(f\"{num} is not a Prime Number\")"
   ]
  },
  {
   "cell_type": "markdown",
   "id": "52ab1bf9",
   "metadata": {},
   "source": [
    "### 4.Write a python program to check Armstrong number using object oriented approach"
   ]
  },
  {
   "cell_type": "code",
   "execution_count": 46,
   "id": "8dfea955",
   "metadata": {},
   "outputs": [
    {
     "name": "stdout",
     "output_type": "stream",
     "text": [
      "Number of Objects :  4\n"
     ]
    }
   ],
   "source": [
    "class Student:\n",
    "    # Class variable to keep track of the number of objects created\n",
    "    count = 0\n",
    " \n",
    "    def __init__(self,name,age):\n",
    "        self.name = name\n",
    "        self.age = age\n",
    "        Student.count += 1 # Increment the count when an object is created\n",
    " \n",
    "    def GetDetails(self):\n",
    "        print(\"Name :\",self.name)\n",
    "        print(\"Age :\",self.age)\n",
    "\n",
    "# Create instances of MyClass\n",
    "s1 = Student(\"Ahamed\",21)\n",
    "s2 = Student(\"Najim\",20)\n",
    "s3 = Student(\"Rashid\",19)\n",
    "s3 = Student(\"Useth\",21)\n",
    " \n",
    "# Print the number of objects created\n",
    "print(\"Number of Objects : \", Student.count)"
   ]
  },
  {
   "cell_type": "markdown",
   "id": "ff66fb12",
   "metadata": {},
   "source": [
    "### 5.Write a python program to manage a phone store (mobile shop) record using class"
   ]
  },
  {
   "cell_type": "code",
   "execution_count": 44,
   "id": "6885de19",
   "metadata": {},
   "outputs": [
    {
     "name": "stdout",
     "output_type": "stream",
     "text": [
      "1. Add Phone to Inventory\n",
      "2. Remove Phone from Inventory\n",
      "3. Find Phone in Inventory\n",
      "4. Display Inventory\n",
      "5. Quit\n",
      "\n",
      "Enter your Choice : 1\n",
      "Enter Phone Brand : redmi\n",
      "Enter Phone Model : 9A\n",
      "Enter Phone Price : 10000\n",
      "Added redmi 9A to inventory.\n",
      "\n",
      "Enter your Choice : 1\n",
      "Enter Phone Brand : Samsung\n",
      "Enter Phone Model : F15\n",
      "Enter Phone Price : 15000\n",
      "Added Samsung F15 to inventory.\n",
      "\n",
      "Enter your Choice : 4\n",
      "Phone Store Inventory :\n",
      "Brand : Redmi, Model : 9a, Price : $10000.00\n",
      "Brand : Samsung, Model : F15, Price : $15000.00\n",
      "\n",
      "Enter your Choice : 5\n"
     ]
    }
   ],
   "source": [
    "class Phone:\n",
    "    def __init__(self, brand, model, price):\n",
    "        self.brand = brand\n",
    "        self.model = model\n",
    "        self.price = price\n",
    "\n",
    "class PhoneStore:\n",
    "    def __init__(self):\n",
    "        self.inventory = []\n",
    " \n",
    "    def add_phone(self, phone):\n",
    "        self.inventory.append(phone)\n",
    " \n",
    "    def remove_phone(self, brand, model):\n",
    "        for phone in self.inventory:\n",
    "            if phone.brand == brand and phone.model == model:\n",
    "                self.inventory.remove(phone)\n",
    "                print(f\"Removed {brand} {model} from inventory.\")\n",
    "                return\n",
    "        print(f\"{brand} {model} not found in inventory.\")\n",
    " \n",
    "    def find_phone(self, brand, model):\n",
    "        for phone in self.inventory:\n",
    "            if phone.brand == brand and phone.model == model:\n",
    "                return phone\n",
    "        return None\n",
    " \n",
    "    def display_inventory(self):\n",
    "        print(\"Phone Store Inventory :\")\n",
    "        for phone in self.inventory:\n",
    "            print(f\"Brand : {phone.brand}, Model : {phone.model}, Price : ${phone.price:.2f}\")\n",
    " \n",
    " \n",
    "phone_store = PhoneStore()\n",
    " \n",
    "print(\"1. Add Phone to Inventory\")\n",
    "print(\"2. Remove Phone from Inventory\")\n",
    "print(\"3. Find Phone in Inventory\")\n",
    "print(\"4. Display Inventory\")\n",
    "print(\"5. Quit\")\n",
    " \n",
    "while True:\n",
    "    choice = input(\"\\nEnter your Choice : \")\n",
    " \n",
    "    if choice == \"1\":\n",
    "        brand = input(\"Enter Phone Brand : \")\n",
    "        model = input(\"Enter Phone Model : \")\n",
    "        price = float(input(\"Enter Phone Price : \"))\n",
    "        phone = Phone(brand.capitalize(), model.capitalize(), price)\n",
    "        phone_store.add_phone(phone)\n",
    "        print(f\"Added {brand} {model} to inventory.\")\n",
    "    elif choice == \"2\":\n",
    "        brand = input(\"Enter Phone Brand to Remove : \")\n",
    "        model = input(\"Enter Phone Model to Remove : \")\n",
    "        phone_store.remove_phone(brand.capitalize(), model.capitalize())\n",
    "    elif choice == \"3\":\n",
    "        brand = input(\"Enter Phone Brand to Find : \")\n",
    "        model = input(\"Enter Phone Model to Find : \")\n",
    "        found_phone = phone_store.find_phone(brand.capitalize(), model.capitalize())\n",
    "        if found_phone:\n",
    "            print(f\"Found {brand} {model} in inventory. Price : ${found_phone.price:.2f}\")\n",
    "        else:\n",
    "            print(f\"{brand} {model} not found in inventory.\")\n",
    "    elif choice == \"4\":\n",
    "        phone_store.display_inventory()\n",
    "    elif choice == \"5\":\n",
    "        break\n",
    "    else:\n",
    "        print(\"Invalid choice. Please try again.\")"
   ]
  },
  {
   "cell_type": "markdown",
   "id": "c07b622a",
   "metadata": {},
   "source": [
    "### Prepared By,\n",
    "Ahamed Basith"
   ]
  },
  {
   "cell_type": "code",
   "execution_count": null,
   "id": "45fd2733",
   "metadata": {},
   "outputs": [],
   "source": []
  }
 ],
 "metadata": {
  "kernelspec": {
   "display_name": "Python 3 (ipykernel)",
   "language": "python",
   "name": "python3"
  },
  "language_info": {
   "codemirror_mode": {
    "name": "ipython",
    "version": 3
   },
   "file_extension": ".py",
   "mimetype": "text/x-python",
   "name": "python",
   "nbconvert_exporter": "python",
   "pygments_lexer": "ipython3",
   "version": "3.11.5"
  }
 },
 "nbformat": 4,
 "nbformat_minor": 5
}
